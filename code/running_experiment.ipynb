{
 "cells": [
  {
   "cell_type": "code",
   "execution_count": 1,
   "id": "fe8fb47e-1864-42d0-b355-2265baa9580b",
   "metadata": {},
   "outputs": [],
   "source": [
    "import numpy as np\n",
    "import pandas as pd\n",
    "from utils import *"
   ]
  },
  {
   "cell_type": "code",
   "execution_count": 2,
   "id": "ba7f36c9-92ac-4491-9c73-9381b4488c38",
   "metadata": {},
   "outputs": [],
   "source": [
    "# importing the data\n",
    "datafolder = '../../data/hateful_memes/'\n",
    "test = datafolder+'test_unseen_with_features.csv'\n",
    "dev = datafolder+'dev_unseen_with_features.csv'\n",
    "df_dev = pd.read_csv(dev, keep_default_na=False)\n",
    "df_test = pd.read_csv(test, keep_default_na=False)"
   ]
  },
  {
   "cell_type": "code",
   "execution_count": 3,
   "id": "d58e1a68-92dc-48c0-93c3-dd0e74ee738a",
   "metadata": {},
   "outputs": [],
   "source": [
    "models = ['hatebert_vectors', 'hatebert_direct', 'bert_base_cased_finetuned',\n",
    "          'svm_BoW_baseline_linear_C10', 'baseline_svm_char_kernelC10', 'Advanced_svm_linear_100K_C10',\n",
    "         'ResNet_svm_rbf_kernel', 'ResNet_svm_linear_kernelC10']"
   ]
  },
  {
   "cell_type": "code",
   "execution_count": 14,
   "id": "ac704bad-c904-4de4-aac2-3dce88986262",
   "metadata": {},
   "outputs": [
    {
     "name": "stdout",
     "output_type": "stream",
     "text": [
      "\\begin{tabular}{llrrrrr}\n",
      " & model & f1_score & precision & recall & accuracy & AUROC \\\\\n",
      "0 & GBensemble & 0.623000 & 0.624000 & 0.631000 & 0.634000 & 0.631000 \\\\\n",
      "\\end{tabular}\n",
      "\n"
     ]
    }
   ],
   "source": [
    "print((model_performance(df_test,['GBensemble']).round(3)).style.to_latex())"
   ]
  },
  {
   "cell_type": "code",
   "execution_count": 6,
   "id": "f3626c05-2870-4450-a909-e0a8c3f28f9c",
   "metadata": {},
   "outputs": [
    {
     "data": {
      "text/html": [
       "<div>\n",
       "<style scoped>\n",
       "    .dataframe tbody tr th:only-of-type {\n",
       "        vertical-align: middle;\n",
       "    }\n",
       "\n",
       "    .dataframe tbody tr th {\n",
       "        vertical-align: top;\n",
       "    }\n",
       "\n",
       "    .dataframe thead th {\n",
       "        text-align: right;\n",
       "    }\n",
       "</style>\n",
       "<table border=\"1\" class=\"dataframe\">\n",
       "  <thead>\n",
       "    <tr style=\"text-align: right;\">\n",
       "      <th></th>\n",
       "      <th>model</th>\n",
       "      <th>f1_score</th>\n",
       "      <th>precision</th>\n",
       "      <th>recall</th>\n",
       "      <th>accuracy</th>\n",
       "      <th>AUROC</th>\n",
       "    </tr>\n",
       "  </thead>\n",
       "  <tbody>\n",
       "    <tr>\n",
       "      <th>0</th>\n",
       "      <td>GBensemble</td>\n",
       "      <td>0.677378</td>\n",
       "      <td>0.675998</td>\n",
       "      <td>0.686029</td>\n",
       "      <td>0.688889</td>\n",
       "      <td>0.686029</td>\n",
       "    </tr>\n",
       "  </tbody>\n",
       "</table>\n",
       "</div>"
      ],
      "text/plain": [
       "        model  f1_score  precision    recall  accuracy     AUROC\n",
       "0  GBensemble  0.677378   0.675998  0.686029  0.688889  0.686029"
      ]
     },
     "execution_count": 6,
     "metadata": {},
     "output_type": "execute_result"
    }
   ],
   "source": [
    "model_performance(df_dev, ['GBensemble'])"
   ]
  },
  {
   "cell_type": "code",
   "execution_count": 5,
   "id": "0476bd58-24cb-4873-aded-9cf9486eedb9",
   "metadata": {},
   "outputs": [
    {
     "data": {
      "text/html": [
       "<div>\n",
       "<style scoped>\n",
       "    .dataframe tbody tr th:only-of-type {\n",
       "        vertical-align: middle;\n",
       "    }\n",
       "\n",
       "    .dataframe tbody tr th {\n",
       "        vertical-align: top;\n",
       "    }\n",
       "\n",
       "    .dataframe thead th {\n",
       "        text-align: right;\n",
       "    }\n",
       "</style>\n",
       "<table border=\"1\" class=\"dataframe\">\n",
       "  <thead>\n",
       "    <tr style=\"text-align: right;\">\n",
       "      <th></th>\n",
       "      <th>model</th>\n",
       "      <th>f1_score</th>\n",
       "      <th>precision</th>\n",
       "      <th>recall</th>\n",
       "      <th>accuracy</th>\n",
       "      <th>AUROC</th>\n",
       "    </tr>\n",
       "  </thead>\n",
       "  <tbody>\n",
       "    <tr>\n",
       "      <th>2</th>\n",
       "      <td>bert_base_cased_finetuned</td>\n",
       "      <td>0.634960</td>\n",
       "      <td>0.634199</td>\n",
       "      <td>0.640800</td>\n",
       "      <td>0.6480</td>\n",
       "      <td>0.640800</td>\n",
       "    </tr>\n",
       "    <tr>\n",
       "      <th>5</th>\n",
       "      <td>Advanced_svm_linear_100K_C10</td>\n",
       "      <td>0.603995</td>\n",
       "      <td>0.607322</td>\n",
       "      <td>0.602533</td>\n",
       "      <td>0.6365</td>\n",
       "      <td>0.602533</td>\n",
       "    </tr>\n",
       "    <tr>\n",
       "      <th>3</th>\n",
       "      <td>svm_BoW_baseline_linear_C10</td>\n",
       "      <td>0.590395</td>\n",
       "      <td>0.596253</td>\n",
       "      <td>0.589067</td>\n",
       "      <td>0.6290</td>\n",
       "      <td>0.589067</td>\n",
       "    </tr>\n",
       "    <tr>\n",
       "      <th>4</th>\n",
       "      <td>baseline_svm_char_kernelC10</td>\n",
       "      <td>0.582555</td>\n",
       "      <td>0.582185</td>\n",
       "      <td>0.583067</td>\n",
       "      <td>0.6065</td>\n",
       "      <td>0.583067</td>\n",
       "    </tr>\n",
       "    <tr>\n",
       "      <th>0</th>\n",
       "      <td>hatebert_vectors</td>\n",
       "      <td>0.529799</td>\n",
       "      <td>0.580486</td>\n",
       "      <td>0.548000</td>\n",
       "      <td>0.6280</td>\n",
       "      <td>0.548000</td>\n",
       "    </tr>\n",
       "    <tr>\n",
       "      <th>7</th>\n",
       "      <td>ResNet_svm_linear_kernelC10</td>\n",
       "      <td>0.520613</td>\n",
       "      <td>0.520854</td>\n",
       "      <td>0.521467</td>\n",
       "      <td>0.5435</td>\n",
       "      <td>0.521467</td>\n",
       "    </tr>\n",
       "    <tr>\n",
       "      <th>1</th>\n",
       "      <td>hatebert_direct</td>\n",
       "      <td>0.452859</td>\n",
       "      <td>0.555457</td>\n",
       "      <td>0.515200</td>\n",
       "      <td>0.6220</td>\n",
       "      <td>0.515200</td>\n",
       "    </tr>\n",
       "    <tr>\n",
       "      <th>6</th>\n",
       "      <td>ResNet_svm_rbf_kernel</td>\n",
       "      <td>0.476061</td>\n",
       "      <td>0.528750</td>\n",
       "      <td>0.513600</td>\n",
       "      <td>0.6060</td>\n",
       "      <td>0.513600</td>\n",
       "    </tr>\n",
       "  </tbody>\n",
       "</table>\n",
       "</div>"
      ],
      "text/plain": [
       "                          model  f1_score  precision    recall  accuracy  \\\n",
       "2     bert_base_cased_finetuned  0.634960   0.634199  0.640800    0.6480   \n",
       "5  Advanced_svm_linear_100K_C10  0.603995   0.607322  0.602533    0.6365   \n",
       "3   svm_BoW_baseline_linear_C10  0.590395   0.596253  0.589067    0.6290   \n",
       "4   baseline_svm_char_kernelC10  0.582555   0.582185  0.583067    0.6065   \n",
       "0              hatebert_vectors  0.529799   0.580486  0.548000    0.6280   \n",
       "7   ResNet_svm_linear_kernelC10  0.520613   0.520854  0.521467    0.5435   \n",
       "1               hatebert_direct  0.452859   0.555457  0.515200    0.6220   \n",
       "6         ResNet_svm_rbf_kernel  0.476061   0.528750  0.513600    0.6060   \n",
       "\n",
       "      AUROC  \n",
       "2  0.640800  \n",
       "5  0.602533  \n",
       "3  0.589067  \n",
       "4  0.583067  \n",
       "0  0.548000  \n",
       "7  0.521467  \n",
       "1  0.515200  \n",
       "6  0.513600  "
      ]
     },
     "execution_count": 5,
     "metadata": {},
     "output_type": "execute_result"
    }
   ],
   "source": [
    "model_performance(df_test,models)"
   ]
  },
  {
   "cell_type": "code",
   "execution_count": 7,
   "id": "d28593ac-05e9-489a-b08d-27a2f94523f7",
   "metadata": {},
   "outputs": [
    {
     "data": {
      "text/html": [
       "<div>\n",
       "<style scoped>\n",
       "    .dataframe tbody tr th:only-of-type {\n",
       "        vertical-align: middle;\n",
       "    }\n",
       "\n",
       "    .dataframe tbody tr th {\n",
       "        vertical-align: top;\n",
       "    }\n",
       "\n",
       "    .dataframe thead th {\n",
       "        text-align: right;\n",
       "    }\n",
       "</style>\n",
       "<table border=\"1\" class=\"dataframe\">\n",
       "  <thead>\n",
       "    <tr style=\"text-align: right;\">\n",
       "      <th></th>\n",
       "      <th>model</th>\n",
       "      <th>f1_score</th>\n",
       "      <th>precision</th>\n",
       "      <th>recall</th>\n",
       "      <th>accuracy</th>\n",
       "      <th>AUROC</th>\n",
       "    </tr>\n",
       "  </thead>\n",
       "  <tbody>\n",
       "    <tr>\n",
       "      <th>0</th>\n",
       "      <td>GBensemble</td>\n",
       "      <td>0.62279</td>\n",
       "      <td>0.62356</td>\n",
       "      <td>0.6308</td>\n",
       "      <td>0.6335</td>\n",
       "      <td>0.6308</td>\n",
       "    </tr>\n",
       "  </tbody>\n",
       "</table>\n",
       "</div>"
      ],
      "text/plain": [
       "        model  f1_score  precision  recall  accuracy   AUROC\n",
       "0  GBensemble   0.62279    0.62356  0.6308    0.6335  0.6308"
      ]
     },
     "execution_count": 7,
     "metadata": {},
     "output_type": "execute_result"
    }
   ],
   "source": [
    "model_performance(df_test, ['GBensemble'])"
   ]
  },
  {
   "cell_type": "code",
   "execution_count": 5,
   "id": "d22d280a-c6c5-40e7-82c9-7b2ccd2792cb",
   "metadata": {},
   "outputs": [
    {
     "name": "stdout",
     "output_type": "stream",
     "text": [
      "\\begin{tabular}{llrrrr}\n",
      " & model & f1_score & precision & recall & accuracy \\\\\n",
      "0 & GBensemble & 0.677378 & 0.675998 & 0.686029 & 0.688889 \\\\\n",
      "\\end{tabular}\n",
      "\n",
      "\\begin{tabular}{llrrrr}\n",
      " & model & f1_score & precision & recall & accuracy \\\\\n",
      "2 & bert_base_cased_finetuned & 0.703885 & 0.704100 & 0.703676 & 0.724074 \\\\\n",
      "5 & Advanced_svm_linear_100K_C10 & 0.668692 & 0.676182 & 0.665000 & 0.700000 \\\\\n",
      "4 & baseline_svm_char_kernelC10 & 0.650051 & 0.652472 & 0.648382 & 0.677778 \\\\\n",
      "3 & svm_BoW_baseline_linear_C10 & 0.650048 & 0.653832 & 0.647794 & 0.679630 \\\\\n",
      "7 & ResNet_svm_linear_kernelC10 & 0.604930 & 0.609676 & 0.617500 & 0.612963 \\\\\n",
      "6 & ResNet_svm_rbf_kernel & 0.541446 & 0.563198 & 0.547941 & 0.614815 \\\\\n",
      "0 & hatebert_vectors & 0.527964 & 0.572035 & 0.544412 & 0.625926 \\\\\n",
      "1 & hatebert_direct & 0.485714 & 0.624000 & 0.536471 & 0.644444 \\\\\n",
      "\\end{tabular}\n",
      "\n",
      "\\begin{tabular}{llrrrr}\n",
      " & model & f1_score & precision & recall & accuracy \\\\\n",
      "0 & GBensemble & 0.622790 & 0.623560 & 0.630800 & 0.633500 \\\\\n",
      "\\end{tabular}\n",
      "\n",
      "\\begin{tabular}{llrrrr}\n",
      " & model & f1_score & precision & recall & accuracy \\\\\n",
      "2 & bert_base_cased_finetuned & 0.634960 & 0.634199 & 0.640800 & 0.648000 \\\\\n",
      "5 & Advanced_svm_linear_100K_C10 & 0.603995 & 0.607322 & 0.602533 & 0.636500 \\\\\n",
      "3 & svm_BoW_baseline_linear_C10 & 0.590395 & 0.596253 & 0.589067 & 0.629000 \\\\\n",
      "4 & baseline_svm_char_kernelC10 & 0.582555 & 0.582185 & 0.583067 & 0.606500 \\\\\n",
      "0 & hatebert_vectors & 0.529799 & 0.580486 & 0.548000 & 0.628000 \\\\\n",
      "7 & ResNet_svm_linear_kernelC10 & 0.520613 & 0.520854 & 0.521467 & 0.543500 \\\\\n",
      "6 & ResNet_svm_rbf_kernel & 0.476061 & 0.528750 & 0.513600 & 0.606000 \\\\\n",
      "1 & hatebert_direct & 0.452859 & 0.555457 & 0.515200 & 0.622000 \\\\\n",
      "\\end{tabular}\n",
      "\n"
     ]
    }
   ],
   "source": [
    "print(model_performance(df_dev, ['GBensemble']).style.to_latex())\n",
    "print(model_performance(df_dev,models).style.to_latex())\n",
    "print(model_performance(df_test, ['GBensemble']).style.to_latex())\n",
    "print(model_performance(df_test,models).style.to_latex())"
   ]
  }
 ],
 "metadata": {
  "kernelspec": {
   "display_name": "Python 3 (ipykernel)",
   "language": "python",
   "name": "python3"
  },
  "language_info": {
   "codemirror_mode": {
    "name": "ipython",
    "version": 3
   },
   "file_extension": ".py",
   "mimetype": "text/x-python",
   "name": "python",
   "nbconvert_exporter": "python",
   "pygments_lexer": "ipython3",
   "version": "3.10.7"
  }
 },
 "nbformat": 4,
 "nbformat_minor": 5
}
