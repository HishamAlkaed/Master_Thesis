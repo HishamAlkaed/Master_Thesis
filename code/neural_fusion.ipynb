{
 "cells": [
  {
   "cell_type": "code",
   "execution_count": 1,
   "id": "330dba44-df58-4947-91dc-bb5fe86db4ed",
   "metadata": {},
   "outputs": [],
   "source": [
    "import pandas as pd\n",
    "import numpy as np\n",
    "import pandas as pd\n",
    "from sklearn.feature_extraction.text import CountVectorizer\n",
    "from sklearn.svm import LinearSVC\n",
    "from sklearn.calibration import CalibratedClassifierCV\n",
    "from sklearn.metrics import precision_recall_fscore_support, classification_report, auc, roc_curve\n",
    "from scipy.sparse import hstack\n",
    "import torch\n",
    "import torch.nn as nn\n",
    "import torch.nn.functional as F\n",
    "import torch.optim as optim\n",
    "from datasets import load_dataset, Image, concatenate_datasets\n",
    "from torch.utils.data import DataLoader, Dataset, TensorDataset\n",
    "from utils import *"
   ]
  },
  {
   "cell_type": "code",
   "execution_count": null,
   "id": "c2895de9-e361-4c10-9c55-1bca58f51f47",
   "metadata": {},
   "outputs": [],
   "source": [
    "import warnings\n",
    "\n",
    "def fxn():\n",
    "    warnings.warn(\"deprecated\", DeprecationWarning)\n",
    "\n",
    "with warnings.catch_warnings():\n",
    "    warnings.simplefilter(\"ignore\")\n",
    "    fxn()"
   ]
  },
  {
   "cell_type": "code",
   "execution_count": null,
   "id": "947ed912-e5a6-4911-9dea-c0092ad370b4",
   "metadata": {},
   "outputs": [],
   "source": [
    "# importing the data\n",
    "datafolder = '../../data/'\n",
    "train = datafolder+'train_with_features.csv'\n",
    "test = datafolder+'test_with_features.csv'\n",
    "dev = datafolder+'dev_with_features.csv'\n",
    "test_unseen = datafolder+'test_unseen_with_features.csv'\n",
    "dev_unseen = datafolder+'dev_unseen_with_features.csv'\n",
    "df_train_org = pd.read_csv(train, skip_blank_lines=False)\n",
    "df_dev = pd.read_csv(dev, skip_blank_lines=False)\n",
    "df_dev_unseen = pd.read_csv(dev_unseen, skip_blank_lines=False)\n",
    "df_test = pd.read_csv(test, skip_blank_lines=False)\n",
    "df_test_unseen = pd.read_csv(test_unseen, skip_blank_lines=False)\n",
    "df_train = pd.concat([df_dev, df_test], ignore_index=True, axis=0)\n",
    "df_test = df_test_unseen\n",
    "df_dev = df_dev_unseen\n",
    "df_train = df_train.fillna('')"
   ]
  },
  {
   "cell_type": "raw",
   "id": "21c00a77-7a37-4edf-8d69-75c8e5f1c0b1",
   "metadata": {},
   "source": [
    "Block (c) concatenates the three decision vectors.Finally, \n",
    "block (d) is the classiﬁcation modulecomprised of four fully connected layers. \n",
    "    The sizeof the ﬁrst layer is equal to Ktimes the number of classes N.\n",
    "    The second layer equals (4×N) which is greater than the size of the ﬁrst layer to again avoidthe Bottleneck phenomenon.\n",
    "    The size of the thirdlayer is 2×N, which is associated with a dropout.\n",
    "    The fourth (last) layer is a softmax function of a size equal to the number of classes."
   ]
  },
  {
   "cell_type": "markdown",
   "id": "49cd97ee-0ca8-44db-91ee-8506d0075d39",
   "metadata": {},
   "source": [
    "# ResNet50:"
   ]
  },
  {
   "cell_type": "code",
   "execution_count": null,
   "id": "c280ecf6-1bd7-4cc6-9b04-c12bdf97e929",
   "metadata": {},
   "outputs": [],
   "source": [
    "train_img_org = torch.stack(torch.load('image_embeddings/train_img_tensors.pt'))\n",
    "train_img1 = torch.stack(torch.load('image_embeddings/dev_img_tensors.pt'))\n",
    "train_img2 = torch.stack(torch.load('image_embeddings/test_img_tensors.pt'))\n",
    "\n",
    "dev_img = torch.stack(torch.load('image_embeddings/dev_unseen_img_tensors.pt'))\n",
    "test_img = torch.stack(torch.load('image_embeddings/test_unseen_img_tensors.pt'))\n",
    "\n",
    "train_img = torch.cat((train_img1,train_img2), dim=0)\n",
    "\n",
    "Y_train_org = df_train_org['label']\n",
    "Y_train = df_train['label']\n",
    "Y_dev = df_dev['label']\n",
    "Y_test = df_test['label']\n",
    "\n",
    "train_X_org = [np.array(x.cpu()).flatten() for x in train_img_org]\n",
    "train_X = [np.array(x.cpu()).flatten() for x in train_img]\n",
    "dev_X = [np.array(x.cpu()).flatten() for x in dev_img]\n",
    "test_X = [np.array(x.cpu()).flatten() for x in test_img]"
   ]
  },
  {
   "cell_type": "code",
   "execution_count": 5,
   "id": "640fb840-a3e5-434a-b590-b43c70539fd0",
   "metadata": {},
   "outputs": [
    {
     "data": {
      "text/html": [
       "<style>#sk-container-id-1 {color: black;background-color: white;}#sk-container-id-1 pre{padding: 0;}#sk-container-id-1 div.sk-toggleable {background-color: white;}#sk-container-id-1 label.sk-toggleable__label {cursor: pointer;display: block;width: 100%;margin-bottom: 0;padding: 0.3em;box-sizing: border-box;text-align: center;}#sk-container-id-1 label.sk-toggleable__label-arrow:before {content: \"▸\";float: left;margin-right: 0.25em;color: #696969;}#sk-container-id-1 label.sk-toggleable__label-arrow:hover:before {color: black;}#sk-container-id-1 div.sk-estimator:hover label.sk-toggleable__label-arrow:before {color: black;}#sk-container-id-1 div.sk-toggleable__content {max-height: 0;max-width: 0;overflow: hidden;text-align: left;background-color: #f0f8ff;}#sk-container-id-1 div.sk-toggleable__content pre {margin: 0.2em;color: black;border-radius: 0.25em;background-color: #f0f8ff;}#sk-container-id-1 input.sk-toggleable__control:checked~div.sk-toggleable__content {max-height: 200px;max-width: 100%;overflow: auto;}#sk-container-id-1 input.sk-toggleable__control:checked~label.sk-toggleable__label-arrow:before {content: \"▾\";}#sk-container-id-1 div.sk-estimator input.sk-toggleable__control:checked~label.sk-toggleable__label {background-color: #d4ebff;}#sk-container-id-1 div.sk-label input.sk-toggleable__control:checked~label.sk-toggleable__label {background-color: #d4ebff;}#sk-container-id-1 input.sk-hidden--visually {border: 0;clip: rect(1px 1px 1px 1px);clip: rect(1px, 1px, 1px, 1px);height: 1px;margin: -1px;overflow: hidden;padding: 0;position: absolute;width: 1px;}#sk-container-id-1 div.sk-estimator {font-family: monospace;background-color: #f0f8ff;border: 1px dotted black;border-radius: 0.25em;box-sizing: border-box;margin-bottom: 0.5em;}#sk-container-id-1 div.sk-estimator:hover {background-color: #d4ebff;}#sk-container-id-1 div.sk-parallel-item::after {content: \"\";width: 100%;border-bottom: 1px solid gray;flex-grow: 1;}#sk-container-id-1 div.sk-label:hover label.sk-toggleable__label {background-color: #d4ebff;}#sk-container-id-1 div.sk-serial::before {content: \"\";position: absolute;border-left: 1px solid gray;box-sizing: border-box;top: 0;bottom: 0;left: 50%;z-index: 0;}#sk-container-id-1 div.sk-serial {display: flex;flex-direction: column;align-items: center;background-color: white;padding-right: 0.2em;padding-left: 0.2em;position: relative;}#sk-container-id-1 div.sk-item {position: relative;z-index: 1;}#sk-container-id-1 div.sk-parallel {display: flex;align-items: stretch;justify-content: center;background-color: white;position: relative;}#sk-container-id-1 div.sk-item::before, #sk-container-id-1 div.sk-parallel-item::before {content: \"\";position: absolute;border-left: 1px solid gray;box-sizing: border-box;top: 0;bottom: 0;left: 50%;z-index: -1;}#sk-container-id-1 div.sk-parallel-item {display: flex;flex-direction: column;z-index: 1;position: relative;background-color: white;}#sk-container-id-1 div.sk-parallel-item:first-child::after {align-self: flex-end;width: 50%;}#sk-container-id-1 div.sk-parallel-item:last-child::after {align-self: flex-start;width: 50%;}#sk-container-id-1 div.sk-parallel-item:only-child::after {width: 0;}#sk-container-id-1 div.sk-dashed-wrapped {border: 1px dashed gray;margin: 0 0.4em 0.5em 0.4em;box-sizing: border-box;padding-bottom: 0.4em;background-color: white;}#sk-container-id-1 div.sk-label label {font-family: monospace;font-weight: bold;display: inline-block;line-height: 1.2em;}#sk-container-id-1 div.sk-label-container {text-align: center;}#sk-container-id-1 div.sk-container {/* jupyter's `normalize.less` sets `[hidden] { display: none; }` but bootstrap.min.css set `[hidden] { display: none !important; }` so we also need the `!important` here to be able to override the default hidden behavior on the sphinx rendered scikit-learn.org. See: https://github.com/scikit-learn/scikit-learn/issues/21755 */display: inline-block !important;position: relative;}#sk-container-id-1 div.sk-text-repr-fallback {display: none;}</style><div id=\"sk-container-id-1\" class=\"sk-top-container\"><div class=\"sk-text-repr-fallback\"><pre>SVC(C=10, kernel=&#x27;linear&#x27;, probability=True)</pre><b>In a Jupyter environment, please rerun this cell to show the HTML representation or trust the notebook. <br />On GitHub, the HTML representation is unable to render, please try loading this page with nbviewer.org.</b></div><div class=\"sk-container\" hidden><div class=\"sk-item\"><div class=\"sk-estimator sk-toggleable\"><input class=\"sk-toggleable__control sk-hidden--visually\" id=\"sk-estimator-id-1\" type=\"checkbox\" checked><label for=\"sk-estimator-id-1\" class=\"sk-toggleable__label sk-toggleable__label-arrow\">SVC</label><div class=\"sk-toggleable__content\"><pre>SVC(C=10, kernel=&#x27;linear&#x27;, probability=True)</pre></div></div></div></div></div>"
      ],
      "text/plain": [
       "SVC(C=10, kernel='linear', probability=True)"
      ]
     },
     "execution_count": 5,
     "metadata": {},
     "output_type": "execute_result"
    }
   ],
   "source": [
    "# from sklearn.svm import SVC\n",
    "# clf_svc = SVC(kernel='linear', C=10, probability = True) \n",
    "# clf_svc.fit(train_X_org, Y_train_org)"
   ]
  },
  {
   "cell_type": "markdown",
   "id": "33f9be18-459f-4a33-b1b3-e74f4d29a3e7",
   "metadata": {},
   "source": [
    "### Note: This model took approx 18 hours to run. Hence it is better if saved to disk: size on disk 4.3 GB"
   ]
  },
  {
   "cell_type": "code",
   "execution_count": 8,
   "id": "85a79bad-3b55-4dcc-8f96-903d11884eca",
   "metadata": {},
   "outputs": [],
   "source": [
    "import pickle\n",
    "\n",
    "# # Save model to disk\n",
    "# with open('models/ResNet50_lin_c10_model.pkl', 'wb') as f:\n",
    "#     pickle.dump(clf_svc, f)\n",
    "\n",
    "\n",
    "# This will save the `clf_svc` object to a file named `ResNet50_lin_c10_model.pkl` in binary mode (`'wb'`). To load the model from disk, you can use the `pickle.load()` function as follows:\n",
    "\n",
    "\n",
    "# Load saved model\n",
    "with open('models/ResNet50_lin_c10_model.pkl', 'rb') as f:\n",
    "    clf_svc = pickle.load(f)\n",
    "\n"
   ]
  },
  {
   "cell_type": "code",
   "execution_count": 9,
   "id": "3d4e1083-18af-40da-83b0-12a0d65a2cde",
   "metadata": {},
   "outputs": [],
   "source": [
    "y_dev_proba_ResNet = clf_svc.predict_proba(dev_X)\n",
    "y_test_proba_ResNet = clf_svc.predict_proba(test_X)\n",
    "y_train_proba_ResNet = clf_svc.predict_proba(train_X)"
   ]
  },
  {
   "cell_type": "markdown",
   "id": "275a42b9-81fe-4b87-a660-3b60f897e712",
   "metadata": {},
   "source": [
    "# BoW:"
   ]
  },
  {
   "cell_type": "code",
   "execution_count": 13,
   "id": "43957ffb-2fe6-4f01-84dc-3b70174fe9c8",
   "metadata": {},
   "outputs": [],
   "source": [
    "train_original = datafolder+'train_with_features.csv'\n",
    "df_train_original = pd.read_csv(train_original, skip_blank_lines=False)\n",
    "Y_train_original = df_train_original['label']\n",
    "df_train_original = df_train_original.fillna('')"
   ]
  },
  {
   "cell_type": "code",
   "execution_count": 14,
   "id": "e2a9e623-c63e-43ae-b97b-5d14a28c3921",
   "metadata": {},
   "outputs": [],
   "source": [
    "vectorizer_BoW = CountVectorizer(tokenizer=lambda x: x.split(), analyzer='word', ngram_range=(1, 1)) # to build 1n-grams from the word ==> BoW\n",
    "                \n",
    "X_train_original_BoW = vectorizer_BoW.fit_transform(df_train_original.tokens)\n",
    "X_train_BoW = vectorizer_BoW.transform(df_train.tokens)\n",
    "X_dev_BoW = vectorizer_BoW.transform(df_dev.tokens) \n",
    "X_test_BoW = vectorizer_BoW.transform(df_test.tokens)\n",
    "\n",
    "clf = LinearSVC(max_iter=1000000, C = 10,random_state =456) \n",
    "clf_svc_BoW = CalibratedClassifierCV(clf) \n",
    "\n",
    "clf_svc_BoW.fit(X_train_original_BoW, Y_train_original)\n",
    "\n",
    "y_train_proba_BoW = clf_svc_BoW.predict_proba(X_train_BoW)\n",
    "y_dev_proba_BoW = clf_svc_BoW.predict_proba(X_dev_BoW)\n",
    "y_test_proba_BoW = clf_svc_BoW.predict_proba(X_test_BoW)\n"
   ]
  },
  {
   "cell_type": "code",
   "execution_count": 25,
   "id": "b00c8542-2961-42ff-9bb2-761fb7db6919",
   "metadata": {},
   "outputs": [],
   "source": [
    "from utils import *"
   ]
  },
  {
   "cell_type": "code",
   "execution_count": 26,
   "id": "18e0189a-8819-4deb-99ff-0f280d5ecaff",
   "metadata": {},
   "outputs": [],
   "source": [
    "X_train_Bow = fuse_proba(y_train_proba_BoW, y_train_proba_ResNet)\n",
    "X_dev_Bow = fuse_proba(y_dev_proba_BoW, y_dev_proba_ResNet)\n",
    "X_test_Bow = fuse_proba(y_test_proba_BoW, y_test_proba_ResNet)\n",
    "\n",
    "BoW_ResNet_results = late_fuse_MLPX(X_train_Bow, Y_train, X_dev_Bow, Y_dev, X_test_Bow, Y_test)"
   ]
  },
  {
   "cell_type": "code",
   "execution_count": 24,
   "id": "4f7c5f18-9c89-4a2c-bcb6-91ae903875c4",
   "metadata": {},
   "outputs": [
    {
     "data": {
      "text/plain": [
       "(   f1_score  precision    recall  accuracy     AUROC\n",
       " 0  0.514628    0.57903  0.571912  0.516667  0.571912,\n",
       "    f1_score  precision    recall  accuracy     AUROC\n",
       " 0  0.517674   0.561345  0.559467     0.518  0.559467)"
      ]
     },
     "execution_count": 24,
     "metadata": {},
     "output_type": "execute_result"
    }
   ],
   "source": [
    "BoW_ResNet_results"
   ]
  },
  {
   "cell_type": "code",
   "execution_count": 27,
   "id": "de292f67-edc9-4200-b071-1f265213b245",
   "metadata": {},
   "outputs": [
    {
     "data": {
      "text/plain": [
       "(   f1_score  precision  recall  accuracy  AUROC\n",
       " 0  0.527063    0.55305   0.555  0.527778  0.555,\n",
       "    f1_score  precision    recall  accuracy     AUROC\n",
       " 0  0.551913   0.565965  0.569867     0.555  0.569867)"
      ]
     },
     "execution_count": 27,
     "metadata": {},
     "output_type": "execute_result"
    }
   ],
   "source": [
    "late_fuse_MLPX(X_train_Bow, Y_train, X_dev_Bow, Y_dev, X_test_Bow, Y_test)"
   ]
  },
  {
   "cell_type": "code",
   "execution_count": 28,
   "id": "1433939d-6d6c-4994-bd0b-b57a37a9a1ad",
   "metadata": {},
   "outputs": [
    {
     "data": {
      "text/plain": [
       "(   f1_score  precision    recall  accuracy     AUROC\n",
       " 0  0.505513   0.580559  0.570147  0.509259  0.570147,\n",
       "    f1_score  precision    recall  accuracy     AUROC\n",
       " 0  0.506816   0.558596  0.554933     0.508  0.554933)"
      ]
     },
     "execution_count": 28,
     "metadata": {},
     "output_type": "execute_result"
    }
   ],
   "source": [
    "late_fuse_MLPX(X_train_Bow, Y_train, X_dev_Bow, Y_dev, X_test_Bow, Y_test)"
   ]
  },
  {
   "cell_type": "code",
   "execution_count": 29,
   "id": "13b97f20-64a0-4cba-9010-bdf0fbec9ea0",
   "metadata": {},
   "outputs": [
    {
     "data": {
      "text/plain": [
       "(   f1_score  precision    recall  accuracy     AUROC\n",
       " 0  0.535577   0.536269  0.537941  0.555556  0.537941,\n",
       "    f1_score  precision    recall  accuracy     AUROC\n",
       " 0  0.564338   0.564001  0.564933    0.5885  0.564933)"
      ]
     },
     "execution_count": 29,
     "metadata": {},
     "output_type": "execute_result"
    }
   ],
   "source": [
    "late_fuse_MLPX(X_train_Bow, Y_train, X_dev_Bow, Y_dev, X_test_Bow, Y_test)"
   ]
  },
  {
   "cell_type": "code",
   "execution_count": 30,
   "id": "3acd9c7a-ae0d-4921-88fa-37546e4cdb63",
   "metadata": {},
   "outputs": [
    {
     "data": {
      "text/plain": [
       "(   f1_score  precision    recall  accuracy     AUROC\n",
       " 0  0.505533   0.508818  0.507941  0.559259  0.507941,\n",
       "    f1_score  precision  recall  accuracy   AUROC\n",
       " 0  0.554545     0.5677  0.5568     0.611  0.5568)"
      ]
     },
     "execution_count": 30,
     "metadata": {},
     "output_type": "execute_result"
    }
   ],
   "source": [
    "late_fuse_MLPX(X_train_Bow, Y_train, X_dev_Bow, Y_dev, X_test_Bow, Y_test)"
   ]
  },
  {
   "cell_type": "code",
   "execution_count": 31,
   "id": "6701d1b9-1d58-4f5a-a8b4-a5af582c73a0",
   "metadata": {},
   "outputs": [
    {
     "data": {
      "text/plain": [
       "(   f1_score  precision    recall  accuracy     AUROC\n",
       " 0  0.526684   0.529004  0.530735  0.542593  0.530735,\n",
       "    f1_score  precision    recall  accuracy     AUROC\n",
       " 0   0.56961   0.569356  0.571867    0.5885  0.571867)"
      ]
     },
     "execution_count": 31,
     "metadata": {},
     "output_type": "execute_result"
    }
   ],
   "source": [
    "late_fuse_MLPX(X_train_Bow, Y_train, X_dev_Bow, Y_dev, X_test_Bow, Y_test)"
   ]
  },
  {
   "cell_type": "code",
   "execution_count": 32,
   "id": "0ea13978-e8d2-4e6a-8b76-06aa17e35d2d",
   "metadata": {},
   "outputs": [
    {
     "data": {
      "text/plain": [
       "(   f1_score  precision    recall  accuracy     AUROC\n",
       " 0  0.519644    0.57227  0.568676   0.52037  0.568676,\n",
       "    f1_score  precision    recall  accuracy     AUROC\n",
       " 0   0.52797   0.560566  0.561067     0.528  0.561067)"
      ]
     },
     "execution_count": 32,
     "metadata": {},
     "output_type": "execute_result"
    }
   ],
   "source": [
    "late_fuse_MLPX(X_train_Bow, Y_train, X_dev_Bow, Y_dev, X_test_Bow, Y_test)"
   ]
  },
  {
   "cell_type": "code",
   "execution_count": 33,
   "id": "229086c3-2242-40b5-aff9-de7ab42981d7",
   "metadata": {},
   "outputs": [
    {
     "data": {
      "text/plain": [
       "(   f1_score  precision    recall  accuracy     AUROC\n",
       " 0  0.527559   0.528932  0.527647  0.568519  0.527647,\n",
       "    f1_score  precision    recall  accuracy     AUROC\n",
       " 0  0.555791   0.562918  0.556267     0.603  0.556267)"
      ]
     },
     "execution_count": 33,
     "metadata": {},
     "output_type": "execute_result"
    }
   ],
   "source": [
    "late_fuse_MLPX(X_train_Bow, Y_train, X_dev_Bow, Y_dev, X_test_Bow, Y_test)"
   ]
  },
  {
   "cell_type": "code",
   "execution_count": 34,
   "id": "9c11da08-2921-4a7c-810a-9aa4da1ef7c8",
   "metadata": {},
   "outputs": [
    {
     "data": {
      "text/plain": [
       "(   f1_score  precision    recall  accuracy     AUROC\n",
       " 0  0.530305   0.537453  0.540147  0.538889  0.540147,\n",
       "    f1_score  precision    recall  accuracy     AUROC\n",
       " 0   0.56474   0.565826  0.569333     0.579  0.569333)"
      ]
     },
     "execution_count": 34,
     "metadata": {},
     "output_type": "execute_result"
    }
   ],
   "source": [
    "late_fuse_MLPX(X_train_Bow, Y_train, X_dev_Bow, Y_dev, X_test_Bow, Y_test)"
   ]
  },
  {
   "cell_type": "code",
   "execution_count": 35,
   "id": "94dc419e-a67c-425e-863f-ed89fb7a1c78",
   "metadata": {},
   "outputs": [
    {
     "data": {
      "text/plain": [
       "(   f1_score  precision    recall  accuracy     AUROC\n",
       " 0  0.513105   0.574405  0.568382  0.514815  0.568382,\n",
       "    f1_score  precision    recall  accuracy     AUROC\n",
       " 0   0.52249   0.558821  0.558533    0.5225  0.558533)"
      ]
     },
     "execution_count": 35,
     "metadata": {},
     "output_type": "execute_result"
    }
   ],
   "source": [
    "late_fuse_MLPX(X_train_Bow, Y_train, X_dev_Bow, Y_dev, X_test_Bow, Y_test)"
   ]
  },
  {
   "cell_type": "code",
   "execution_count": 80,
   "id": "958646dd-8799-4e5e-9973-568ee1d68381",
   "metadata": {},
   "outputs": [
    {
     "name": "stdout",
     "output_type": "stream",
     "text": [
      "Average Development: \n",
      "   f1_score  precision    recall  accuracy     AUROC\n",
      "0  0.515675   0.541404  0.539809  0.540926  0.539809 \n",
      "Average Test: \n",
      "   f1_score  precision    recall  accuracy     AUROC\n",
      "0  0.542267   0.564144  0.559493     0.571  0.559493\n"
     ]
    }
   ],
   "source": [
    "run_multiple_times(X_train_Bow, Y_train, X_dev_Bow, Y_dev, X_test_Bow, Y_test)"
   ]
  },
  {
   "cell_type": "markdown",
   "id": "734b5d74-6c9d-41bf-ad97-638b72b233e0",
   "metadata": {},
   "source": [
    "# Char-n-gram:"
   ]
  },
  {
   "cell_type": "code",
   "execution_count": 36,
   "id": "d5ceab4d-04a9-4e04-8608-4c9a08818f71",
   "metadata": {},
   "outputs": [
    {
     "name": "stderr",
     "output_type": "stream",
     "text": [
      "C:\\Users\\Hisha\\AppData\\Local\\Programs\\Python\\Python310\\lib\\site-packages\\sklearn\\svm\\_base.py:1225: ConvergenceWarning: Liblinear failed to converge, increase the number of iterations.\n",
      "  warnings.warn(\n",
      "C:\\Users\\Hisha\\AppData\\Local\\Programs\\Python\\Python310\\lib\\site-packages\\sklearn\\svm\\_base.py:1225: ConvergenceWarning: Liblinear failed to converge, increase the number of iterations.\n",
      "  warnings.warn(\n",
      "C:\\Users\\Hisha\\AppData\\Local\\Programs\\Python\\Python310\\lib\\site-packages\\sklearn\\svm\\_base.py:1225: ConvergenceWarning: Liblinear failed to converge, increase the number of iterations.\n",
      "  warnings.warn(\n",
      "C:\\Users\\Hisha\\AppData\\Local\\Programs\\Python\\Python310\\lib\\site-packages\\sklearn\\svm\\_base.py:1225: ConvergenceWarning: Liblinear failed to converge, increase the number of iterations.\n",
      "  warnings.warn(\n"
     ]
    }
   ],
   "source": [
    "vectorizer_char = CountVectorizer(tokenizer=lambda x: list(x), analyzer='char', ngram_range=(1, 3)) # to build 1n-grams from the word ==> BoW\n",
    "\n",
    "X_train_original_char = vectorizer_char.fit_transform(df_train_original.tokens)\n",
    "X_train_char = vectorizer_char.transform(df_train.tokens)\n",
    "X_dev_char = vectorizer_char.transform(df_dev.tokens) \n",
    "X_test_char = vectorizer_char.transform(df_test.tokens)\n",
    "\n",
    "clf = LinearSVC(max_iter=1000000, C = 10, random_state =456) \n",
    "clf_svc_char = CalibratedClassifierCV(clf) \n",
    "clf_svc_char.fit(X_train_original_char, Y_train_original)\n",
    "\n",
    "y_train_proba_char = clf_svc_char.predict_proba(X_train_char)\n",
    "y_dev_proba_char = clf_svc_char.predict_proba(X_dev_char)\n",
    "y_test_proba_char = clf_svc_char.predict_proba(X_test_char)"
   ]
  },
  {
   "cell_type": "code",
   "execution_count": 37,
   "id": "6a3ffcd2-19c4-455f-81ff-f1a219843117",
   "metadata": {},
   "outputs": [],
   "source": [
    "X_train_char = fuse_proba(y_train_proba_char, y_train_proba_ResNet)\n",
    "X_dev_char = fuse_proba(y_dev_proba_char, y_dev_proba_ResNet)\n",
    "X_test_char = fuse_proba(y_test_proba_char, y_test_proba_ResNet)\n",
    "\n",
    "char_ResNet_results = late_fuse_MLPX(X_train_char, Y_train, X_dev_char, Y_dev, X_test_char, Y_test)"
   ]
  },
  {
   "cell_type": "code",
   "execution_count": 38,
   "id": "c8358eaa-2b1e-471c-b9a5-1d2ad044157e",
   "metadata": {},
   "outputs": [
    {
     "data": {
      "text/plain": [
       "(   f1_score  precision    recall  accuracy     AUROC\n",
       " 0  0.513105   0.533727  0.535441  0.514815  0.535441,\n",
       "    f1_score  precision    recall  accuracy     AUROC\n",
       " 0  0.534239   0.549456  0.552267     0.537  0.552267)"
      ]
     },
     "execution_count": 38,
     "metadata": {},
     "output_type": "execute_result"
    }
   ],
   "source": [
    "char_ResNet_results"
   ]
  },
  {
   "cell_type": "code",
   "execution_count": 39,
   "id": "7b8a89df-3579-4574-9246-4277f1fe9e57",
   "metadata": {},
   "outputs": [
    {
     "data": {
      "text/plain": [
       "(   f1_score  precision    recall  accuracy     AUROC\n",
       " 0  0.471875   0.486377  0.490588  0.568519  0.490588,\n",
       "    f1_score  precision    recall  accuracy     AUROC\n",
       " 0  0.520414   0.555681  0.536267     0.612  0.536267)"
      ]
     },
     "execution_count": 39,
     "metadata": {},
     "output_type": "execute_result"
    }
   ],
   "source": [
    "late_fuse_MLPX(X_train_char, Y_train, X_dev_char, Y_dev, X_test_char, Y_test)"
   ]
  },
  {
   "cell_type": "code",
   "execution_count": 40,
   "id": "86b0ee09-fbac-4c47-a487-39ac24ca8986",
   "metadata": {},
   "outputs": [
    {
     "data": {
      "text/plain": [
       "(   f1_score  precision    recall  accuracy     AUROC\n",
       " 0  0.492759   0.497436  0.497794  0.555556  0.497794,\n",
       "    f1_score  precision    recall  accuracy     AUROC\n",
       " 0  0.534193   0.549073  0.539467     0.599  0.539467)"
      ]
     },
     "execution_count": 40,
     "metadata": {},
     "output_type": "execute_result"
    }
   ],
   "source": [
    "late_fuse_MLPX(X_train_char, Y_train, X_dev_char, Y_dev, X_test_char, Y_test)"
   ]
  },
  {
   "cell_type": "code",
   "execution_count": 41,
   "id": "fcd974cc-aa92-46f9-8c91-39316021277d",
   "metadata": {},
   "outputs": [
    {
     "data": {
      "text/plain": [
       "(   f1_score  precision    recall  accuracy     AUROC\n",
       " 0  0.469457   0.490146  0.493824  0.577778  0.493824,\n",
       "    f1_score  precision    recall  accuracy     AUROC\n",
       " 0  0.514069   0.558856  0.534933     0.616  0.534933)"
      ]
     },
     "execution_count": 41,
     "metadata": {},
     "output_type": "execute_result"
    }
   ],
   "source": [
    "late_fuse_MLPX(X_train_char, Y_train, X_dev_char, Y_dev, X_test_char, Y_test)"
   ]
  },
  {
   "cell_type": "code",
   "execution_count": 42,
   "id": "fccdc65e-f593-44c9-9c96-42d407dc4491",
   "metadata": {},
   "outputs": [
    {
     "data": {
      "text/plain": [
       "(   f1_score  precision    recall  accuracy     AUROC\n",
       " 0    0.4908   0.497169  0.497647  0.559259  0.497647,\n",
       "    f1_score  precision    recall  accuracy     AUROC\n",
       " 0   0.53241   0.549745  0.538933     0.601  0.538933)"
      ]
     },
     "execution_count": 42,
     "metadata": {},
     "output_type": "execute_result"
    }
   ],
   "source": [
    "late_fuse_MLPX(X_train_char, Y_train, X_dev_char, Y_dev, X_test_char, Y_test)"
   ]
  },
  {
   "cell_type": "code",
   "execution_count": 43,
   "id": "2814d0f2-ff8a-436f-b8b0-6b574b55cf17",
   "metadata": {},
   "outputs": [
    {
     "data": {
      "text/plain": [
       "(   f1_score  precision    recall  accuracy     AUROC\n",
       " 0  0.516049   0.516017  0.516176  0.546296  0.516176,\n",
       "    f1_score  precision    recall  accuracy     AUROC\n",
       " 0  0.545639   0.546703  0.545333      0.58  0.545333)"
      ]
     },
     "execution_count": 43,
     "metadata": {},
     "output_type": "execute_result"
    }
   ],
   "source": [
    "late_fuse_MLPX(X_train_char, Y_train, X_dev_char, Y_dev, X_test_char, Y_test)"
   ]
  },
  {
   "cell_type": "code",
   "execution_count": 44,
   "id": "6a576673-b471-4e6d-91fd-b879d0b6609f",
   "metadata": {},
   "outputs": [
    {
     "data": {
      "text/plain": [
       "(   f1_score  precision    recall  accuracy     AUROC\n",
       " 0  0.517718    0.54292  0.544559  0.518519  0.544559,\n",
       "    f1_score  precision  recall  accuracy   AUROC\n",
       " 0  0.528344   0.549504  0.5516    0.5295  0.5516)"
      ]
     },
     "execution_count": 44,
     "metadata": {},
     "output_type": "execute_result"
    }
   ],
   "source": [
    "late_fuse_MLPX(X_train_char, Y_train, X_dev_char, Y_dev, X_test_char, Y_test)"
   ]
  },
  {
   "cell_type": "code",
   "execution_count": 45,
   "id": "5ccab46b-e629-4526-8d5d-4f2dbb928410",
   "metadata": {},
   "outputs": [
    {
     "data": {
      "text/plain": [
       "(   f1_score  precision    recall  accuracy     AUROC\n",
       " 0   0.51208   0.512135  0.512059  0.546296  0.512059,\n",
       "    f1_score  precision  recall  accuracy   AUROC\n",
       " 0  0.547008   0.549347  0.5468    0.5855  0.5468)"
      ]
     },
     "execution_count": 45,
     "metadata": {},
     "output_type": "execute_result"
    }
   ],
   "source": [
    "late_fuse_MLPX(X_train_char, Y_train, X_dev_char, Y_dev, X_test_char, Y_test)"
   ]
  },
  {
   "cell_type": "code",
   "execution_count": 46,
   "id": "d820814a-424d-43af-b5c1-3722c72253ac",
   "metadata": {},
   "outputs": [
    {
     "data": {
      "text/plain": [
       "(   f1_score  precision    recall  accuracy     AUROC\n",
       " 0  0.471472   0.479219  0.483971  0.553704  0.483971,\n",
       "    f1_score  precision  recall  accuracy  AUROC\n",
       " 0  0.533879   0.561519   0.544     0.613  0.544)"
      ]
     },
     "execution_count": 46,
     "metadata": {},
     "output_type": "execute_result"
    }
   ],
   "source": [
    "late_fuse_MLPX(X_train_char, Y_train, X_dev_char, Y_dev, X_test_char, Y_test)"
   ]
  },
  {
   "cell_type": "code",
   "execution_count": 47,
   "id": "859c9beb-f9d9-46cf-a371-5ffdc40779c6",
   "metadata": {},
   "outputs": [
    {
     "data": {
      "text/plain": [
       "(   f1_score  precision    recall  accuracy     AUROC\n",
       " 0  0.508097    0.50814  0.508088  0.542593  0.508088,\n",
       "    f1_score  precision    recall  accuracy     AUROC\n",
       " 0  0.543618    0.54573  0.543467     0.582  0.543467)"
      ]
     },
     "execution_count": 47,
     "metadata": {},
     "output_type": "execute_result"
    }
   ],
   "source": [
    "late_fuse_MLPX(X_train_char, Y_train, X_dev_char, Y_dev, X_test_char, Y_test)"
   ]
  },
  {
   "cell_type": "code",
   "execution_count": 81,
   "id": "3f533e02-eb60-4eed-8c65-b0e473a34d35",
   "metadata": {},
   "outputs": [
    {
     "name": "stderr",
     "output_type": "stream",
     "text": [
      "C:\\Users\\Hisha\\AppData\\Local\\Programs\\Python\\Python310\\lib\\site-packages\\sklearn\\metrics\\_classification.py:1334: UndefinedMetricWarning: Precision and F-score are ill-defined and being set to 0.0 in labels with no predicted samples. Use `zero_division` parameter to control this behavior.\n",
      "  _warn_prf(average, modifier, msg_start, len(result))\n",
      "C:\\Users\\Hisha\\AppData\\Local\\Programs\\Python\\Python310\\lib\\site-packages\\sklearn\\metrics\\_classification.py:1334: UndefinedMetricWarning: Precision and F-score are ill-defined and being set to 0.0 in labels with no predicted samples. Use `zero_division` parameter to control this behavior.\n",
      "  _warn_prf(average, modifier, msg_start, len(result))\n",
      "C:\\Users\\Hisha\\AppData\\Local\\Programs\\Python\\Python310\\lib\\site-packages\\sklearn\\metrics\\_classification.py:1334: UndefinedMetricWarning: Precision and F-score are ill-defined and being set to 0.0 in labels with no predicted samples. Use `zero_division` parameter to control this behavior.\n",
      "  _warn_prf(average, modifier, msg_start, len(result))\n",
      "C:\\Users\\Hisha\\AppData\\Local\\Programs\\Python\\Python310\\lib\\site-packages\\sklearn\\metrics\\_classification.py:1334: UndefinedMetricWarning: Precision and F-score are ill-defined and being set to 0.0 in labels with no predicted samples. Use `zero_division` parameter to control this behavior.\n",
      "  _warn_prf(average, modifier, msg_start, len(result))\n",
      "C:\\Users\\Hisha\\AppData\\Local\\Programs\\Python\\Python310\\lib\\site-packages\\sklearn\\metrics\\_classification.py:1334: UndefinedMetricWarning: Precision and F-score are ill-defined and being set to 0.0 in labels with no predicted samples. Use `zero_division` parameter to control this behavior.\n",
      "  _warn_prf(average, modifier, msg_start, len(result))\n",
      "C:\\Users\\Hisha\\AppData\\Local\\Programs\\Python\\Python310\\lib\\site-packages\\sklearn\\metrics\\_classification.py:1334: UndefinedMetricWarning: Precision and F-score are ill-defined and being set to 0.0 in labels with no predicted samples. Use `zero_division` parameter to control this behavior.\n",
      "  _warn_prf(average, modifier, msg_start, len(result))\n"
     ]
    },
    {
     "name": "stdout",
     "output_type": "stream",
     "text": [
      "Average Development: \n",
      "   f1_score  precision    recall  accuracy     AUROC\n",
      "0  0.488398   0.496267  0.516074  0.550185  0.516074 \n",
      "Average Test: \n",
      "   f1_score  precision    recall  accuracy     AUROC\n",
      "0  0.514967   0.527744  0.540493   0.57555  0.540493\n"
     ]
    }
   ],
   "source": [
    "run_multiple_times(X_train_char, Y_train, X_dev_char, Y_dev, X_test_char, Y_test)"
   ]
  },
  {
   "cell_type": "markdown",
   "id": "a5cf0397-c88f-4230-b8ab-fdf57a4e1479",
   "metadata": {},
   "source": [
    "# Advanced SVM:"
   ]
  },
  {
   "cell_type": "code",
   "execution_count": 48,
   "id": "b1743bf0-c147-4338-8f2c-26a900112f6e",
   "metadata": {},
   "outputs": [],
   "source": [
    "df_train_original = df_train_original.fillna('')\n",
    "df_train = df_train.fillna('')\n",
    "df_dev = df_dev.fillna('')\n",
    "df_test = df_test.fillna('')"
   ]
  },
  {
   "cell_type": "code",
   "execution_count": 51,
   "id": "70a1821b-7862-48e5-a2ad-24c32d491bec",
   "metadata": {},
   "outputs": [],
   "source": [
    "vectorizer1 = CountVectorizer(tokenizer=lambda x: x.split(), analyzer='word', ngram_range=(1, 3)) # to build n-grams (n=1-3) from the pos_fw_emo representation\n",
    "vectorizer2 = CountVectorizer(tokenizer=lambda x: x.split(), analyzer='word', ngram_range=(1, 1)) # unigrams of emotion associations\n",
    "vectorizer3 = CountVectorizer(tokenizer=lambda x: x.split(), analyzer='word', ngram_range=(1, 1)) # unigrams of tokens (BoW)\n",
    "vectorizer4 = CountVectorizer(tokenizer=lambda x: x.split(), analyzer='word', ngram_range=(1, 4)) # unigrams of intent (BoW)\n",
    "\n",
    "\n",
    "# combine the features\n",
    "X_train_original_advanced = hstack((vectorizer1.fit_transform(df_train_original.pos_fw_emo), vectorizer2.fit_transform(df_train_original.emotion_associations), df_train_original[['count']].values, \\\n",
    "                df_train_original[['sentiment_score']].values, vectorizer3.fit_transform(df_train_original.tokens), vectorizer4.fit_transform(df_train_original.intent)), format='csr') \n",
    "\n",
    "X_train_advanced = hstack((vectorizer1.transform(df_train.pos_fw_emo), vectorizer2.transform(df_train.emotion_associations), df_train[['count']].values, \\\n",
    "                df_train[['sentiment_score']].values, vectorizer3.transform(df_train.tokens), vectorizer4.transform(df_train.intent) ), format='csr') \n",
    "\n",
    "X_dev_advanced = hstack((vectorizer1.transform(df_dev.pos_fw_emo), vectorizer2.transform(df_dev.emotion_associations), df_dev[['count']].values, \\\n",
    "                df_dev[['sentiment_score']].values, vectorizer3.transform(df_dev.tokens), vectorizer4.transform(df_dev.intent) ), format='csr') \n",
    "\n",
    "X_test_advanced = hstack((vectorizer1.transform(df_test.pos_fw_emo), vectorizer2.transform(df_test.emotion_associations), df_test[['count']].values, \\\n",
    "                df_test[['sentiment_score']].values, vectorizer3.transform(df_test.tokens), vectorizer4.transform(df_test.intent) ), format='csr') \n",
    "\n",
    "clf = LinearSVC(max_iter=1000000, C = 10, random_state =456) \n",
    "clf_svc_advanced = CalibratedClassifierCV(clf) \n",
    "clf_svc_advanced.fit(X_train_original_advanced, Y_train_original)\n",
    "\n",
    "y_train_proba_advanced = clf_svc_advanced.predict_proba(X_train_advanced)\n",
    "y_dev_proba_advanced = clf_svc_advanced.predict_proba(X_dev_advanced)\n",
    "y_test_proba_advanced = clf_svc_advanced.predict_proba(X_test_advanced)"
   ]
  },
  {
   "cell_type": "code",
   "execution_count": 52,
   "id": "1baca68f-e7dc-4719-a017-8d64369d8d64",
   "metadata": {},
   "outputs": [],
   "source": [
    "X_train_advanced = fuse_proba(y_train_proba_advanced, y_train_proba_ResNet)\n",
    "X_dev_advanced = fuse_proba(y_dev_proba_advanced, y_dev_proba_ResNet)\n",
    "X_test_advanced = fuse_proba(y_test_proba_advanced, y_test_proba_ResNet)\n",
    "\n",
    "advanced_ResNet_results = late_fuse_MLPX(X_train_advanced, Y_train, X_dev_advanced, Y_dev, X_test_advanced, Y_test)"
   ]
  },
  {
   "cell_type": "code",
   "execution_count": 53,
   "id": "bd61b6d1-3a04-4c3e-9a0a-ac00d29e4b64",
   "metadata": {},
   "outputs": [
    {
     "data": {
      "text/plain": [
       "(   f1_score  precision    recall  accuracy     AUROC\n",
       " 0  0.481243   0.566638  0.525294  0.627778  0.525294,\n",
       "    f1_score  precision    recall  accuracy     AUROC\n",
       " 0  0.484958   0.577775  0.529333     0.628  0.529333)"
      ]
     },
     "execution_count": 53,
     "metadata": {},
     "output_type": "execute_result"
    }
   ],
   "source": [
    "advanced_ResNet_results"
   ]
  },
  {
   "cell_type": "code",
   "execution_count": 54,
   "id": "bc06fbf5-d5c9-4eec-a3f4-1cb004f4c0a7",
   "metadata": {},
   "outputs": [
    {
     "data": {
      "text/plain": [
       "(   f1_score  precision    recall  accuracy     AUROC\n",
       " 0  0.484064   0.567104  0.526324  0.627778  0.526324,\n",
       "    f1_score  precision    recall  accuracy     AUROC\n",
       " 0  0.488671   0.577794  0.530667     0.628  0.530667)"
      ]
     },
     "execution_count": 54,
     "metadata": {},
     "output_type": "execute_result"
    }
   ],
   "source": [
    "late_fuse_MLPX(X_train_advanced, Y_train, X_dev_advanced, Y_dev, X_test_advanced, Y_test)"
   ]
  },
  {
   "cell_type": "code",
   "execution_count": 55,
   "id": "0ea8de7b-d32c-4616-bac3-f295b8234bd8",
   "metadata": {},
   "outputs": [
    {
     "data": {
      "text/plain": [
       "(   f1_score  precision    recall  accuracy     AUROC\n",
       " 0   0.47744   0.534332  0.515588  0.612963  0.515588,\n",
       "    f1_score  precision    recall  accuracy     AUROC\n",
       " 0  0.505235   0.572088  0.535467     0.625  0.535467)"
      ]
     },
     "execution_count": 55,
     "metadata": {},
     "output_type": "execute_result"
    }
   ],
   "source": [
    "late_fuse_MLPX(X_train_advanced, Y_train, X_dev_advanced, Y_dev, X_test_advanced, Y_test)"
   ]
  },
  {
   "cell_type": "code",
   "execution_count": 56,
   "id": "69927f42-97c6-4963-9c03-1b9a3a17d070",
   "metadata": {},
   "outputs": [
    {
     "name": "stderr",
     "output_type": "stream",
     "text": [
      "C:\\Users\\Hisha\\AppData\\Local\\Programs\\Python\\Python310\\lib\\site-packages\\sklearn\\metrics\\_classification.py:1334: UndefinedMetricWarning: Precision and F-score are ill-defined and being set to 0.0 in labels with no predicted samples. Use `zero_division` parameter to control this behavior.\n",
      "  _warn_prf(average, modifier, msg_start, len(result))\n",
      "C:\\Users\\Hisha\\AppData\\Local\\Programs\\Python\\Python310\\lib\\site-packages\\sklearn\\metrics\\_classification.py:1334: UndefinedMetricWarning: Precision and F-score are ill-defined and being set to 0.0 in labels with no predicted samples. Use `zero_division` parameter to control this behavior.\n",
      "  _warn_prf(average, modifier, msg_start, len(result))\n",
      "C:\\Users\\Hisha\\AppData\\Local\\Programs\\Python\\Python310\\lib\\site-packages\\sklearn\\metrics\\_classification.py:1334: UndefinedMetricWarning: Precision and F-score are ill-defined and being set to 0.0 in labels with no predicted samples. Use `zero_division` parameter to control this behavior.\n",
      "  _warn_prf(average, modifier, msg_start, len(result))\n",
      "C:\\Users\\Hisha\\AppData\\Local\\Programs\\Python\\Python310\\lib\\site-packages\\sklearn\\metrics\\_classification.py:1334: UndefinedMetricWarning: Precision and F-score are ill-defined and being set to 0.0 in labels with no predicted samples. Use `zero_division` parameter to control this behavior.\n",
      "  _warn_prf(average, modifier, msg_start, len(result))\n",
      "C:\\Users\\Hisha\\AppData\\Local\\Programs\\Python\\Python310\\lib\\site-packages\\sklearn\\metrics\\_classification.py:1334: UndefinedMetricWarning: Precision and F-score are ill-defined and being set to 0.0 in labels with no predicted samples. Use `zero_division` parameter to control this behavior.\n",
      "  _warn_prf(average, modifier, msg_start, len(result))\n",
      "C:\\Users\\Hisha\\AppData\\Local\\Programs\\Python\\Python310\\lib\\site-packages\\sklearn\\metrics\\_classification.py:1334: UndefinedMetricWarning: Precision and F-score are ill-defined and being set to 0.0 in labels with no predicted samples. Use `zero_division` parameter to control this behavior.\n",
      "  _warn_prf(average, modifier, msg_start, len(result))\n"
     ]
    },
    {
     "data": {
      "text/plain": [
       "(   f1_score  precision  recall  accuracy  AUROC\n",
       " 0  0.386364   0.314815     0.5   0.62963    0.5,\n",
       "    f1_score  precision  recall  accuracy  AUROC\n",
       " 0  0.384615     0.3125     0.5     0.625    0.5)"
      ]
     },
     "execution_count": 56,
     "metadata": {},
     "output_type": "execute_result"
    }
   ],
   "source": [
    "late_fuse_MLPX(X_train_advanced, Y_train, X_dev_advanced, Y_dev, X_test_advanced, Y_test)"
   ]
  },
  {
   "cell_type": "code",
   "execution_count": 57,
   "id": "282d6abc-8a21-4880-a733-7ec1aa80097a",
   "metadata": {},
   "outputs": [
    {
     "data": {
      "text/plain": [
       "(   f1_score  precision    recall  accuracy     AUROC\n",
       " 0  0.477226   0.561081  0.522794  0.625926  0.522794,\n",
       "    f1_score  precision    recall  accuracy     AUROC\n",
       " 0  0.476306   0.595598  0.529333     0.633  0.529333)"
      ]
     },
     "execution_count": 57,
     "metadata": {},
     "output_type": "execute_result"
    }
   ],
   "source": [
    "late_fuse_MLPX(X_train_advanced, Y_train, X_dev_advanced, Y_dev, X_test_advanced, Y_test)"
   ]
  },
  {
   "cell_type": "code",
   "execution_count": 58,
   "id": "07bdc94d-16a0-4b2a-8ddc-32cd28bed868",
   "metadata": {},
   "outputs": [
    {
     "data": {
      "text/plain": [
       "(   f1_score  precision  recall  accuracy  AUROC\n",
       " 0  0.442958   0.532771   0.525  0.453704  0.525,\n",
       "    f1_score  precision    recall  accuracy     AUROC\n",
       " 0  0.454904   0.555361  0.540533     0.468  0.540533)"
      ]
     },
     "execution_count": 58,
     "metadata": {},
     "output_type": "execute_result"
    }
   ],
   "source": [
    "late_fuse_MLPX(X_train_advanced, Y_train, X_dev_advanced, Y_dev, X_test_advanced, Y_test)"
   ]
  },
  {
   "cell_type": "code",
   "execution_count": 59,
   "id": "72abce3f-33e0-4984-86eb-b61181ecfc5f",
   "metadata": {},
   "outputs": [
    {
     "data": {
      "text/plain": [
       "(   f1_score  precision    recall  accuracy     AUROC\n",
       " 0  0.445136   0.534507  0.526471  0.455556  0.526471,\n",
       "    f1_score  precision    recall  accuracy     AUROC\n",
       " 0  0.457966   0.555024  0.541067      0.47  0.541067)"
      ]
     },
     "execution_count": 59,
     "metadata": {},
     "output_type": "execute_result"
    }
   ],
   "source": [
    "late_fuse_MLPX(X_train_advanced, Y_train, X_dev_advanced, Y_dev, X_test_advanced, Y_test)"
   ]
  },
  {
   "cell_type": "code",
   "execution_count": 60,
   "id": "6708339a-4d40-4e12-8030-c34ed0885990",
   "metadata": {},
   "outputs": [
    {
     "data": {
      "text/plain": [
       "(   f1_score  precision    recall  accuracy     AUROC\n",
       " 0  0.448707   0.548903  0.536029  0.461111  0.536029,\n",
       "    f1_score  precision    recall  accuracy     AUROC\n",
       " 0  0.450763    0.55425  0.538933     0.465  0.538933)"
      ]
     },
     "execution_count": 60,
     "metadata": {},
     "output_type": "execute_result"
    }
   ],
   "source": [
    "late_fuse_MLPX(X_train_advanced, Y_train, X_dev_advanced, Y_dev, X_test_advanced, Y_test)"
   ]
  },
  {
   "cell_type": "code",
   "execution_count": 61,
   "id": "573f56ab-ff86-4aee-8d35-62e16800af02",
   "metadata": {},
   "outputs": [
    {
     "name": "stderr",
     "output_type": "stream",
     "text": [
      "C:\\Users\\Hisha\\AppData\\Local\\Programs\\Python\\Python310\\lib\\site-packages\\sklearn\\metrics\\_classification.py:1334: UndefinedMetricWarning: Precision and F-score are ill-defined and being set to 0.0 in labels with no predicted samples. Use `zero_division` parameter to control this behavior.\n",
      "  _warn_prf(average, modifier, msg_start, len(result))\n",
      "C:\\Users\\Hisha\\AppData\\Local\\Programs\\Python\\Python310\\lib\\site-packages\\sklearn\\metrics\\_classification.py:1334: UndefinedMetricWarning: Precision and F-score are ill-defined and being set to 0.0 in labels with no predicted samples. Use `zero_division` parameter to control this behavior.\n",
      "  _warn_prf(average, modifier, msg_start, len(result))\n",
      "C:\\Users\\Hisha\\AppData\\Local\\Programs\\Python\\Python310\\lib\\site-packages\\sklearn\\metrics\\_classification.py:1334: UndefinedMetricWarning: Precision and F-score are ill-defined and being set to 0.0 in labels with no predicted samples. Use `zero_division` parameter to control this behavior.\n",
      "  _warn_prf(average, modifier, msg_start, len(result))\n",
      "C:\\Users\\Hisha\\AppData\\Local\\Programs\\Python\\Python310\\lib\\site-packages\\sklearn\\metrics\\_classification.py:1334: UndefinedMetricWarning: Precision and F-score are ill-defined and being set to 0.0 in labels with no predicted samples. Use `zero_division` parameter to control this behavior.\n",
      "  _warn_prf(average, modifier, msg_start, len(result))\n",
      "C:\\Users\\Hisha\\AppData\\Local\\Programs\\Python\\Python310\\lib\\site-packages\\sklearn\\metrics\\_classification.py:1334: UndefinedMetricWarning: Precision and F-score are ill-defined and being set to 0.0 in labels with no predicted samples. Use `zero_division` parameter to control this behavior.\n",
      "  _warn_prf(average, modifier, msg_start, len(result))\n",
      "C:\\Users\\Hisha\\AppData\\Local\\Programs\\Python\\Python310\\lib\\site-packages\\sklearn\\metrics\\_classification.py:1334: UndefinedMetricWarning: Precision and F-score are ill-defined and being set to 0.0 in labels with no predicted samples. Use `zero_division` parameter to control this behavior.\n",
      "  _warn_prf(average, modifier, msg_start, len(result))\n"
     ]
    },
    {
     "data": {
      "text/plain": [
       "(   f1_score  precision  recall  accuracy  AUROC\n",
       " 0  0.386364   0.314815     0.5   0.62963    0.5,\n",
       "    f1_score  precision  recall  accuracy  AUROC\n",
       " 0  0.384615     0.3125     0.5     0.625    0.5)"
      ]
     },
     "execution_count": 61,
     "metadata": {},
     "output_type": "execute_result"
    }
   ],
   "source": [
    "late_fuse_MLPX(X_train_advanced, Y_train, X_dev_advanced, Y_dev, X_test_advanced, Y_test)"
   ]
  },
  {
   "cell_type": "code",
   "execution_count": 62,
   "id": "cbdadd38-b32f-4c37-9913-df2d59a7262e",
   "metadata": {},
   "outputs": [
    {
     "data": {
      "text/plain": [
       "(   f1_score  precision    recall  accuracy     AUROC\n",
       " 0  0.480293   0.530031  0.514706  0.609259  0.514706,\n",
       "    f1_score  precision    recall  accuracy     AUROC\n",
       " 0  0.506468   0.570307  0.535467     0.624  0.535467)"
      ]
     },
     "execution_count": 62,
     "metadata": {},
     "output_type": "execute_result"
    }
   ],
   "source": [
    "late_fuse_MLPX(X_train_advanced, Y_train, X_dev_advanced, Y_dev, X_test_advanced, Y_test)"
   ]
  },
  {
   "cell_type": "code",
   "execution_count": 82,
   "id": "e69eb750-45dd-4db1-a953-ca8d5ccfed9f",
   "metadata": {},
   "outputs": [
    {
     "name": "stderr",
     "output_type": "stream",
     "text": [
      "C:\\Users\\Hisha\\AppData\\Local\\Programs\\Python\\Python310\\lib\\site-packages\\sklearn\\metrics\\_classification.py:1334: UndefinedMetricWarning: Precision and F-score are ill-defined and being set to 0.0 in labels with no predicted samples. Use `zero_division` parameter to control this behavior.\n",
      "  _warn_prf(average, modifier, msg_start, len(result))\n",
      "C:\\Users\\Hisha\\AppData\\Local\\Programs\\Python\\Python310\\lib\\site-packages\\sklearn\\metrics\\_classification.py:1334: UndefinedMetricWarning: Precision and F-score are ill-defined and being set to 0.0 in labels with no predicted samples. Use `zero_division` parameter to control this behavior.\n",
      "  _warn_prf(average, modifier, msg_start, len(result))\n",
      "C:\\Users\\Hisha\\AppData\\Local\\Programs\\Python\\Python310\\lib\\site-packages\\sklearn\\metrics\\_classification.py:1334: UndefinedMetricWarning: Precision and F-score are ill-defined and being set to 0.0 in labels with no predicted samples. Use `zero_division` parameter to control this behavior.\n",
      "  _warn_prf(average, modifier, msg_start, len(result))\n",
      "C:\\Users\\Hisha\\AppData\\Local\\Programs\\Python\\Python310\\lib\\site-packages\\sklearn\\metrics\\_classification.py:1334: UndefinedMetricWarning: Precision and F-score are ill-defined and being set to 0.0 in labels with no predicted samples. Use `zero_division` parameter to control this behavior.\n",
      "  _warn_prf(average, modifier, msg_start, len(result))\n",
      "C:\\Users\\Hisha\\AppData\\Local\\Programs\\Python\\Python310\\lib\\site-packages\\sklearn\\metrics\\_classification.py:1334: UndefinedMetricWarning: Precision and F-score are ill-defined and being set to 0.0 in labels with no predicted samples. Use `zero_division` parameter to control this behavior.\n",
      "  _warn_prf(average, modifier, msg_start, len(result))\n",
      "C:\\Users\\Hisha\\AppData\\Local\\Programs\\Python\\Python310\\lib\\site-packages\\sklearn\\metrics\\_classification.py:1334: UndefinedMetricWarning: Precision and F-score are ill-defined and being set to 0.0 in labels with no predicted samples. Use `zero_division` parameter to control this behavior.\n",
      "  _warn_prf(average, modifier, msg_start, len(result))\n"
     ]
    },
    {
     "name": "stdout",
     "output_type": "stream",
     "text": [
      "Average Development: \n",
      "   f1_score  precision   recall  accuracy    AUROC\n",
      "0  0.466087    0.52597  0.51925     0.605  0.51925 \n",
      "Average Test: \n",
      "   f1_score  precision    recall  accuracy     AUROC\n",
      "0  0.478189   0.553158  0.530733   0.61255  0.530733\n"
     ]
    }
   ],
   "source": [
    "run_multiple_times(X_train_advanced, Y_train, X_dev_advanced, Y_dev, X_test_advanced, Y_test)"
   ]
  },
  {
   "cell_type": "markdown",
   "id": "1ffb4115-b0c9-4c9a-92a6-d8c504462ab1",
   "metadata": {},
   "source": [
    "# Fine-tuned_Bert:"
   ]
  },
  {
   "cell_type": "code",
   "execution_count": null,
   "id": "225939e7-4bd0-4533-855a-3e71ac2a5594",
   "metadata": {},
   "outputs": [],
   "source": []
  },
  {
   "cell_type": "code",
   "execution_count": 63,
   "id": "ada3dbbc-90f5-4e55-9f5c-61727fd22356",
   "metadata": {},
   "outputs": [
    {
     "name": "stderr",
     "output_type": "stream",
     "text": [
      "Some weights of the model checkpoint at bert-base-cased were not used when initializing BertForSequenceClassification: ['cls.predictions.transform.dense.weight', 'cls.predictions.bias', 'cls.predictions.transform.LayerNorm.bias', 'cls.predictions.decoder.weight', 'cls.predictions.transform.dense.bias', 'cls.predictions.transform.LayerNorm.weight', 'cls.seq_relationship.bias', 'cls.seq_relationship.weight']\n",
      "- This IS expected if you are initializing BertForSequenceClassification from the checkpoint of a model trained on another task or with another architecture (e.g. initializing a BertForSequenceClassification model from a BertForPreTraining model).\n",
      "- This IS NOT expected if you are initializing BertForSequenceClassification from the checkpoint of a model that you expect to be exactly identical (initializing a BertForSequenceClassification model from a BertForSequenceClassification model).\n",
      "Some weights of BertForSequenceClassification were not initialized from the model checkpoint at bert-base-cased and are newly initialized: ['classifier.weight', 'classifier.bias']\n",
      "You should probably TRAIN this model on a down-stream task to be able to use it for predictions and inference.\n",
      "Truncation was not explicitly activated but `max_length` is provided a specific value, please use `truncation=True` to explicitly truncate examples to max length. Defaulting to 'longest_first' truncation strategy. If you encode pairs of sequences (GLUE-style) with the tokenizer you can select this strategy more precisely by providing a specific strategy to `truncation`.\n",
      "C:\\Users\\Hisha\\AppData\\Local\\Programs\\Python\\Python310\\lib\\site-packages\\transformers\\tokenization_utils_base.py:2346: FutureWarning: The `pad_to_max_length` argument is deprecated and will be removed in a future version, use `padding=True` or `padding='longest'` to pad to the longest sequence in the batch, or use `padding='max_length'` to pad to a max length. In this case, you can give a specific length with `max_length` (e.g. `max_length=45`) or leave max_length to None to pad to the maximal input size of the model (e.g. 512 for Bert).\n",
      "  warnings.warn(\n",
      "C:\\Users\\Hisha\\AppData\\Local\\Programs\\Python\\Python310\\lib\\site-packages\\transformers\\optimization.py:391: FutureWarning: This implementation of AdamW is deprecated and will be removed in a future version. Use the PyTorch implementation torch.optim.AdamW instead, or set `no_deprecation_warning=True` to disable this warning\n",
      "  warnings.warn(\n"
     ]
    },
    {
     "name": "stdout",
     "output_type": "stream",
     "text": [
      "Finished epoch 1 with average training loss of 0.5718760155421451.\n",
      "Finished epoch 2 with average training loss of 0.4579912252668151.\n",
      "Finished epoch 3 with average training loss of 0.3781905441467923.\n",
      "Finished epoch 4 with average training loss of 0.3154261342452881.\n",
      "Finished epoch 5 with average training loss of 0.2740296280025539.\n",
      "Finished epoch 6 with average training loss of 0.2410158093150397.\n",
      "Finished epoch 7 with average training loss of 0.2187193022914847.\n",
      "Finished epoch 8 with average training loss of 0.2022989973061739.\n",
      "Finished epoch 9 with average training loss of 0.18523835298374183.\n",
      "Finished epoch 10 with average training loss of 0.1775378146159806.\n"
     ]
    }
   ],
   "source": [
    "from transformers import BertTokenizer, BertForSequenceClassification\n",
    "from utils import *\n",
    "# Set up GPU or CPU\n",
    "device = torch.device(\"cuda\" if torch.cuda.is_available() else \"cpu\")\n",
    "\n",
    "# Load pre-trained tokenizer and model\n",
    "tokenizer = BertTokenizer.from_pretrained('bert-base-cased')\n",
    "model = BertForSequenceClassification.from_pretrained('bert-base-cased', num_labels=2)\n",
    "model.to(device)\n",
    "\n",
    "tokenizer, model = fine_tune(df_train_original, tokenizer, model)"
   ]
  },
  {
   "cell_type": "code",
   "execution_count": 64,
   "id": "525813e0-884d-4668-91e2-07a2e13b90f2",
   "metadata": {},
   "outputs": [],
   "source": [
    "y_train_proba_bert = predict_proba_from_fine_tuned(df_train, tokenizer, model)\n",
    "y_dev_proba_bert = predict_proba_from_fine_tuned(df_dev, tokenizer, model)\n",
    "y_test_proba_bert = predict_proba_from_fine_tuned(df_test, tokenizer, model)\n"
   ]
  },
  {
   "cell_type": "code",
   "execution_count": 65,
   "id": "b1ee8da7-6f43-42eb-add0-0332bca8c17c",
   "metadata": {},
   "outputs": [],
   "source": [
    "X_train_bert = fuse_proba(y_train_proba_bert, y_train_proba_ResNet)\n",
    "X_dev_bert = fuse_proba(y_dev_proba_bert, y_dev_proba_ResNet)\n",
    "X_test_bert = fuse_proba(y_test_proba_bert, y_test_proba_ResNet)\n",
    "\n",
    "bert_ResNet_results = late_fuse_MLPX(X_train_bert, Y_train, X_dev_bert, Y_dev, X_test_bert, Y_test)"
   ]
  },
  {
   "cell_type": "code",
   "execution_count": 66,
   "id": "7b6df02d-913a-4f48-afaf-844924262603",
   "metadata": {},
   "outputs": [
    {
     "data": {
      "text/plain": [
       "(   f1_score  precision    recall  accuracy     AUROC\n",
       " 0  0.528213   0.528139  0.528676  0.555556  0.528676,\n",
       "    f1_score  precision  recall  accuracy   AUROC\n",
       " 0  0.581919   0.581565  0.5824     0.606  0.5824)"
      ]
     },
     "execution_count": 66,
     "metadata": {},
     "output_type": "execute_result"
    }
   ],
   "source": [
    "bert_ResNet_results"
   ]
  },
  {
   "cell_type": "code",
   "execution_count": 67,
   "id": "5526cb21-3681-4e49-8adc-00c71042483c",
   "metadata": {},
   "outputs": [
    {
     "data": {
      "text/plain": [
       "(   f1_score  precision    recall  accuracy     AUROC\n",
       " 0  0.488824   0.548916  0.523088  0.618519  0.523088,\n",
       "    f1_score  precision    recall  accuracy     AUROC\n",
       " 0   0.51438    0.57609  0.540133    0.6265  0.540133)"
      ]
     },
     "execution_count": 67,
     "metadata": {},
     "output_type": "execute_result"
    }
   ],
   "source": [
    "late_fuse_MLPX(X_train_bert, Y_train, X_dev_bert, Y_dev, X_test_bert, Y_test)"
   ]
  },
  {
   "cell_type": "code",
   "execution_count": 68,
   "id": "8586b1da-aae6-4f2d-8605-fabce7262a9b",
   "metadata": {},
   "outputs": [
    {
     "data": {
      "text/plain": [
       "(   f1_score  precision    recall  accuracy     AUROC\n",
       " 0  0.535477    0.53592  0.535294   0.57037  0.535294,\n",
       "    f1_score  precision  recall  accuracy   AUROC\n",
       " 0  0.582797   0.583324  0.5824     0.611  0.5824)"
      ]
     },
     "execution_count": 68,
     "metadata": {},
     "output_type": "execute_result"
    }
   ],
   "source": [
    "late_fuse_MLPX(X_train_bert, Y_train, X_dev_bert, Y_dev, X_test_bert, Y_test)"
   ]
  },
  {
   "cell_type": "code",
   "execution_count": 69,
   "id": "65da4ed5-c32b-4083-879d-dac98f9315c0",
   "metadata": {},
   "outputs": [
    {
     "data": {
      "text/plain": [
       "(   f1_score  precision    recall  accuracy     AUROC\n",
       " 0  0.536134   0.563018  0.545294  0.616667  0.545294,\n",
       "    f1_score  precision  recall  accuracy   AUROC\n",
       " 0  0.551747    0.58139  0.5592     0.626  0.5592)"
      ]
     },
     "execution_count": 69,
     "metadata": {},
     "output_type": "execute_result"
    }
   ],
   "source": [
    "late_fuse_MLPX(X_train_bert, Y_train, X_dev_bert, Y_dev, X_test_bert, Y_test)"
   ]
  },
  {
   "cell_type": "code",
   "execution_count": 70,
   "id": "9e9b7ad6-d396-46db-8a06-9cfb9cc9d161",
   "metadata": {},
   "outputs": [
    {
     "data": {
      "text/plain": [
       "(   f1_score  precision    recall  accuracy     AUROC\n",
       " 0  0.529097    0.52905  0.529706  0.555556  0.529706,\n",
       "    f1_score  precision    recall  accuracy     AUROC\n",
       " 0  0.583191   0.582805  0.583733     0.607  0.583733)"
      ]
     },
     "execution_count": 70,
     "metadata": {},
     "output_type": "execute_result"
    }
   ],
   "source": [
    "late_fuse_MLPX(X_train_bert, Y_train, X_dev_bert, Y_dev, X_test_bert, Y_test)"
   ]
  },
  {
   "cell_type": "code",
   "execution_count": 71,
   "id": "993d7ba4-042c-44d0-9b28-83723a54a5c0",
   "metadata": {},
   "outputs": [
    {
     "data": {
      "text/plain": [
       "(   f1_score  precision    recall  accuracy     AUROC\n",
       " 0  0.535477    0.53592  0.535294   0.57037  0.535294,\n",
       "    f1_score  precision  recall  accuracy   AUROC\n",
       " 0  0.583351   0.584177  0.5828    0.6125  0.5828)"
      ]
     },
     "execution_count": 71,
     "metadata": {},
     "output_type": "execute_result"
    }
   ],
   "source": [
    "late_fuse_MLPX(X_train_bert, Y_train, X_dev_bert, Y_dev, X_test_bert, Y_test)"
   ]
  },
  {
   "cell_type": "code",
   "execution_count": 72,
   "id": "e023bc29-bce9-4dde-a253-87e41c32f69d",
   "metadata": {},
   "outputs": [
    {
     "data": {
      "text/plain": [
       "(   f1_score  precision    recall  accuracy     AUROC\n",
       " 0  0.496223   0.545788  0.524265  0.614815  0.524265,\n",
       "    f1_score  precision  recall  accuracy   AUROC\n",
       " 0  0.521721   0.580516  0.5444    0.6285  0.5444)"
      ]
     },
     "execution_count": 72,
     "metadata": {},
     "output_type": "execute_result"
    }
   ],
   "source": [
    "late_fuse_MLPX(X_train_bert, Y_train, X_dev_bert, Y_dev, X_test_bert, Y_test)"
   ]
  },
  {
   "cell_type": "code",
   "execution_count": 73,
   "id": "9c21a0f0-2ad1-408b-b8d3-0b34879bded5",
   "metadata": {},
   "outputs": [
    {
     "data": {
      "text/plain": [
       "(   f1_score  precision    recall  accuracy     AUROC\n",
       " 0  0.514448   0.557778  0.534412  0.618519  0.534412,\n",
       "    f1_score  precision  recall  accuracy   AUROC\n",
       " 0  0.529595   0.583834  0.5488      0.63  0.5488)"
      ]
     },
     "execution_count": 73,
     "metadata": {},
     "output_type": "execute_result"
    }
   ],
   "source": [
    "late_fuse_MLPX(X_train_bert, Y_train, X_dev_bert, Y_dev, X_test_bert, Y_test)"
   ]
  },
  {
   "cell_type": "code",
   "execution_count": 74,
   "id": "e6c3a491-98fc-477f-82f0-a3e4bc1e8e7c",
   "metadata": {},
   "outputs": [
    {
     "data": {
      "text/plain": [
       "(   f1_score  precision    recall  accuracy     AUROC\n",
       " 0  0.535094   0.558883  0.543382  0.612963  0.543382,\n",
       "    f1_score  precision    recall  accuracy     AUROC\n",
       " 0  0.549319   0.582751  0.558267    0.6275  0.558267)"
      ]
     },
     "execution_count": 74,
     "metadata": {},
     "output_type": "execute_result"
    }
   ],
   "source": [
    "late_fuse_MLPX(X_train_bert, Y_train, X_dev_bert, Y_dev, X_test_bert, Y_test)"
   ]
  },
  {
   "cell_type": "code",
   "execution_count": 75,
   "id": "ea15a070-b9ab-4cd8-81dd-11784f16b6fc",
   "metadata": {},
   "outputs": [
    {
     "name": "stderr",
     "output_type": "stream",
     "text": [
      "C:\\Users\\Hisha\\AppData\\Local\\Programs\\Python\\Python310\\lib\\site-packages\\sklearn\\metrics\\_classification.py:1334: UndefinedMetricWarning: Precision and F-score are ill-defined and being set to 0.0 in labels with no predicted samples. Use `zero_division` parameter to control this behavior.\n",
      "  _warn_prf(average, modifier, msg_start, len(result))\n",
      "C:\\Users\\Hisha\\AppData\\Local\\Programs\\Python\\Python310\\lib\\site-packages\\sklearn\\metrics\\_classification.py:1334: UndefinedMetricWarning: Precision and F-score are ill-defined and being set to 0.0 in labels with no predicted samples. Use `zero_division` parameter to control this behavior.\n",
      "  _warn_prf(average, modifier, msg_start, len(result))\n",
      "C:\\Users\\Hisha\\AppData\\Local\\Programs\\Python\\Python310\\lib\\site-packages\\sklearn\\metrics\\_classification.py:1334: UndefinedMetricWarning: Precision and F-score are ill-defined and being set to 0.0 in labels with no predicted samples. Use `zero_division` parameter to control this behavior.\n",
      "  _warn_prf(average, modifier, msg_start, len(result))\n",
      "C:\\Users\\Hisha\\AppData\\Local\\Programs\\Python\\Python310\\lib\\site-packages\\sklearn\\metrics\\_classification.py:1334: UndefinedMetricWarning: Precision and F-score are ill-defined and being set to 0.0 in labels with no predicted samples. Use `zero_division` parameter to control this behavior.\n",
      "  _warn_prf(average, modifier, msg_start, len(result))\n",
      "C:\\Users\\Hisha\\AppData\\Local\\Programs\\Python\\Python310\\lib\\site-packages\\sklearn\\metrics\\_classification.py:1334: UndefinedMetricWarning: Precision and F-score are ill-defined and being set to 0.0 in labels with no predicted samples. Use `zero_division` parameter to control this behavior.\n",
      "  _warn_prf(average, modifier, msg_start, len(result))\n",
      "C:\\Users\\Hisha\\AppData\\Local\\Programs\\Python\\Python310\\lib\\site-packages\\sklearn\\metrics\\_classification.py:1334: UndefinedMetricWarning: Precision and F-score are ill-defined and being set to 0.0 in labels with no predicted samples. Use `zero_division` parameter to control this behavior.\n",
      "  _warn_prf(average, modifier, msg_start, len(result))\n"
     ]
    },
    {
     "data": {
      "text/plain": [
       "(   f1_score  precision  recall  accuracy  AUROC\n",
       " 0  0.386364   0.314815     0.5   0.62963    0.5,\n",
       "    f1_score  precision  recall  accuracy  AUROC\n",
       " 0  0.384615     0.3125     0.5     0.625    0.5)"
      ]
     },
     "execution_count": 75,
     "metadata": {},
     "output_type": "execute_result"
    }
   ],
   "source": [
    "late_fuse_MLPX(X_train_bert, Y_train, X_dev_bert, Y_dev, X_test_bert, Y_test)"
   ]
  },
  {
   "cell_type": "code",
   "execution_count": 78,
   "id": "c8a4c2be-68d4-41ef-9535-274c40b17bb4",
   "metadata": {},
   "outputs": [],
   "source": []
  },
  {
   "cell_type": "code",
   "execution_count": 79,
   "id": "ae1b2965-59cf-49b5-8b87-b0519f0227c4",
   "metadata": {},
   "outputs": [
    {
     "name": "stdout",
     "output_type": "stream",
     "text": [
      "Average Development: \n",
      "   f1_score  precision    recall  accuracy     AUROC\n",
      "0  0.521761   0.553592  0.536015  0.607963  0.536015 \n",
      "Average Test: \n",
      "   f1_score  precision    recall  accuracy     AUROC\n",
      "0  0.546444   0.583236  0.558667    0.6258  0.558667\n"
     ]
    }
   ],
   "source": [
    "run_multiple_times(X_train_bert, Y_train, X_dev_bert, Y_dev, X_test_bert, Y_test)"
   ]
  },
  {
   "cell_type": "code",
   "execution_count": null,
   "id": "566608dc-28de-4301-bfb3-5551a5eeaf9b",
   "metadata": {},
   "outputs": [],
   "source": []
  }
 ],
 "metadata": {
  "kernelspec": {
   "display_name": "Python 3 (ipykernel)",
   "language": "python",
   "name": "python3"
  },
  "language_info": {
   "codemirror_mode": {
    "name": "ipython",
    "version": 3
   },
   "file_extension": ".py",
   "mimetype": "text/x-python",
   "name": "python",
   "nbconvert_exporter": "python",
   "pygments_lexer": "ipython3",
   "version": "3.10.6"
  }
 },
 "nbformat": 4,
 "nbformat_minor": 5
}
