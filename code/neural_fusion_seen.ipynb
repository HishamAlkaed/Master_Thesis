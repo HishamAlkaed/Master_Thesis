{
 "cells": [
  {
   "cell_type": "code",
   "execution_count": 1,
   "id": "330dba44-df58-4947-91dc-bb5fe86db4ed",
   "metadata": {},
   "outputs": [],
   "source": [
    "import pandas as pd\n",
    "import numpy as np\n",
    "import pandas as pd\n",
    "from sklearn.feature_extraction.text import CountVectorizer\n",
    "from sklearn.svm import LinearSVC\n",
    "from sklearn.calibration import CalibratedClassifierCV\n",
    "from sklearn.metrics import precision_recall_fscore_support, classification_report, auc, roc_curve\n",
    "from scipy.sparse import hstack\n",
    "import torch\n",
    "import torch.nn as nn\n",
    "import torch.nn.functional as F\n",
    "import torch.optim as optim\n",
    "from datasets import load_dataset, Image, concatenate_datasets\n",
    "from torch.utils.data import DataLoader, Dataset, TensorDataset"
   ]
  },
  {
   "cell_type": "code",
   "execution_count": 2,
   "id": "ae55cd18-341d-4a39-951e-3f14494cc6ee",
   "metadata": {},
   "outputs": [],
   "source": [
    "# importing the data\n",
    "datafolder = '../../data/'\n",
    "# train = datafolder+'train_with_features.csv'\n",
    "test = datafolder+'test_with_features.csv'\n",
    "dev = datafolder+'dev_with_features.csv'\n",
    "test_unseen = datafolder+'test_unseen_with_features.csv'\n",
    "dev_unseen = datafolder+'dev_unseen_with_features.csv'\n",
    "# df_train = pd.read_csv(train, skip_blank_lines=False)\n",
    "df_dev = pd.read_csv(dev, skip_blank_lines=False)\n",
    "df_dev_unseen = pd.read_csv(dev_unseen, skip_blank_lines=False)\n",
    "df_test = pd.read_csv(test, skip_blank_lines=False)\n",
    "df_test_unseen = pd.read_csv(test_unseen, skip_blank_lines=False)\n",
    "df_train = pd.concat([df_dev, df_test], ignore_index=True, axis=0)\n",
    "df_test = df_test_unseen\n",
    "df_dev = df_dev_unseen\n",
    "df_train = df_train.fillna('')"
   ]
  },
  {
   "cell_type": "code",
   "execution_count": 3,
   "id": "32ec1dab-02a5-4e96-8029-5eb0ccc24bf2",
   "metadata": {},
   "outputs": [],
   "source": [
    "class MLP(nn.Module):\n",
    "    def __init__(self):\n",
    "        super(MLP, self).__init__()\n",
    "        self.flattening = nn.Flatten()\n",
    "        self.fc1 = nn.Linear(4, 8)\n",
    "        self.fc2 = nn.Linear(8, 4)\n",
    "        self.dropout = nn.Dropout(p=0.5)\n",
    "        self.fc3 = nn.Linear(4, 2)\n",
    "\n",
    "    def forward(self, x):\n",
    "        x = self.flattening(x)\n",
    "        x = F.relu(self.fc1(x))\n",
    "        x = F.relu(self.fc2(x))\n",
    "        x = self.dropout(x)\n",
    "        x = F.softmax(self.fc3(x), dim=1)\n",
    "        return x\n",
    "    \n",
    "def fuse_proba(arr1, arr2):\n",
    "    assert arr1.size == arr2.size\n",
    "    return np.hstack([arr1, arr2])\n",
    "\n",
    "def train(X, Y, batch_size = 64, num_epochs = 1000):\n",
    "    # input_dim =  X.shape[1]\n",
    "    model = MLP()\n",
    "    criterion = nn.BCELoss()  # binary cross-entropy loss\n",
    "    optimizer = torch.optim.Adam(model.parameters())\n",
    "    \n",
    "    train_dataset = TensorDataset(torch.Tensor(X), torch.Tensor(Y))\n",
    "    train_loader = DataLoader(train_dataset, batch_size=batch_size, shuffle=False)\n",
    "    \n",
    "    # Training loop:\n",
    "    for epoch in range(num_epochs):\n",
    "        running_loss = 0.0\n",
    "        for inputs, labels in train_loader: \n",
    "            optimizer.zero_grad()\n",
    "            outputs = model(inputs)\n",
    "            labels = labels.view(-1, 1)  # reshape labels to match output shape\n",
    "            loss = criterion(torch.unsqueeze(outputs[:, 1], dim=1), labels)  # calculate the loss using binary cross-entropy with the positive class probability and the binary label\n",
    "            loss.backward()\n",
    "            optimizer.step()\n",
    "            running_loss += loss.item()\n",
    "    return model\n",
    "\n",
    "def evaluate(model, X, Y):\n",
    "    test_dataset = TensorDataset(torch.Tensor(X), torch.Tensor(Y))\n",
    "    test_loader = DataLoader(test_dataset, batch_size=len(test_dataset), shuffle=False)\n",
    "    model.eval()  # Set the model to evaluation mode\n",
    "    with torch.no_grad():  # Disable gradient calculation\n",
    "        for inputs, labels in test_loader:\n",
    "            test_outputs = model(inputs)  # Get the model's predictions\n",
    "            _, predicted = torch.max(test_outputs.data, 1)  # Get the predicted class by choosing the class with highest probability\n",
    "            predicted_probabilities = test_outputs[:, 1]  # Get the probability for the positive class\n",
    "\n",
    "    # Apply a threshold to the predicted probabilities to obtain binary predictions\n",
    "    threshold = 0.5\n",
    "    binary_predictions = (predicted_probabilities > threshold).float()\n",
    "\n",
    "    return binary_predictions\n",
    "\n",
    "def performance(preds, labels):\n",
    "    results = []\n",
    "    report = classification_report(labels, preds, output_dict=True)\n",
    "    fpr, tpr, thresholds = roc_curve(labels, preds)\n",
    "    AUROC = auc(fpr, tpr)\n",
    "    results = {'f1_score': report['macro avg']['f1-score'], \n",
    "               'precision': report['macro avg']['precision'], \n",
    "               'recall': report['macro avg']['recall'], \n",
    "               'accuracy': report['accuracy'], \n",
    "               'AUROC': AUROC\n",
    "              }\n",
    "    df_results = pd.DataFrame(results, index=[0]) \n",
    "    df_results = df_results.sort_values(by='AUROC', ascending=False)\n",
    "    return df_results\n",
    "\n",
    "def late_fuse_MLP(X_train, Y_train, X_test, Y_test):\n",
    "    # print('training ...')\n",
    "    model = train(X_train, Y_train)\n",
    "    # print('predicting')\n",
    "    pred = evaluate(model, X_test, Y_test)\n",
    "    results_df = performance(pred, Y_test)\n",
    "    return results_df, pred"
   ]
  },
  {
   "cell_type": "code",
   "execution_count": null,
   "id": "e366e3fd-c42d-40b8-8dc4-fe0d32963015",
   "metadata": {
    "jupyter": {
     "source_hidden": true
    },
    "tags": []
   },
   "outputs": [],
   "source": [
    "import torch.cuda\n",
    "\n",
    "class MLP(nn.Module):\n",
    "    def __init__(self):\n",
    "        super(MLP, self).__init__()\n",
    "        self.flattening = nn.Flatten()\n",
    "        self.fc1 = nn.Linear(4, 8)\n",
    "        self.fc2 = nn.Linear(8, 4)\n",
    "        self.dropout = nn.Dropout(p=0.5)\n",
    "        self.fc3 = nn.Linear(4, 2)\n",
    "\n",
    "    def forward(self, x):\n",
    "        x = self.flattening(x)\n",
    "        x = F.relu(self.fc1(x))\n",
    "        x = F.relu(self.fc2(x))\n",
    "        x = self.dropout(x)\n",
    "        x = F.softmax(self.fc3(x), dim=1)\n",
    "        return x\n",
    "    \n",
    "def fuse_proba(arr1, arr2):\n",
    "    assert arr1.size == arr2.size\n",
    "    return np.hstack([arr1, arr2])\n",
    "\n",
    "def train(X, Y, batch_size = 64, num_epochs = 1000):\n",
    "    device = torch.device(\"cuda\" if torch.cuda.is_available() else \"cpu\")\n",
    "    # input_dim =  X.shape[1]\n",
    "    model = MLP()\n",
    "    model.to(device)\n",
    "    criterion = nn.BCELoss()  # binary cross-entropy loss\n",
    "    optimizer = torch.optim.Adam(model.parameters())\n",
    "    \n",
    "    X_tensor = torch.Tensor(X).to(device)\n",
    "    Y_tensor = torch.Tensor(Y).to(device)\n",
    "    train_dataset = TensorDataset(X_tensor, Y_tensor)\n",
    "    train_loader = DataLoader(train_dataset, batch_size=batch_size, shuffle=False)\n",
    "    \n",
    "    # Training loop:\n",
    "    for epoch in range(num_epochs):\n",
    "        running_loss = 0.0\n",
    "        for inputs, labels in train_loader:\n",
    "            inputs = inputs.to(device)\n",
    "            labels = labels.to(device)\n",
    "            optimizer.zero_grad()\n",
    "            outputs = model(inputs)\n",
    "            labels = labels.view(-1, 1)  # reshape labels to match output shape\n",
    "            loss = criterion(torch.unsqueeze(outputs[:, 1], dim=1), labels)  # calculate the loss using binary cross-entropy with the positive class probability and the binary label\n",
    "            loss.backward()\n",
    "            optimizer.step()\n",
    "            running_loss += loss.item()\n",
    "    return model\n",
    "\n",
    "def evaluate(model, X, Y):\n",
    "    device = torch.device(\"cuda\" if torch.cuda.is_available() else \"cpu\")\n",
    "    test_X_tensor = torch.Tensor(X).to(device)\n",
    "    test_Y_tensor = torch.Tensor(Y).to(device)\n",
    "    test_dataset = TensorDataset(test_X_tensor, test_Y_tensor)\n",
    "    test_loader = DataLoader(test_dataset, batch_size=len(test_dataset), shuffle=False)\n",
    "    model.eval()  # Set the model to evaluation mode\n",
    "    with torch.no_grad():  # Disable gradient calculation\n",
    "        for inputs, labels in test_loader:\n",
    "            inputs = inputs.to(device)\n",
    "            test_outputs = model(inputs)  # Get the model's predictions\n",
    "            _, predicted = torch.max(test_outputs.data, 1)  # Get the predicted class by choosing the class with highest probability\n",
    "            predicted_probabilities = test_outputs[:, 1]  # Get the probability for the positive class\n",
    "\n",
    "    # Apply a threshold to the predicted probabilities to obtain binary predictions\n",
    "    threshold = 0.5\n",
    "    binary_predictions = (predicted_probabilities > threshold).float()\n",
    "\n",
    "    return binary_predictions\n",
    "\n",
    "def performance(preds, labels):\n",
    "    results = []\n",
    "    report = classification_report(labels, preds, output_dict=True)\n",
    "    fpr, tpr, thresholds = roc_curve(labels, preds)\n",
    "    AUROC = auc(fpr, tpr)\n",
    "    results = {'f1_score': report['macro avg']['f1-score'], \n",
    "               'precision': report['macro avg']['precision'], \n",
    "               'recall': report['macro avg']['recall'], \n",
    "               'accuracy': report['accuracy'], \n",
    "               'AUROC': AUROC\n",
    "              }\n",
    "    df_results = pd.DataFrame(results, index=[0]) \n",
    "    df_results = df_results.sort_values(by='AUROC', ascending=False)\n",
    "    return df_results\n",
    "\n",
    "def late_fuse_MLP(X_train, Y_train, X_test, Y_test):\n",
    "    # print('training ...')\n",
    "    model = train(X_train, Y_train)\n",
    "    # print('predicting')\n",
    "    pred = evaluate(model, X_test, Y_test)\n",
    "    results_df = performance(pred, Y_test)\n",
    "    return results_df"
   ]
  },
  {
   "cell_type": "raw",
   "id": "21c00a77-7a37-4edf-8d69-75c8e5f1c0b1",
   "metadata": {},
   "source": [
    "Block (c) concatenates the three decision vectors.Finally, \n",
    "block (d) is the classiﬁcation modulecomprised of four fully connected layers. \n",
    "    The sizeof the ﬁrst layer is equal to Ktimes the number of classes N.\n",
    "    The second layer equals (4×N) which is greater than the size of the ﬁrst layer to again avoidthe Bottleneck phenomenon.\n",
    "    The size of the thirdlayer is 2×N, which is associated with a dropout.\n",
    "    The fourth (last) layer is a softmax function of a size equal to the number of classes."
   ]
  },
  {
   "cell_type": "markdown",
   "id": "49cd97ee-0ca8-44db-91ee-8506d0075d39",
   "metadata": {},
   "source": [
    "# ResNet50:"
   ]
  },
  {
   "cell_type": "code",
   "execution_count": 4,
   "id": "fb9c668b-c6d0-44f6-b4cf-b9387e503c68",
   "metadata": {},
   "outputs": [],
   "source": [
    "# train_img = torch.stack(torch.load('image_embeddings/train_img_tensors.pt'))\n",
    "train_img1 = torch.stack(torch.load('image_embeddings/dev_img_tensors.pt'))\n",
    "train_img2 = torch.stack(torch.load('image_embeddings/test_img_tensors.pt'))\n",
    "\n",
    "dev_img = torch.stack(torch.load('image_embeddings/dev_unseen_img_tensors.pt'))\n",
    "test_img = torch.stack(torch.load('image_embeddings/test_unseen_img_tensors.pt'))\n",
    "\n",
    "train_img = torch.cat((train_img1,train_img2), dim=0)\n",
    "\n",
    "Y_train = df_train['label']\n",
    "Y_dev = df_dev['label']\n",
    "Y_test = df_test['label']\n",
    "\n",
    "train_X = [np.array(x.cpu()).flatten() for x in train_img]\n",
    "dev_X = [np.array(x.cpu()).flatten() for x in dev_img]\n",
    "test_X = [np.array(x.cpu()).flatten() for x in test_img]"
   ]
  },
  {
   "cell_type": "code",
   "execution_count": null,
   "id": "640fb840-a3e5-434a-b590-b43c70539fd0",
   "metadata": {},
   "outputs": [],
   "source": [
    "from sklearn.svm import SVC\n",
    "clf_svc = SVC(kernel='linear', C=10, probability = True) \n",
    "clf_svc.fit(train_X, Y_train)"
   ]
  },
  {
   "cell_type": "markdown",
   "id": "33f9be18-459f-4a33-b1b3-e74f4d29a3e7",
   "metadata": {},
   "source": [
    "### Note: This model took approx 18 hours to run. Hence it is better if saved to disk: size on disk 4.3 GB"
   ]
  },
  {
   "cell_type": "code",
   "execution_count": 5,
   "id": "85a79bad-3b55-4dcc-8f96-903d11884eca",
   "metadata": {},
   "outputs": [],
   "source": [
    "import pickle\n",
    "\n",
    "# # Save model to disk\n",
    "# with open('models/ResNet50_lin_c10_model.pkl', 'wb') as f:\n",
    "#     pickle.dump(clf_svc, f)\n",
    "\n",
    "\n",
    "# This will save the `clf_svc` object to a file named `ResNet50_lin_c10_model.pkl` in binary mode (`'wb'`). To load the model from disk, you can use the `pickle.load()` function as follows:\n",
    "\n",
    "\n",
    "# Load saved model\n",
    "with open('models/ResNet50_lin_c10_model.pkl', 'rb') as f:\n",
    "    clf_svc = pickle.load(f)\n",
    "\n"
   ]
  },
  {
   "cell_type": "code",
   "execution_count": 6,
   "id": "3d4e1083-18af-40da-83b0-12a0d65a2cde",
   "metadata": {},
   "outputs": [],
   "source": [
    "y_train_proba_ResNet = clf_svc.predict_proba(train_X)\n",
    "y_dev_proba_ResNet = clf_svc.predict_proba(dev_X)\n",
    "y_test_proba_ResNet = clf_svc.predict_proba(test_X)\n"
   ]
  },
  {
   "cell_type": "code",
   "execution_count": null,
   "id": "e53e4620-efd3-4689-b428-cf7137371670",
   "metadata": {},
   "outputs": [],
   "source": [
    "# test_unseen = datafolder+'test_unseen_with_features.csv'\n",
    "# dev_unseen = datafolder+'dev_unseen_with_features.csv'\n",
    "\n",
    "# df_dev_unseen = pd.read_csv(dev_unseen, skip_blank_lines=False)\n",
    "# df_test_unseen = pd.read_csv(test_unseen, skip_blank_lines=False)\n",
    "\n",
    "# dev_img = torch.stack(torch.load('image_embeddings/dev_img_tensors.pt'))\n",
    "# test_img = torch.stack(torch.load('image_embeddings/test_img_tensors.pt'))\n",
    "\n",
    "# Y_dev_unseen = df_dev['label']\n",
    "# Y_test_unseen = df_test['label']\n",
    "\n",
    "# dev_X = [np.array(x.cpu()).flatten() for x in dev_img]\n",
    "# test_X = [np.array(x.cpu()).flatten() for x in test_img]\n",
    "\n",
    "# y_dev_unseen_proba_ResNet = clf_svc.predict_proba(dev_X)\n",
    "# y_test_unseen_proba_ResNet = clf_svc.predict_proba(test_X)"
   ]
  },
  {
   "cell_type": "markdown",
   "id": "275a42b9-81fe-4b87-a660-3b60f897e712",
   "metadata": {},
   "source": [
    "# BoW:"
   ]
  },
  {
   "cell_type": "code",
   "execution_count": 30,
   "id": "e2a9e623-c63e-43ae-b97b-5d14a28c3921",
   "metadata": {},
   "outputs": [],
   "source": [
    "vectorizer_BoW = CountVectorizer(tokenizer=lambda x: x.split(), analyzer='word', ngram_range=(1, 1)) # to build 1n-grams from the word ==> BoW\n",
    "                \n",
    "X_train_BoW = vectorizer_BoW.fit_transform(df_train.tokens)\n",
    "X_dev_BoW = vectorizer_BoW.transform(df_dev.tokens) \n",
    "X_test_BoW = vectorizer_BoW.transform(df_test.tokens)\n",
    "\n",
    "clf = LinearSVC(max_iter=1000000, C = 10,random_state =456) \n",
    "clf_svc_BoW = CalibratedClassifierCV(clf) \n",
    "\n",
    "clf_svc_BoW.fit(X_train_BoW, Y_train)\n",
    "\n",
    "y_dev_proba_BoW = clf_svc_BoW.predict_proba(X_dev_BoW)\n",
    "y_test_proba_BoW = clf_svc_BoW.predict_proba(X_test_BoW)\n"
   ]
  },
  {
   "cell_type": "code",
   "execution_count": 31,
   "id": "18e0189a-8819-4deb-99ff-0f280d5ecaff",
   "metadata": {},
   "outputs": [],
   "source": [
    "X_dev_Bow = fuse_proba(y_dev_proba_BoW, y_dev_proba_ResNet)\n",
    "X_test_Bow = fuse_proba(y_test_proba_BoW, y_test_proba_ResNet)\n",
    "\n",
    "BoW_ResNet_results = late_fuse_MLP( X_test_Bow, Y_test, X_dev_Bow, Y_dev)"
   ]
  },
  {
   "cell_type": "code",
   "execution_count": 32,
   "id": "4f7c5f18-9c89-4a2c-bcb6-91ae903875c4",
   "metadata": {},
   "outputs": [
    {
     "data": {
      "text/html": [
       "<div>\n",
       "<style scoped>\n",
       "    .dataframe tbody tr th:only-of-type {\n",
       "        vertical-align: middle;\n",
       "    }\n",
       "\n",
       "    .dataframe tbody tr th {\n",
       "        vertical-align: top;\n",
       "    }\n",
       "\n",
       "    .dataframe thead th {\n",
       "        text-align: right;\n",
       "    }\n",
       "</style>\n",
       "<table border=\"1\" class=\"dataframe\">\n",
       "  <thead>\n",
       "    <tr style=\"text-align: right;\">\n",
       "      <th></th>\n",
       "      <th>f1_score</th>\n",
       "      <th>precision</th>\n",
       "      <th>recall</th>\n",
       "      <th>accuracy</th>\n",
       "      <th>AUROC</th>\n",
       "    </tr>\n",
       "  </thead>\n",
       "  <tbody>\n",
       "    <tr>\n",
       "      <th>0</th>\n",
       "      <td>0.518752</td>\n",
       "      <td>0.536222</td>\n",
       "      <td>0.531941</td>\n",
       "      <td>0.534</td>\n",
       "      <td>0.531941</td>\n",
       "    </tr>\n",
       "  </tbody>\n",
       "</table>\n",
       "</div>"
      ],
      "text/plain": [
       "   f1_score  precision    recall  accuracy     AUROC\n",
       "0  0.518752   0.536222  0.531941     0.534  0.531941"
      ]
     },
     "execution_count": 32,
     "metadata": {},
     "output_type": "execute_result"
    }
   ],
   "source": [
    "BoW_ResNet_results"
   ]
  },
  {
   "cell_type": "code",
   "execution_count": 57,
   "id": "de292f67-edc9-4200-b071-1f265213b245",
   "metadata": {},
   "outputs": [
    {
     "data": {
      "text/html": [
       "<div>\n",
       "<style scoped>\n",
       "    .dataframe tbody tr th:only-of-type {\n",
       "        vertical-align: middle;\n",
       "    }\n",
       "\n",
       "    .dataframe tbody tr th {\n",
       "        vertical-align: top;\n",
       "    }\n",
       "\n",
       "    .dataframe thead th {\n",
       "        text-align: right;\n",
       "    }\n",
       "</style>\n",
       "<table border=\"1\" class=\"dataframe\">\n",
       "  <thead>\n",
       "    <tr style=\"text-align: right;\">\n",
       "      <th></th>\n",
       "      <th>f1_score</th>\n",
       "      <th>precision</th>\n",
       "      <th>recall</th>\n",
       "      <th>accuracy</th>\n",
       "      <th>AUROC</th>\n",
       "    </tr>\n",
       "  </thead>\n",
       "  <tbody>\n",
       "    <tr>\n",
       "      <th>0</th>\n",
       "      <td>0.557786</td>\n",
       "      <td>0.557867</td>\n",
       "      <td>0.557816</td>\n",
       "      <td>0.558</td>\n",
       "      <td>0.557816</td>\n",
       "    </tr>\n",
       "  </tbody>\n",
       "</table>\n",
       "</div>"
      ],
      "text/plain": [
       "   f1_score  precision    recall  accuracy     AUROC\n",
       "0  0.557786   0.557867  0.557816     0.558  0.557816"
      ]
     },
     "execution_count": 57,
     "metadata": {},
     "output_type": "execute_result"
    }
   ],
   "source": [
    "late_fuse_MLP( X_test_Bow, Y_test, X_dev_Bow, Y_dev)"
   ]
  },
  {
   "cell_type": "code",
   "execution_count": 58,
   "id": "1433939d-6d6c-4994-bd0b-b57a37a9a1ad",
   "metadata": {},
   "outputs": [
    {
     "data": {
      "text/html": [
       "<div>\n",
       "<style scoped>\n",
       "    .dataframe tbody tr th:only-of-type {\n",
       "        vertical-align: middle;\n",
       "    }\n",
       "\n",
       "    .dataframe tbody tr th {\n",
       "        vertical-align: top;\n",
       "    }\n",
       "\n",
       "    .dataframe thead th {\n",
       "        text-align: right;\n",
       "    }\n",
       "</style>\n",
       "<table border=\"1\" class=\"dataframe\">\n",
       "  <thead>\n",
       "    <tr style=\"text-align: right;\">\n",
       "      <th></th>\n",
       "      <th>f1_score</th>\n",
       "      <th>precision</th>\n",
       "      <th>recall</th>\n",
       "      <th>accuracy</th>\n",
       "      <th>AUROC</th>\n",
       "    </tr>\n",
       "  </thead>\n",
       "  <tbody>\n",
       "    <tr>\n",
       "      <th>0</th>\n",
       "      <td>0.575</td>\n",
       "      <td>0.613787</td>\n",
       "      <td>0.594486</td>\n",
       "      <td>0.592</td>\n",
       "      <td>0.594486</td>\n",
       "    </tr>\n",
       "  </tbody>\n",
       "</table>\n",
       "</div>"
      ],
      "text/plain": [
       "   f1_score  precision    recall  accuracy     AUROC\n",
       "0     0.575   0.613787  0.594486     0.592  0.594486"
      ]
     },
     "execution_count": 58,
     "metadata": {},
     "output_type": "execute_result"
    }
   ],
   "source": [
    "late_fuse_MLP( X_test_Bow, Y_test, X_dev_Bow, Y_dev)"
   ]
  },
  {
   "cell_type": "code",
   "execution_count": 59,
   "id": "13b97f20-64a0-4cba-9010-bdf0fbec9ea0",
   "metadata": {},
   "outputs": [
    {
     "data": {
      "text/html": [
       "<div>\n",
       "<style scoped>\n",
       "    .dataframe tbody tr th:only-of-type {\n",
       "        vertical-align: middle;\n",
       "    }\n",
       "\n",
       "    .dataframe tbody tr th {\n",
       "        vertical-align: top;\n",
       "    }\n",
       "\n",
       "    .dataframe thead th {\n",
       "        text-align: right;\n",
       "    }\n",
       "</style>\n",
       "<table border=\"1\" class=\"dataframe\">\n",
       "  <thead>\n",
       "    <tr style=\"text-align: right;\">\n",
       "      <th></th>\n",
       "      <th>f1_score</th>\n",
       "      <th>precision</th>\n",
       "      <th>recall</th>\n",
       "      <th>accuracy</th>\n",
       "      <th>AUROC</th>\n",
       "    </tr>\n",
       "  </thead>\n",
       "  <tbody>\n",
       "    <tr>\n",
       "      <th>0</th>\n",
       "      <td>0.550965</td>\n",
       "      <td>0.551862</td>\n",
       "      <td>0.551503</td>\n",
       "      <td>0.552</td>\n",
       "      <td>0.551503</td>\n",
       "    </tr>\n",
       "  </tbody>\n",
       "</table>\n",
       "</div>"
      ],
      "text/plain": [
       "   f1_score  precision    recall  accuracy     AUROC\n",
       "0  0.550965   0.551862  0.551503     0.552  0.551503"
      ]
     },
     "execution_count": 59,
     "metadata": {},
     "output_type": "execute_result"
    }
   ],
   "source": [
    "late_fuse_MLP( X_test_Bow, Y_test, X_dev_Bow, Y_dev)"
   ]
  },
  {
   "cell_type": "code",
   "execution_count": 60,
   "id": "3acd9c7a-ae0d-4921-88fa-37546e4cdb63",
   "metadata": {},
   "outputs": [
    {
     "name": "stderr",
     "output_type": "stream",
     "text": [
      "C:\\Users\\Hisha\\AppData\\Local\\Programs\\Python\\Python310\\lib\\site-packages\\sklearn\\metrics\\_classification.py:1334: UndefinedMetricWarning: Precision and F-score are ill-defined and being set to 0.0 in labels with no predicted samples. Use `zero_division` parameter to control this behavior.\n",
      "  _warn_prf(average, modifier, msg_start, len(result))\n",
      "C:\\Users\\Hisha\\AppData\\Local\\Programs\\Python\\Python310\\lib\\site-packages\\sklearn\\metrics\\_classification.py:1334: UndefinedMetricWarning: Precision and F-score are ill-defined and being set to 0.0 in labels with no predicted samples. Use `zero_division` parameter to control this behavior.\n",
      "  _warn_prf(average, modifier, msg_start, len(result))\n",
      "C:\\Users\\Hisha\\AppData\\Local\\Programs\\Python\\Python310\\lib\\site-packages\\sklearn\\metrics\\_classification.py:1334: UndefinedMetricWarning: Precision and F-score are ill-defined and being set to 0.0 in labels with no predicted samples. Use `zero_division` parameter to control this behavior.\n",
      "  _warn_prf(average, modifier, msg_start, len(result))\n"
     ]
    },
    {
     "data": {
      "text/html": [
       "<div>\n",
       "<style scoped>\n",
       "    .dataframe tbody tr th:only-of-type {\n",
       "        vertical-align: middle;\n",
       "    }\n",
       "\n",
       "    .dataframe tbody tr th {\n",
       "        vertical-align: top;\n",
       "    }\n",
       "\n",
       "    .dataframe thead th {\n",
       "        text-align: right;\n",
       "    }\n",
       "</style>\n",
       "<table border=\"1\" class=\"dataframe\">\n",
       "  <thead>\n",
       "    <tr style=\"text-align: right;\">\n",
       "      <th></th>\n",
       "      <th>f1_score</th>\n",
       "      <th>precision</th>\n",
       "      <th>recall</th>\n",
       "      <th>accuracy</th>\n",
       "      <th>AUROC</th>\n",
       "    </tr>\n",
       "  </thead>\n",
       "  <tbody>\n",
       "    <tr>\n",
       "      <th>0</th>\n",
       "      <td>0.335989</td>\n",
       "      <td>0.253</td>\n",
       "      <td>0.5</td>\n",
       "      <td>0.506</td>\n",
       "      <td>0.5</td>\n",
       "    </tr>\n",
       "  </tbody>\n",
       "</table>\n",
       "</div>"
      ],
      "text/plain": [
       "   f1_score  precision  recall  accuracy  AUROC\n",
       "0  0.335989      0.253     0.5     0.506    0.5"
      ]
     },
     "execution_count": 60,
     "metadata": {},
     "output_type": "execute_result"
    }
   ],
   "source": [
    "late_fuse_MLP( X_test_Bow, Y_test, X_dev_Bow, Y_dev)"
   ]
  },
  {
   "cell_type": "code",
   "execution_count": 61,
   "id": "6701d1b9-1d58-4f5a-a8b4-a5af582c73a0",
   "metadata": {},
   "outputs": [
    {
     "data": {
      "text/html": [
       "<div>\n",
       "<style scoped>\n",
       "    .dataframe tbody tr th:only-of-type {\n",
       "        vertical-align: middle;\n",
       "    }\n",
       "\n",
       "    .dataframe tbody tr th {\n",
       "        vertical-align: top;\n",
       "    }\n",
       "\n",
       "    .dataframe thead th {\n",
       "        text-align: right;\n",
       "    }\n",
       "</style>\n",
       "<table border=\"1\" class=\"dataframe\">\n",
       "  <thead>\n",
       "    <tr style=\"text-align: right;\">\n",
       "      <th></th>\n",
       "      <th>f1_score</th>\n",
       "      <th>precision</th>\n",
       "      <th>recall</th>\n",
       "      <th>accuracy</th>\n",
       "      <th>AUROC</th>\n",
       "    </tr>\n",
       "  </thead>\n",
       "  <tbody>\n",
       "    <tr>\n",
       "      <th>0</th>\n",
       "      <td>0.554796</td>\n",
       "      <td>0.557469</td>\n",
       "      <td>0.556704</td>\n",
       "      <td>0.556</td>\n",
       "      <td>0.556704</td>\n",
       "    </tr>\n",
       "  </tbody>\n",
       "</table>\n",
       "</div>"
      ],
      "text/plain": [
       "   f1_score  precision    recall  accuracy     AUROC\n",
       "0  0.554796   0.557469  0.556704     0.556  0.556704"
      ]
     },
     "execution_count": 61,
     "metadata": {},
     "output_type": "execute_result"
    }
   ],
   "source": [
    "late_fuse_MLP( X_test_Bow, Y_test, X_dev_Bow, Y_dev)"
   ]
  },
  {
   "cell_type": "code",
   "execution_count": 62,
   "id": "0ea13978-e8d2-4e6a-8b76-06aa17e35d2d",
   "metadata": {},
   "outputs": [
    {
     "data": {
      "text/html": [
       "<div>\n",
       "<style scoped>\n",
       "    .dataframe tbody tr th:only-of-type {\n",
       "        vertical-align: middle;\n",
       "    }\n",
       "\n",
       "    .dataframe tbody tr th {\n",
       "        vertical-align: top;\n",
       "    }\n",
       "\n",
       "    .dataframe thead th {\n",
       "        text-align: right;\n",
       "    }\n",
       "</style>\n",
       "<table border=\"1\" class=\"dataframe\">\n",
       "  <thead>\n",
       "    <tr style=\"text-align: right;\">\n",
       "      <th></th>\n",
       "      <th>f1_score</th>\n",
       "      <th>precision</th>\n",
       "      <th>recall</th>\n",
       "      <th>accuracy</th>\n",
       "      <th>AUROC</th>\n",
       "    </tr>\n",
       "  </thead>\n",
       "  <tbody>\n",
       "    <tr>\n",
       "      <th>0</th>\n",
       "      <td>0.575684</td>\n",
       "      <td>0.589395</td>\n",
       "      <td>0.583548</td>\n",
       "      <td>0.582</td>\n",
       "      <td>0.583548</td>\n",
       "    </tr>\n",
       "  </tbody>\n",
       "</table>\n",
       "</div>"
      ],
      "text/plain": [
       "   f1_score  precision    recall  accuracy     AUROC\n",
       "0  0.575684   0.589395  0.583548     0.582  0.583548"
      ]
     },
     "execution_count": 62,
     "metadata": {},
     "output_type": "execute_result"
    }
   ],
   "source": [
    "late_fuse_MLP( X_test_Bow, Y_test, X_dev_Bow, Y_dev)"
   ]
  },
  {
   "cell_type": "code",
   "execution_count": 63,
   "id": "229086c3-2242-40b5-aff9-de7ab42981d7",
   "metadata": {},
   "outputs": [
    {
     "name": "stderr",
     "output_type": "stream",
     "text": [
      "C:\\Users\\Hisha\\AppData\\Local\\Programs\\Python\\Python310\\lib\\site-packages\\sklearn\\metrics\\_classification.py:1334: UndefinedMetricWarning: Precision and F-score are ill-defined and being set to 0.0 in labels with no predicted samples. Use `zero_division` parameter to control this behavior.\n",
      "  _warn_prf(average, modifier, msg_start, len(result))\n",
      "C:\\Users\\Hisha\\AppData\\Local\\Programs\\Python\\Python310\\lib\\site-packages\\sklearn\\metrics\\_classification.py:1334: UndefinedMetricWarning: Precision and F-score are ill-defined and being set to 0.0 in labels with no predicted samples. Use `zero_division` parameter to control this behavior.\n",
      "  _warn_prf(average, modifier, msg_start, len(result))\n",
      "C:\\Users\\Hisha\\AppData\\Local\\Programs\\Python\\Python310\\lib\\site-packages\\sklearn\\metrics\\_classification.py:1334: UndefinedMetricWarning: Precision and F-score are ill-defined and being set to 0.0 in labels with no predicted samples. Use `zero_division` parameter to control this behavior.\n",
      "  _warn_prf(average, modifier, msg_start, len(result))\n"
     ]
    },
    {
     "data": {
      "text/html": [
       "<div>\n",
       "<style scoped>\n",
       "    .dataframe tbody tr th:only-of-type {\n",
       "        vertical-align: middle;\n",
       "    }\n",
       "\n",
       "    .dataframe tbody tr th {\n",
       "        vertical-align: top;\n",
       "    }\n",
       "\n",
       "    .dataframe thead th {\n",
       "        text-align: right;\n",
       "    }\n",
       "</style>\n",
       "<table border=\"1\" class=\"dataframe\">\n",
       "  <thead>\n",
       "    <tr style=\"text-align: right;\">\n",
       "      <th></th>\n",
       "      <th>f1_score</th>\n",
       "      <th>precision</th>\n",
       "      <th>recall</th>\n",
       "      <th>accuracy</th>\n",
       "      <th>AUROC</th>\n",
       "    </tr>\n",
       "  </thead>\n",
       "  <tbody>\n",
       "    <tr>\n",
       "      <th>0</th>\n",
       "      <td>0.335989</td>\n",
       "      <td>0.253</td>\n",
       "      <td>0.5</td>\n",
       "      <td>0.506</td>\n",
       "      <td>0.5</td>\n",
       "    </tr>\n",
       "  </tbody>\n",
       "</table>\n",
       "</div>"
      ],
      "text/plain": [
       "   f1_score  precision  recall  accuracy  AUROC\n",
       "0  0.335989      0.253     0.5     0.506    0.5"
      ]
     },
     "execution_count": 63,
     "metadata": {},
     "output_type": "execute_result"
    }
   ],
   "source": [
    "late_fuse_MLP( X_test_Bow, Y_test, X_dev_Bow, Y_dev)"
   ]
  },
  {
   "cell_type": "code",
   "execution_count": 64,
   "id": "9c11da08-2921-4a7c-810a-9aa4da1ef7c8",
   "metadata": {},
   "outputs": [
    {
     "data": {
      "text/html": [
       "<div>\n",
       "<style scoped>\n",
       "    .dataframe tbody tr th:only-of-type {\n",
       "        vertical-align: middle;\n",
       "    }\n",
       "\n",
       "    .dataframe tbody tr th {\n",
       "        vertical-align: top;\n",
       "    }\n",
       "\n",
       "    .dataframe thead th {\n",
       "        text-align: right;\n",
       "    }\n",
       "</style>\n",
       "<table border=\"1\" class=\"dataframe\">\n",
       "  <thead>\n",
       "    <tr style=\"text-align: right;\">\n",
       "      <th></th>\n",
       "      <th>f1_score</th>\n",
       "      <th>precision</th>\n",
       "      <th>recall</th>\n",
       "      <th>accuracy</th>\n",
       "      <th>AUROC</th>\n",
       "    </tr>\n",
       "  </thead>\n",
       "  <tbody>\n",
       "    <tr>\n",
       "      <th>0</th>\n",
       "      <td>0.569316</td>\n",
       "      <td>0.587437</td>\n",
       "      <td>0.579787</td>\n",
       "      <td>0.578</td>\n",
       "      <td>0.579787</td>\n",
       "    </tr>\n",
       "  </tbody>\n",
       "</table>\n",
       "</div>"
      ],
      "text/plain": [
       "   f1_score  precision    recall  accuracy     AUROC\n",
       "0  0.569316   0.587437  0.579787     0.578  0.579787"
      ]
     },
     "execution_count": 64,
     "metadata": {},
     "output_type": "execute_result"
    }
   ],
   "source": [
    "late_fuse_MLP( X_test_Bow, Y_test, X_dev_Bow, Y_dev)"
   ]
  },
  {
   "cell_type": "code",
   "execution_count": 65,
   "id": "94dc419e-a67c-425e-863f-ed89fb7a1c78",
   "metadata": {},
   "outputs": [
    {
     "data": {
      "text/html": [
       "<div>\n",
       "<style scoped>\n",
       "    .dataframe tbody tr th:only-of-type {\n",
       "        vertical-align: middle;\n",
       "    }\n",
       "\n",
       "    .dataframe tbody tr th {\n",
       "        vertical-align: top;\n",
       "    }\n",
       "\n",
       "    .dataframe thead th {\n",
       "        text-align: right;\n",
       "    }\n",
       "</style>\n",
       "<table border=\"1\" class=\"dataframe\">\n",
       "  <thead>\n",
       "    <tr style=\"text-align: right;\">\n",
       "      <th></th>\n",
       "      <th>f1_score</th>\n",
       "      <th>precision</th>\n",
       "      <th>recall</th>\n",
       "      <th>accuracy</th>\n",
       "      <th>AUROC</th>\n",
       "    </tr>\n",
       "  </thead>\n",
       "  <tbody>\n",
       "    <tr>\n",
       "      <th>0</th>\n",
       "      <td>0.490662</td>\n",
       "      <td>0.522013</td>\n",
       "      <td>0.517194</td>\n",
       "      <td>0.52</td>\n",
       "      <td>0.517194</td>\n",
       "    </tr>\n",
       "  </tbody>\n",
       "</table>\n",
       "</div>"
      ],
      "text/plain": [
       "   f1_score  precision    recall  accuracy     AUROC\n",
       "0  0.490662   0.522013  0.517194      0.52  0.517194"
      ]
     },
     "execution_count": 65,
     "metadata": {},
     "output_type": "execute_result"
    }
   ],
   "source": [
    "late_fuse_MLP( X_test_Bow, Y_test, X_dev_Bow, Y_dev)"
   ]
  },
  {
   "cell_type": "markdown",
   "id": "734b5d74-6c9d-41bf-ad97-638b72b233e0",
   "metadata": {},
   "source": [
    "# Char-n-gram:"
   ]
  },
  {
   "cell_type": "code",
   "execution_count": 33,
   "id": "d5ceab4d-04a9-4e04-8608-4c9a08818f71",
   "metadata": {},
   "outputs": [
    {
     "name": "stderr",
     "output_type": "stream",
     "text": [
      "C:\\Users\\Hisha\\AppData\\Local\\Programs\\Python\\Python310\\lib\\site-packages\\sklearn\\svm\\_base.py:1225: ConvergenceWarning: Liblinear failed to converge, increase the number of iterations.\n",
      "  warnings.warn(\n",
      "C:\\Users\\Hisha\\AppData\\Local\\Programs\\Python\\Python310\\lib\\site-packages\\sklearn\\svm\\_base.py:1225: ConvergenceWarning: Liblinear failed to converge, increase the number of iterations.\n",
      "  warnings.warn(\n",
      "C:\\Users\\Hisha\\AppData\\Local\\Programs\\Python\\Python310\\lib\\site-packages\\sklearn\\svm\\_base.py:1225: ConvergenceWarning: Liblinear failed to converge, increase the number of iterations.\n",
      "  warnings.warn(\n",
      "C:\\Users\\Hisha\\AppData\\Local\\Programs\\Python\\Python310\\lib\\site-packages\\sklearn\\svm\\_base.py:1225: ConvergenceWarning: Liblinear failed to converge, increase the number of iterations.\n",
      "  warnings.warn(\n"
     ]
    }
   ],
   "source": [
    "vectorizer_char = CountVectorizer(tokenizer=lambda x: list(x), analyzer='char', ngram_range=(1, 3)) # to build 1n-grams from the word ==> BoW\n",
    "\n",
    "X_train_char = vectorizer_char.fit_transform(df_train.tokens)\n",
    "X_dev_char = vectorizer_char.transform(df_dev.tokens) \n",
    "X_test_char = vectorizer_char.transform(df_test.tokens)\n",
    "\n",
    "clf = LinearSVC(max_iter=1000000, C = 10, random_state =456) \n",
    "clf_svc_char = CalibratedClassifierCV(clf) \n",
    "clf_svc_char.fit(X_train_char, Y_train)\n",
    "\n",
    "\n",
    "y_dev_proba_char = clf_svc_char.predict_proba(X_dev_char)\n",
    "y_test_proba_char = clf_svc_char.predict_proba(X_test_char)"
   ]
  },
  {
   "cell_type": "code",
   "execution_count": 34,
   "id": "6a3ffcd2-19c4-455f-81ff-f1a219843117",
   "metadata": {},
   "outputs": [],
   "source": [
    "X_dev_char = fuse_proba(y_dev_proba_char, y_dev_proba_ResNet)\n",
    "X_test_char = fuse_proba(y_test_proba_char, y_test_proba_ResNet)\n",
    "\n",
    "char_ResNet_results = late_fuse_MLP( X_test_char, Y_test, X_dev_char, Y_dev)"
   ]
  },
  {
   "cell_type": "code",
   "execution_count": 35,
   "id": "c8358eaa-2b1e-471c-b9a5-1d2ad044157e",
   "metadata": {},
   "outputs": [
    {
     "data": {
      "text/html": [
       "<div>\n",
       "<style scoped>\n",
       "    .dataframe tbody tr th:only-of-type {\n",
       "        vertical-align: middle;\n",
       "    }\n",
       "\n",
       "    .dataframe tbody tr th {\n",
       "        vertical-align: top;\n",
       "    }\n",
       "\n",
       "    .dataframe thead th {\n",
       "        text-align: right;\n",
       "    }\n",
       "</style>\n",
       "<table border=\"1\" class=\"dataframe\">\n",
       "  <thead>\n",
       "    <tr style=\"text-align: right;\">\n",
       "      <th></th>\n",
       "      <th>f1_score</th>\n",
       "      <th>precision</th>\n",
       "      <th>recall</th>\n",
       "      <th>accuracy</th>\n",
       "      <th>AUROC</th>\n",
       "    </tr>\n",
       "  </thead>\n",
       "  <tbody>\n",
       "    <tr>\n",
       "      <th>0</th>\n",
       "      <td>0.549479</td>\n",
       "      <td>0.550805</td>\n",
       "      <td>0.550487</td>\n",
       "      <td>0.55</td>\n",
       "      <td>0.550487</td>\n",
       "    </tr>\n",
       "  </tbody>\n",
       "</table>\n",
       "</div>"
      ],
      "text/plain": [
       "   f1_score  precision    recall  accuracy     AUROC\n",
       "0  0.549479   0.550805  0.550487      0.55  0.550487"
      ]
     },
     "execution_count": 35,
     "metadata": {},
     "output_type": "execute_result"
    }
   ],
   "source": [
    "char_ResNet_results"
   ]
  },
  {
   "cell_type": "code",
   "execution_count": 54,
   "id": "7b8a89df-3579-4574-9246-4277f1fe9e57",
   "metadata": {},
   "outputs": [
    {
     "data": {
      "text/html": [
       "<div>\n",
       "<style scoped>\n",
       "    .dataframe tbody tr th:only-of-type {\n",
       "        vertical-align: middle;\n",
       "    }\n",
       "\n",
       "    .dataframe tbody tr th {\n",
       "        vertical-align: top;\n",
       "    }\n",
       "\n",
       "    .dataframe thead th {\n",
       "        text-align: right;\n",
       "    }\n",
       "</style>\n",
       "<table border=\"1\" class=\"dataframe\">\n",
       "  <thead>\n",
       "    <tr style=\"text-align: right;\">\n",
       "      <th></th>\n",
       "      <th>f1_score</th>\n",
       "      <th>precision</th>\n",
       "      <th>recall</th>\n",
       "      <th>accuracy</th>\n",
       "      <th>AUROC</th>\n",
       "    </tr>\n",
       "  </thead>\n",
       "  <tbody>\n",
       "    <tr>\n",
       "      <th>0</th>\n",
       "      <td>0.515706</td>\n",
       "      <td>0.521717</td>\n",
       "      <td>0.520707</td>\n",
       "      <td>0.522</td>\n",
       "      <td>0.520707</td>\n",
       "    </tr>\n",
       "  </tbody>\n",
       "</table>\n",
       "</div>"
      ],
      "text/plain": [
       "   f1_score  precision    recall  accuracy     AUROC\n",
       "0  0.515706   0.521717  0.520707     0.522  0.520707"
      ]
     },
     "execution_count": 54,
     "metadata": {},
     "output_type": "execute_result"
    }
   ],
   "source": [
    "late_fuse_MLP( X_test_char, Y_test, X_dev_char, Y_dev)"
   ]
  },
  {
   "cell_type": "code",
   "execution_count": 55,
   "id": "86b0ee09-fbac-4c47-a487-39ac24ca8986",
   "metadata": {},
   "outputs": [
    {
     "data": {
      "text/html": [
       "<div>\n",
       "<style scoped>\n",
       "    .dataframe tbody tr th:only-of-type {\n",
       "        vertical-align: middle;\n",
       "    }\n",
       "\n",
       "    .dataframe tbody tr th {\n",
       "        vertical-align: top;\n",
       "    }\n",
       "\n",
       "    .dataframe thead th {\n",
       "        text-align: right;\n",
       "    }\n",
       "</style>\n",
       "<table border=\"1\" class=\"dataframe\">\n",
       "  <thead>\n",
       "    <tr style=\"text-align: right;\">\n",
       "      <th></th>\n",
       "      <th>f1_score</th>\n",
       "      <th>precision</th>\n",
       "      <th>recall</th>\n",
       "      <th>accuracy</th>\n",
       "      <th>AUROC</th>\n",
       "    </tr>\n",
       "  </thead>\n",
       "  <tbody>\n",
       "    <tr>\n",
       "      <th>0</th>\n",
       "      <td>0.548872</td>\n",
       "      <td>0.551316</td>\n",
       "      <td>0.550679</td>\n",
       "      <td>0.55</td>\n",
       "      <td>0.550679</td>\n",
       "    </tr>\n",
       "  </tbody>\n",
       "</table>\n",
       "</div>"
      ],
      "text/plain": [
       "   f1_score  precision    recall  accuracy     AUROC\n",
       "0  0.548872   0.551316  0.550679      0.55  0.550679"
      ]
     },
     "execution_count": 55,
     "metadata": {},
     "output_type": "execute_result"
    }
   ],
   "source": [
    "late_fuse_MLP( X_test_char, Y_test, X_dev_char, Y_dev)"
   ]
  },
  {
   "cell_type": "code",
   "execution_count": 56,
   "id": "fcd974cc-aa92-46f9-8c91-39316021277d",
   "metadata": {},
   "outputs": [
    {
     "data": {
      "text/html": [
       "<div>\n",
       "<style scoped>\n",
       "    .dataframe tbody tr th:only-of-type {\n",
       "        vertical-align: middle;\n",
       "    }\n",
       "\n",
       "    .dataframe tbody tr th {\n",
       "        vertical-align: top;\n",
       "    }\n",
       "\n",
       "    .dataframe thead th {\n",
       "        text-align: right;\n",
       "    }\n",
       "</style>\n",
       "<table border=\"1\" class=\"dataframe\">\n",
       "  <thead>\n",
       "    <tr style=\"text-align: right;\">\n",
       "      <th></th>\n",
       "      <th>f1_score</th>\n",
       "      <th>precision</th>\n",
       "      <th>recall</th>\n",
       "      <th>accuracy</th>\n",
       "      <th>AUROC</th>\n",
       "    </tr>\n",
       "  </thead>\n",
       "  <tbody>\n",
       "    <tr>\n",
       "      <th>0</th>\n",
       "      <td>0.471025</td>\n",
       "      <td>0.521999</td>\n",
       "      <td>0.514498</td>\n",
       "      <td>0.518</td>\n",
       "      <td>0.514498</td>\n",
       "    </tr>\n",
       "  </tbody>\n",
       "</table>\n",
       "</div>"
      ],
      "text/plain": [
       "   f1_score  precision    recall  accuracy     AUROC\n",
       "0  0.471025   0.521999  0.514498     0.518  0.514498"
      ]
     },
     "execution_count": 56,
     "metadata": {},
     "output_type": "execute_result"
    }
   ],
   "source": [
    "late_fuse_MLP( X_test_char, Y_test, X_dev_char, Y_dev)"
   ]
  },
  {
   "cell_type": "code",
   "execution_count": 66,
   "id": "fccdc65e-f593-44c9-9c96-42d407dc4491",
   "metadata": {},
   "outputs": [
    {
     "data": {
      "text/html": [
       "<div>\n",
       "<style scoped>\n",
       "    .dataframe tbody tr th:only-of-type {\n",
       "        vertical-align: middle;\n",
       "    }\n",
       "\n",
       "    .dataframe tbody tr th {\n",
       "        vertical-align: top;\n",
       "    }\n",
       "\n",
       "    .dataframe thead th {\n",
       "        text-align: right;\n",
       "    }\n",
       "</style>\n",
       "<table border=\"1\" class=\"dataframe\">\n",
       "  <thead>\n",
       "    <tr style=\"text-align: right;\">\n",
       "      <th></th>\n",
       "      <th>f1_score</th>\n",
       "      <th>precision</th>\n",
       "      <th>recall</th>\n",
       "      <th>accuracy</th>\n",
       "      <th>AUROC</th>\n",
       "    </tr>\n",
       "  </thead>\n",
       "  <tbody>\n",
       "    <tr>\n",
       "      <th>0</th>\n",
       "      <td>0.549046</td>\n",
       "      <td>0.551178</td>\n",
       "      <td>0.550631</td>\n",
       "      <td>0.55</td>\n",
       "      <td>0.550631</td>\n",
       "    </tr>\n",
       "  </tbody>\n",
       "</table>\n",
       "</div>"
      ],
      "text/plain": [
       "   f1_score  precision    recall  accuracy     AUROC\n",
       "0  0.549046   0.551178  0.550631      0.55  0.550631"
      ]
     },
     "execution_count": 66,
     "metadata": {},
     "output_type": "execute_result"
    }
   ],
   "source": [
    "late_fuse_MLP( X_test_char, Y_test, X_dev_char, Y_dev)"
   ]
  },
  {
   "cell_type": "code",
   "execution_count": 67,
   "id": "2814d0f2-ff8a-436f-b8b0-6b574b55cf17",
   "metadata": {},
   "outputs": [
    {
     "data": {
      "text/html": [
       "<div>\n",
       "<style scoped>\n",
       "    .dataframe tbody tr th:only-of-type {\n",
       "        vertical-align: middle;\n",
       "    }\n",
       "\n",
       "    .dataframe tbody tr th {\n",
       "        vertical-align: top;\n",
       "    }\n",
       "\n",
       "    .dataframe thead th {\n",
       "        text-align: right;\n",
       "    }\n",
       "</style>\n",
       "<table border=\"1\" class=\"dataframe\">\n",
       "  <thead>\n",
       "    <tr style=\"text-align: right;\">\n",
       "      <th></th>\n",
       "      <th>f1_score</th>\n",
       "      <th>precision</th>\n",
       "      <th>recall</th>\n",
       "      <th>accuracy</th>\n",
       "      <th>AUROC</th>\n",
       "    </tr>\n",
       "  </thead>\n",
       "  <tbody>\n",
       "    <tr>\n",
       "      <th>0</th>\n",
       "      <td>0.527084</td>\n",
       "      <td>0.527704</td>\n",
       "      <td>0.527548</td>\n",
       "      <td>0.528</td>\n",
       "      <td>0.527548</td>\n",
       "    </tr>\n",
       "  </tbody>\n",
       "</table>\n",
       "</div>"
      ],
      "text/plain": [
       "   f1_score  precision    recall  accuracy     AUROC\n",
       "0  0.527084   0.527704  0.527548     0.528  0.527548"
      ]
     },
     "execution_count": 67,
     "metadata": {},
     "output_type": "execute_result"
    }
   ],
   "source": [
    "late_fuse_MLP( X_test_char, Y_test, X_dev_char, Y_dev)"
   ]
  },
  {
   "cell_type": "code",
   "execution_count": 68,
   "id": "6a576673-b471-4e6d-91fd-b879d0b6609f",
   "metadata": {},
   "outputs": [
    {
     "data": {
      "text/html": [
       "<div>\n",
       "<style scoped>\n",
       "    .dataframe tbody tr th:only-of-type {\n",
       "        vertical-align: middle;\n",
       "    }\n",
       "\n",
       "    .dataframe tbody tr th {\n",
       "        vertical-align: top;\n",
       "    }\n",
       "\n",
       "    .dataframe thead th {\n",
       "        text-align: right;\n",
       "    }\n",
       "</style>\n",
       "<table border=\"1\" class=\"dataframe\">\n",
       "  <thead>\n",
       "    <tr style=\"text-align: right;\">\n",
       "      <th></th>\n",
       "      <th>f1_score</th>\n",
       "      <th>precision</th>\n",
       "      <th>recall</th>\n",
       "      <th>accuracy</th>\n",
       "      <th>AUROC</th>\n",
       "    </tr>\n",
       "  </thead>\n",
       "  <tbody>\n",
       "    <tr>\n",
       "      <th>0</th>\n",
       "      <td>0.529908</td>\n",
       "      <td>0.530288</td>\n",
       "      <td>0.530244</td>\n",
       "      <td>0.53</td>\n",
       "      <td>0.530244</td>\n",
       "    </tr>\n",
       "  </tbody>\n",
       "</table>\n",
       "</div>"
      ],
      "text/plain": [
       "   f1_score  precision    recall  accuracy     AUROC\n",
       "0  0.529908   0.530288  0.530244      0.53  0.530244"
      ]
     },
     "execution_count": 68,
     "metadata": {},
     "output_type": "execute_result"
    }
   ],
   "source": [
    "late_fuse_MLP( X_test_char, Y_test, X_dev_char, Y_dev)"
   ]
  },
  {
   "cell_type": "code",
   "execution_count": 69,
   "id": "5ccab46b-e629-4526-8d5d-4f2dbb928410",
   "metadata": {},
   "outputs": [
    {
     "name": "stderr",
     "output_type": "stream",
     "text": [
      "C:\\Users\\Hisha\\AppData\\Local\\Programs\\Python\\Python310\\lib\\site-packages\\sklearn\\metrics\\_classification.py:1334: UndefinedMetricWarning: Precision and F-score are ill-defined and being set to 0.0 in labels with no predicted samples. Use `zero_division` parameter to control this behavior.\n",
      "  _warn_prf(average, modifier, msg_start, len(result))\n",
      "C:\\Users\\Hisha\\AppData\\Local\\Programs\\Python\\Python310\\lib\\site-packages\\sklearn\\metrics\\_classification.py:1334: UndefinedMetricWarning: Precision and F-score are ill-defined and being set to 0.0 in labels with no predicted samples. Use `zero_division` parameter to control this behavior.\n",
      "  _warn_prf(average, modifier, msg_start, len(result))\n",
      "C:\\Users\\Hisha\\AppData\\Local\\Programs\\Python\\Python310\\lib\\site-packages\\sklearn\\metrics\\_classification.py:1334: UndefinedMetricWarning: Precision and F-score are ill-defined and being set to 0.0 in labels with no predicted samples. Use `zero_division` parameter to control this behavior.\n",
      "  _warn_prf(average, modifier, msg_start, len(result))\n"
     ]
    },
    {
     "data": {
      "text/html": [
       "<div>\n",
       "<style scoped>\n",
       "    .dataframe tbody tr th:only-of-type {\n",
       "        vertical-align: middle;\n",
       "    }\n",
       "\n",
       "    .dataframe tbody tr th {\n",
       "        vertical-align: top;\n",
       "    }\n",
       "\n",
       "    .dataframe thead th {\n",
       "        text-align: right;\n",
       "    }\n",
       "</style>\n",
       "<table border=\"1\" class=\"dataframe\">\n",
       "  <thead>\n",
       "    <tr style=\"text-align: right;\">\n",
       "      <th></th>\n",
       "      <th>f1_score</th>\n",
       "      <th>precision</th>\n",
       "      <th>recall</th>\n",
       "      <th>accuracy</th>\n",
       "      <th>AUROC</th>\n",
       "    </tr>\n",
       "  </thead>\n",
       "  <tbody>\n",
       "    <tr>\n",
       "      <th>0</th>\n",
       "      <td>0.335989</td>\n",
       "      <td>0.253</td>\n",
       "      <td>0.5</td>\n",
       "      <td>0.506</td>\n",
       "      <td>0.5</td>\n",
       "    </tr>\n",
       "  </tbody>\n",
       "</table>\n",
       "</div>"
      ],
      "text/plain": [
       "   f1_score  precision  recall  accuracy  AUROC\n",
       "0  0.335989      0.253     0.5     0.506    0.5"
      ]
     },
     "execution_count": 69,
     "metadata": {},
     "output_type": "execute_result"
    }
   ],
   "source": [
    "late_fuse_MLP( X_test_char, Y_test, X_dev_char, Y_dev)"
   ]
  },
  {
   "cell_type": "code",
   "execution_count": 70,
   "id": "d820814a-424d-43af-b5c1-3722c72253ac",
   "metadata": {},
   "outputs": [
    {
     "data": {
      "text/html": [
       "<div>\n",
       "<style scoped>\n",
       "    .dataframe tbody tr th:only-of-type {\n",
       "        vertical-align: middle;\n",
       "    }\n",
       "\n",
       "    .dataframe tbody tr th {\n",
       "        vertical-align: top;\n",
       "    }\n",
       "\n",
       "    .dataframe thead th {\n",
       "        text-align: right;\n",
       "    }\n",
       "</style>\n",
       "<table border=\"1\" class=\"dataframe\">\n",
       "  <thead>\n",
       "    <tr style=\"text-align: right;\">\n",
       "      <th></th>\n",
       "      <th>f1_score</th>\n",
       "      <th>precision</th>\n",
       "      <th>recall</th>\n",
       "      <th>accuracy</th>\n",
       "      <th>AUROC</th>\n",
       "    </tr>\n",
       "  </thead>\n",
       "  <tbody>\n",
       "    <tr>\n",
       "      <th>0</th>\n",
       "      <td>0.462243</td>\n",
       "      <td>0.523657</td>\n",
       "      <td>0.51421</td>\n",
       "      <td>0.518</td>\n",
       "      <td>0.51421</td>\n",
       "    </tr>\n",
       "  </tbody>\n",
       "</table>\n",
       "</div>"
      ],
      "text/plain": [
       "   f1_score  precision   recall  accuracy    AUROC\n",
       "0  0.462243   0.523657  0.51421     0.518  0.51421"
      ]
     },
     "execution_count": 70,
     "metadata": {},
     "output_type": "execute_result"
    }
   ],
   "source": [
    "late_fuse_MLP( X_test_char, Y_test, X_dev_char, Y_dev)"
   ]
  },
  {
   "cell_type": "code",
   "execution_count": 71,
   "id": "859c9beb-f9d9-46cf-a371-5ffdc40779c6",
   "metadata": {},
   "outputs": [
    {
     "data": {
      "text/html": [
       "<div>\n",
       "<style scoped>\n",
       "    .dataframe tbody tr th:only-of-type {\n",
       "        vertical-align: middle;\n",
       "    }\n",
       "\n",
       "    .dataframe tbody tr th {\n",
       "        vertical-align: top;\n",
       "    }\n",
       "\n",
       "    .dataframe thead th {\n",
       "        text-align: right;\n",
       "    }\n",
       "</style>\n",
       "<table border=\"1\" class=\"dataframe\">\n",
       "  <thead>\n",
       "    <tr style=\"text-align: right;\">\n",
       "      <th></th>\n",
       "      <th>f1_score</th>\n",
       "      <th>precision</th>\n",
       "      <th>recall</th>\n",
       "      <th>accuracy</th>\n",
       "      <th>AUROC</th>\n",
       "    </tr>\n",
       "  </thead>\n",
       "  <tbody>\n",
       "    <tr>\n",
       "      <th>0</th>\n",
       "      <td>0.523232</td>\n",
       "      <td>0.527857</td>\n",
       "      <td>0.526876</td>\n",
       "      <td>0.528</td>\n",
       "      <td>0.526876</td>\n",
       "    </tr>\n",
       "  </tbody>\n",
       "</table>\n",
       "</div>"
      ],
      "text/plain": [
       "   f1_score  precision    recall  accuracy     AUROC\n",
       "0  0.523232   0.527857  0.526876     0.528  0.526876"
      ]
     },
     "execution_count": 71,
     "metadata": {},
     "output_type": "execute_result"
    }
   ],
   "source": [
    "late_fuse_MLP( X_test_char, Y_test, X_dev_char, Y_dev)"
   ]
  },
  {
   "cell_type": "markdown",
   "id": "a5cf0397-c88f-4230-b8ab-fdf57a4e1479",
   "metadata": {},
   "source": [
    "# Advanced SVM:"
   ]
  },
  {
   "cell_type": "code",
   "execution_count": 39,
   "id": "b1743bf0-c147-4338-8f2c-26a900112f6e",
   "metadata": {},
   "outputs": [],
   "source": [
    "df_train = df_train.fillna('')\n",
    "\n",
    "df_dev = df_dev.fillna('')\n",
    "df_test = df_test.fillna('')"
   ]
  },
  {
   "cell_type": "code",
   "execution_count": 40,
   "id": "70a1821b-7862-48e5-a2ad-24c32d491bec",
   "metadata": {},
   "outputs": [],
   "source": [
    "vectorizer1 = CountVectorizer(tokenizer=lambda x: x.split(), analyzer='word', ngram_range=(1, 3)) # to build n-grams (n=1-3) from the pos_fw_emo representation\n",
    "vectorizer2 = CountVectorizer(tokenizer=lambda x: x.split(), analyzer='word', ngram_range=(1, 1)) # unigrams of emotion associations\n",
    "vectorizer3 = CountVectorizer(tokenizer=lambda x: x.split(), analyzer='word', ngram_range=(1, 1)) # unigrams of tokens (BoW)\n",
    "vectorizer4 = CountVectorizer(tokenizer=lambda x: x.split(), analyzer='word', ngram_range=(1, 4)) # unigrams of intent (BoW)\n",
    "\n",
    "\n",
    "# combine the features\n",
    "X_train_advanced = hstack((vectorizer1.fit_transform(df_train.pos_fw_emo), vectorizer2.fit_transform(df_train.emotion_associations), df_train[['count']].values, \\\n",
    "                df_train[['sentiment_score']].values, vectorizer3.fit_transform(df_train.tokens), vectorizer4.fit_transform(df_train.intent)), format='csr') \n",
    "\n",
    "X_dev_advanced = hstack((vectorizer1.transform(df_dev.pos_fw_emo), vectorizer2.transform(df_dev.emotion_associations), df_dev[['count']].values, \\\n",
    "                df_dev[['sentiment_score']].values, vectorizer3.transform(df_dev.tokens), vectorizer4.transform(df_dev.intent) ), format='csr') \n",
    "\n",
    "X_test_advanced = hstack((vectorizer1.transform(df_test.pos_fw_emo), vectorizer2.transform(df_test.emotion_associations), df_test[['count']].values, \\\n",
    "                df_test[['sentiment_score']].values, vectorizer3.transform(df_test.tokens), vectorizer4.transform(df_test.intent) ), format='csr') \n",
    "\n",
    "clf = LinearSVC(max_iter=1000000, C = 10, random_state =456) \n",
    "clf_svc_advanced = CalibratedClassifierCV(clf) \n",
    "clf_svc_advanced.fit(X_train_advanced, Y_train)\n",
    "\n",
    "y_dev_proba_advanced = clf_svc_advanced.predict_proba(X_dev_advanced)\n",
    "y_test_proba_advanced = clf_svc_advanced.predict_proba(X_test_advanced)"
   ]
  },
  {
   "cell_type": "code",
   "execution_count": 41,
   "id": "1baca68f-e7dc-4719-a017-8d64369d8d64",
   "metadata": {},
   "outputs": [],
   "source": [
    "X_dev_advanced = fuse_proba(y_dev_proba_advanced, y_dev_proba_ResNet)\n",
    "X_test_advanced = fuse_proba(y_test_proba_advanced, y_test_proba_ResNet)\n",
    "\n",
    "advanced_ResNet_results = late_fuse_MLP( X_test_advanced, Y_test, X_dev_advanced, Y_dev)"
   ]
  },
  {
   "cell_type": "code",
   "execution_count": 42,
   "id": "bd61b6d1-3a04-4c3e-9a0a-ac00d29e4b64",
   "metadata": {},
   "outputs": [
    {
     "data": {
      "text/html": [
       "<div>\n",
       "<style scoped>\n",
       "    .dataframe tbody tr th:only-of-type {\n",
       "        vertical-align: middle;\n",
       "    }\n",
       "\n",
       "    .dataframe tbody tr th {\n",
       "        vertical-align: top;\n",
       "    }\n",
       "\n",
       "    .dataframe thead th {\n",
       "        text-align: right;\n",
       "    }\n",
       "</style>\n",
       "<table border=\"1\" class=\"dataframe\">\n",
       "  <thead>\n",
       "    <tr style=\"text-align: right;\">\n",
       "      <th></th>\n",
       "      <th>f1_score</th>\n",
       "      <th>precision</th>\n",
       "      <th>recall</th>\n",
       "      <th>accuracy</th>\n",
       "      <th>AUROC</th>\n",
       "    </tr>\n",
       "  </thead>\n",
       "  <tbody>\n",
       "    <tr>\n",
       "      <th>0</th>\n",
       "      <td>0.51963</td>\n",
       "      <td>0.528284</td>\n",
       "      <td>0.526492</td>\n",
       "      <td>0.528</td>\n",
       "      <td>0.526492</td>\n",
       "    </tr>\n",
       "  </tbody>\n",
       "</table>\n",
       "</div>"
      ],
      "text/plain": [
       "   f1_score  precision    recall  accuracy     AUROC\n",
       "0   0.51963   0.528284  0.526492     0.528  0.526492"
      ]
     },
     "execution_count": 42,
     "metadata": {},
     "output_type": "execute_result"
    }
   ],
   "source": [
    "advanced_ResNet_results"
   ]
  },
  {
   "cell_type": "code",
   "execution_count": 45,
   "id": "bc06fbf5-d5c9-4eec-a3f4-1cb004f4c0a7",
   "metadata": {},
   "outputs": [
    {
     "data": {
      "text/html": [
       "<div>\n",
       "<style scoped>\n",
       "    .dataframe tbody tr th:only-of-type {\n",
       "        vertical-align: middle;\n",
       "    }\n",
       "\n",
       "    .dataframe tbody tr th {\n",
       "        vertical-align: top;\n",
       "    }\n",
       "\n",
       "    .dataframe thead th {\n",
       "        text-align: right;\n",
       "    }\n",
       "</style>\n",
       "<table border=\"1\" class=\"dataframe\">\n",
       "  <thead>\n",
       "    <tr style=\"text-align: right;\">\n",
       "      <th></th>\n",
       "      <th>f1_score</th>\n",
       "      <th>precision</th>\n",
       "      <th>recall</th>\n",
       "      <th>accuracy</th>\n",
       "      <th>AUROC</th>\n",
       "    </tr>\n",
       "  </thead>\n",
       "  <tbody>\n",
       "    <tr>\n",
       "      <th>0</th>\n",
       "      <td>0.489489</td>\n",
       "      <td>0.52824</td>\n",
       "      <td>0.520955</td>\n",
       "      <td>0.524</td>\n",
       "      <td>0.520955</td>\n",
       "    </tr>\n",
       "  </tbody>\n",
       "</table>\n",
       "</div>"
      ],
      "text/plain": [
       "   f1_score  precision    recall  accuracy     AUROC\n",
       "0  0.489489    0.52824  0.520955     0.524  0.520955"
      ]
     },
     "execution_count": 45,
     "metadata": {},
     "output_type": "execute_result"
    }
   ],
   "source": [
    "late_fuse_MLP( X_test_advanced, Y_test, X_dev_advanced, Y_dev)"
   ]
  },
  {
   "cell_type": "code",
   "execution_count": 46,
   "id": "0ea8de7b-d32c-4616-bac3-f295b8234bd8",
   "metadata": {},
   "outputs": [
    {
     "data": {
      "text/html": [
       "<div>\n",
       "<style scoped>\n",
       "    .dataframe tbody tr th:only-of-type {\n",
       "        vertical-align: middle;\n",
       "    }\n",
       "\n",
       "    .dataframe tbody tr th {\n",
       "        vertical-align: top;\n",
       "    }\n",
       "\n",
       "    .dataframe thead th {\n",
       "        text-align: right;\n",
       "    }\n",
       "</style>\n",
       "<table border=\"1\" class=\"dataframe\">\n",
       "  <thead>\n",
       "    <tr style=\"text-align: right;\">\n",
       "      <th></th>\n",
       "      <th>f1_score</th>\n",
       "      <th>precision</th>\n",
       "      <th>recall</th>\n",
       "      <th>accuracy</th>\n",
       "      <th>AUROC</th>\n",
       "    </tr>\n",
       "  </thead>\n",
       "  <tbody>\n",
       "    <tr>\n",
       "      <th>0</th>\n",
       "      <td>0.467519</td>\n",
       "      <td>0.582007</td>\n",
       "      <td>0.537589</td>\n",
       "      <td>0.542</td>\n",
       "      <td>0.537589</td>\n",
       "    </tr>\n",
       "  </tbody>\n",
       "</table>\n",
       "</div>"
      ],
      "text/plain": [
       "   f1_score  precision    recall  accuracy     AUROC\n",
       "0  0.467519   0.582007  0.537589     0.542  0.537589"
      ]
     },
     "execution_count": 46,
     "metadata": {},
     "output_type": "execute_result"
    }
   ],
   "source": [
    "late_fuse_MLP( X_test_advanced, Y_test, X_dev_advanced, Y_dev)"
   ]
  },
  {
   "cell_type": "code",
   "execution_count": 47,
   "id": "69927f42-97c6-4963-9c03-1b9a3a17d070",
   "metadata": {},
   "outputs": [
    {
     "data": {
      "text/html": [
       "<div>\n",
       "<style scoped>\n",
       "    .dataframe tbody tr th:only-of-type {\n",
       "        vertical-align: middle;\n",
       "    }\n",
       "\n",
       "    .dataframe tbody tr th {\n",
       "        vertical-align: top;\n",
       "    }\n",
       "\n",
       "    .dataframe thead th {\n",
       "        text-align: right;\n",
       "    }\n",
       "</style>\n",
       "<table border=\"1\" class=\"dataframe\">\n",
       "  <thead>\n",
       "    <tr style=\"text-align: right;\">\n",
       "      <th></th>\n",
       "      <th>f1_score</th>\n",
       "      <th>precision</th>\n",
       "      <th>recall</th>\n",
       "      <th>accuracy</th>\n",
       "      <th>AUROC</th>\n",
       "    </tr>\n",
       "  </thead>\n",
       "  <tbody>\n",
       "    <tr>\n",
       "      <th>0</th>\n",
       "      <td>0.457691</td>\n",
       "      <td>0.571538</td>\n",
       "      <td>0.531517</td>\n",
       "      <td>0.536</td>\n",
       "      <td>0.531517</td>\n",
       "    </tr>\n",
       "  </tbody>\n",
       "</table>\n",
       "</div>"
      ],
      "text/plain": [
       "   f1_score  precision    recall  accuracy     AUROC\n",
       "0  0.457691   0.571538  0.531517     0.536  0.531517"
      ]
     },
     "execution_count": 47,
     "metadata": {},
     "output_type": "execute_result"
    }
   ],
   "source": [
    "late_fuse_MLP( X_test_advanced, Y_test, X_dev_advanced, Y_dev)"
   ]
  },
  {
   "cell_type": "code",
   "execution_count": 48,
   "id": "282d6abc-8a21-4880-a733-7ec1aa80097a",
   "metadata": {},
   "outputs": [
    {
     "data": {
      "text/html": [
       "<div>\n",
       "<style scoped>\n",
       "    .dataframe tbody tr th:only-of-type {\n",
       "        vertical-align: middle;\n",
       "    }\n",
       "\n",
       "    .dataframe tbody tr th {\n",
       "        vertical-align: top;\n",
       "    }\n",
       "\n",
       "    .dataframe thead th {\n",
       "        text-align: right;\n",
       "    }\n",
       "</style>\n",
       "<table border=\"1\" class=\"dataframe\">\n",
       "  <thead>\n",
       "    <tr style=\"text-align: right;\">\n",
       "      <th></th>\n",
       "      <th>f1_score</th>\n",
       "      <th>precision</th>\n",
       "      <th>recall</th>\n",
       "      <th>accuracy</th>\n",
       "      <th>AUROC</th>\n",
       "    </tr>\n",
       "  </thead>\n",
       "  <tbody>\n",
       "    <tr>\n",
       "      <th>0</th>\n",
       "      <td>0.467514</td>\n",
       "      <td>0.552422</td>\n",
       "      <td>0.5279</td>\n",
       "      <td>0.532</td>\n",
       "      <td>0.5279</td>\n",
       "    </tr>\n",
       "  </tbody>\n",
       "</table>\n",
       "</div>"
      ],
      "text/plain": [
       "   f1_score  precision  recall  accuracy   AUROC\n",
       "0  0.467514   0.552422  0.5279     0.532  0.5279"
      ]
     },
     "execution_count": 48,
     "metadata": {},
     "output_type": "execute_result"
    }
   ],
   "source": [
    "late_fuse_MLP( X_test_advanced, Y_test, X_dev_advanced, Y_dev)"
   ]
  },
  {
   "cell_type": "code",
   "execution_count": 72,
   "id": "07bdc94d-16a0-4b2a-8ddc-32cd28bed868",
   "metadata": {},
   "outputs": [
    {
     "name": "stderr",
     "output_type": "stream",
     "text": [
      "C:\\Users\\Hisha\\AppData\\Local\\Programs\\Python\\Python310\\lib\\site-packages\\sklearn\\metrics\\_classification.py:1334: UndefinedMetricWarning: Precision and F-score are ill-defined and being set to 0.0 in labels with no predicted samples. Use `zero_division` parameter to control this behavior.\n",
      "  _warn_prf(average, modifier, msg_start, len(result))\n",
      "C:\\Users\\Hisha\\AppData\\Local\\Programs\\Python\\Python310\\lib\\site-packages\\sklearn\\metrics\\_classification.py:1334: UndefinedMetricWarning: Precision and F-score are ill-defined and being set to 0.0 in labels with no predicted samples. Use `zero_division` parameter to control this behavior.\n",
      "  _warn_prf(average, modifier, msg_start, len(result))\n",
      "C:\\Users\\Hisha\\AppData\\Local\\Programs\\Python\\Python310\\lib\\site-packages\\sklearn\\metrics\\_classification.py:1334: UndefinedMetricWarning: Precision and F-score are ill-defined and being set to 0.0 in labels with no predicted samples. Use `zero_division` parameter to control this behavior.\n",
      "  _warn_prf(average, modifier, msg_start, len(result))\n"
     ]
    },
    {
     "data": {
      "text/html": [
       "<div>\n",
       "<style scoped>\n",
       "    .dataframe tbody tr th:only-of-type {\n",
       "        vertical-align: middle;\n",
       "    }\n",
       "\n",
       "    .dataframe tbody tr th {\n",
       "        vertical-align: top;\n",
       "    }\n",
       "\n",
       "    .dataframe thead th {\n",
       "        text-align: right;\n",
       "    }\n",
       "</style>\n",
       "<table border=\"1\" class=\"dataframe\">\n",
       "  <thead>\n",
       "    <tr style=\"text-align: right;\">\n",
       "      <th></th>\n",
       "      <th>f1_score</th>\n",
       "      <th>precision</th>\n",
       "      <th>recall</th>\n",
       "      <th>accuracy</th>\n",
       "      <th>AUROC</th>\n",
       "    </tr>\n",
       "  </thead>\n",
       "  <tbody>\n",
       "    <tr>\n",
       "      <th>0</th>\n",
       "      <td>0.335989</td>\n",
       "      <td>0.253</td>\n",
       "      <td>0.5</td>\n",
       "      <td>0.506</td>\n",
       "      <td>0.5</td>\n",
       "    </tr>\n",
       "  </tbody>\n",
       "</table>\n",
       "</div>"
      ],
      "text/plain": [
       "   f1_score  precision  recall  accuracy  AUROC\n",
       "0  0.335989      0.253     0.5     0.506    0.5"
      ]
     },
     "execution_count": 72,
     "metadata": {},
     "output_type": "execute_result"
    }
   ],
   "source": [
    "late_fuse_MLP( X_test_advanced, Y_test, X_dev_advanced, Y_dev)"
   ]
  },
  {
   "cell_type": "code",
   "execution_count": 73,
   "id": "72abce3f-33e0-4984-86eb-b61181ecfc5f",
   "metadata": {},
   "outputs": [
    {
     "name": "stderr",
     "output_type": "stream",
     "text": [
      "C:\\Users\\Hisha\\AppData\\Local\\Programs\\Python\\Python310\\lib\\site-packages\\sklearn\\metrics\\_classification.py:1334: UndefinedMetricWarning: Precision and F-score are ill-defined and being set to 0.0 in labels with no predicted samples. Use `zero_division` parameter to control this behavior.\n",
      "  _warn_prf(average, modifier, msg_start, len(result))\n",
      "C:\\Users\\Hisha\\AppData\\Local\\Programs\\Python\\Python310\\lib\\site-packages\\sklearn\\metrics\\_classification.py:1334: UndefinedMetricWarning: Precision and F-score are ill-defined and being set to 0.0 in labels with no predicted samples. Use `zero_division` parameter to control this behavior.\n",
      "  _warn_prf(average, modifier, msg_start, len(result))\n",
      "C:\\Users\\Hisha\\AppData\\Local\\Programs\\Python\\Python310\\lib\\site-packages\\sklearn\\metrics\\_classification.py:1334: UndefinedMetricWarning: Precision and F-score are ill-defined and being set to 0.0 in labels with no predicted samples. Use `zero_division` parameter to control this behavior.\n",
      "  _warn_prf(average, modifier, msg_start, len(result))\n"
     ]
    },
    {
     "data": {
      "text/html": [
       "<div>\n",
       "<style scoped>\n",
       "    .dataframe tbody tr th:only-of-type {\n",
       "        vertical-align: middle;\n",
       "    }\n",
       "\n",
       "    .dataframe tbody tr th {\n",
       "        vertical-align: top;\n",
       "    }\n",
       "\n",
       "    .dataframe thead th {\n",
       "        text-align: right;\n",
       "    }\n",
       "</style>\n",
       "<table border=\"1\" class=\"dataframe\">\n",
       "  <thead>\n",
       "    <tr style=\"text-align: right;\">\n",
       "      <th></th>\n",
       "      <th>f1_score</th>\n",
       "      <th>precision</th>\n",
       "      <th>recall</th>\n",
       "      <th>accuracy</th>\n",
       "      <th>AUROC</th>\n",
       "    </tr>\n",
       "  </thead>\n",
       "  <tbody>\n",
       "    <tr>\n",
       "      <th>0</th>\n",
       "      <td>0.335989</td>\n",
       "      <td>0.253</td>\n",
       "      <td>0.5</td>\n",
       "      <td>0.506</td>\n",
       "      <td>0.5</td>\n",
       "    </tr>\n",
       "  </tbody>\n",
       "</table>\n",
       "</div>"
      ],
      "text/plain": [
       "   f1_score  precision  recall  accuracy  AUROC\n",
       "0  0.335989      0.253     0.5     0.506    0.5"
      ]
     },
     "execution_count": 73,
     "metadata": {},
     "output_type": "execute_result"
    }
   ],
   "source": [
    "late_fuse_MLP( X_test_advanced, Y_test, X_dev_advanced, Y_dev)"
   ]
  },
  {
   "cell_type": "code",
   "execution_count": 74,
   "id": "6708339a-4d40-4e12-8030-c34ed0885990",
   "metadata": {},
   "outputs": [
    {
     "data": {
      "text/html": [
       "<div>\n",
       "<style scoped>\n",
       "    .dataframe tbody tr th:only-of-type {\n",
       "        vertical-align: middle;\n",
       "    }\n",
       "\n",
       "    .dataframe tbody tr th {\n",
       "        vertical-align: top;\n",
       "    }\n",
       "\n",
       "    .dataframe thead th {\n",
       "        text-align: right;\n",
       "    }\n",
       "</style>\n",
       "<table border=\"1\" class=\"dataframe\">\n",
       "  <thead>\n",
       "    <tr style=\"text-align: right;\">\n",
       "      <th></th>\n",
       "      <th>f1_score</th>\n",
       "      <th>precision</th>\n",
       "      <th>recall</th>\n",
       "      <th>accuracy</th>\n",
       "      <th>AUROC</th>\n",
       "    </tr>\n",
       "  </thead>\n",
       "  <tbody>\n",
       "    <tr>\n",
       "      <th>0</th>\n",
       "      <td>0.524251</td>\n",
       "      <td>0.540376</td>\n",
       "      <td>0.536037</td>\n",
       "      <td>0.538</td>\n",
       "      <td>0.536037</td>\n",
       "    </tr>\n",
       "  </tbody>\n",
       "</table>\n",
       "</div>"
      ],
      "text/plain": [
       "   f1_score  precision    recall  accuracy     AUROC\n",
       "0  0.524251   0.540376  0.536037     0.538  0.536037"
      ]
     },
     "execution_count": 74,
     "metadata": {},
     "output_type": "execute_result"
    }
   ],
   "source": [
    "late_fuse_MLP( X_test_advanced, Y_test, X_dev_advanced, Y_dev)"
   ]
  },
  {
   "cell_type": "code",
   "execution_count": 75,
   "id": "573f56ab-ff86-4aee-8d35-62e16800af02",
   "metadata": {},
   "outputs": [
    {
     "data": {
      "text/html": [
       "<div>\n",
       "<style scoped>\n",
       "    .dataframe tbody tr th:only-of-type {\n",
       "        vertical-align: middle;\n",
       "    }\n",
       "\n",
       "    .dataframe tbody tr th {\n",
       "        vertical-align: top;\n",
       "    }\n",
       "\n",
       "    .dataframe thead th {\n",
       "        text-align: right;\n",
       "    }\n",
       "</style>\n",
       "<table border=\"1\" class=\"dataframe\">\n",
       "  <thead>\n",
       "    <tr style=\"text-align: right;\">\n",
       "      <th></th>\n",
       "      <th>f1_score</th>\n",
       "      <th>precision</th>\n",
       "      <th>recall</th>\n",
       "      <th>accuracy</th>\n",
       "      <th>AUROC</th>\n",
       "    </tr>\n",
       "  </thead>\n",
       "  <tbody>\n",
       "    <tr>\n",
       "      <th>0</th>\n",
       "      <td>0.468918</td>\n",
       "      <td>0.587445</td>\n",
       "      <td>0.539566</td>\n",
       "      <td>0.544</td>\n",
       "      <td>0.539566</td>\n",
       "    </tr>\n",
       "  </tbody>\n",
       "</table>\n",
       "</div>"
      ],
      "text/plain": [
       "   f1_score  precision    recall  accuracy     AUROC\n",
       "0  0.468918   0.587445  0.539566     0.544  0.539566"
      ]
     },
     "execution_count": 75,
     "metadata": {},
     "output_type": "execute_result"
    }
   ],
   "source": [
    "late_fuse_MLP( X_test_advanced, Y_test, X_dev_advanced, Y_dev)"
   ]
  },
  {
   "cell_type": "code",
   "execution_count": 76,
   "id": "cbdadd38-b32f-4c37-9913-df2d59a7262e",
   "metadata": {},
   "outputs": [
    {
     "data": {
      "text/html": [
       "<div>\n",
       "<style scoped>\n",
       "    .dataframe tbody tr th:only-of-type {\n",
       "        vertical-align: middle;\n",
       "    }\n",
       "\n",
       "    .dataframe tbody tr th {\n",
       "        vertical-align: top;\n",
       "    }\n",
       "\n",
       "    .dataframe thead th {\n",
       "        text-align: right;\n",
       "    }\n",
       "</style>\n",
       "<table border=\"1\" class=\"dataframe\">\n",
       "  <thead>\n",
       "    <tr style=\"text-align: right;\">\n",
       "      <th></th>\n",
       "      <th>f1_score</th>\n",
       "      <th>precision</th>\n",
       "      <th>recall</th>\n",
       "      <th>accuracy</th>\n",
       "      <th>AUROC</th>\n",
       "    </tr>\n",
       "  </thead>\n",
       "  <tbody>\n",
       "    <tr>\n",
       "      <th>0</th>\n",
       "      <td>0.469743</td>\n",
       "      <td>0.573262</td>\n",
       "      <td>0.535709</td>\n",
       "      <td>0.54</td>\n",
       "      <td>0.535709</td>\n",
       "    </tr>\n",
       "  </tbody>\n",
       "</table>\n",
       "</div>"
      ],
      "text/plain": [
       "   f1_score  precision    recall  accuracy     AUROC\n",
       "0  0.469743   0.573262  0.535709      0.54  0.535709"
      ]
     },
     "execution_count": 76,
     "metadata": {},
     "output_type": "execute_result"
    }
   ],
   "source": [
    "late_fuse_MLP( X_test_advanced, Y_test, X_dev_advanced, Y_dev)"
   ]
  },
  {
   "cell_type": "markdown",
   "id": "1ffb4115-b0c9-4c9a-92a6-d8c504462ab1",
   "metadata": {},
   "source": [
    "# Fine-tuned_Bert:"
   ]
  },
  {
   "cell_type": "code",
   "execution_count": 8,
   "id": "225939e7-4bd0-4533-855a-3e71ac2a5594",
   "metadata": {},
   "outputs": [],
   "source": [
    "train1 = datafolder+'train_with_features.csv'\n",
    "df_train1 = pd.read_csv(train1, skip_blank_lines=False)"
   ]
  },
  {
   "cell_type": "code",
   "execution_count": 9,
   "id": "ada3dbbc-90f5-4e55-9f5c-61727fd22356",
   "metadata": {},
   "outputs": [
    {
     "name": "stderr",
     "output_type": "stream",
     "text": [
      "Some weights of the model checkpoint at bert-base-cased were not used when initializing BertForSequenceClassification: ['cls.predictions.decoder.weight', 'cls.seq_relationship.bias', 'cls.predictions.bias', 'cls.seq_relationship.weight', 'cls.predictions.transform.LayerNorm.weight', 'cls.predictions.transform.dense.bias', 'cls.predictions.transform.dense.weight', 'cls.predictions.transform.LayerNorm.bias']\n",
      "- This IS expected if you are initializing BertForSequenceClassification from the checkpoint of a model trained on another task or with another architecture (e.g. initializing a BertForSequenceClassification model from a BertForPreTraining model).\n",
      "- This IS NOT expected if you are initializing BertForSequenceClassification from the checkpoint of a model that you expect to be exactly identical (initializing a BertForSequenceClassification model from a BertForSequenceClassification model).\n",
      "Some weights of BertForSequenceClassification were not initialized from the model checkpoint at bert-base-cased and are newly initialized: ['classifier.bias', 'classifier.weight']\n",
      "You should probably TRAIN this model on a down-stream task to be able to use it for predictions and inference.\n",
      "Truncation was not explicitly activated but `max_length` is provided a specific value, please use `truncation=True` to explicitly truncate examples to max length. Defaulting to 'longest_first' truncation strategy. If you encode pairs of sequences (GLUE-style) with the tokenizer you can select this strategy more precisely by providing a specific strategy to `truncation`.\n",
      "C:\\Users\\Hisha\\AppData\\Local\\Programs\\Python\\Python310\\lib\\site-packages\\transformers\\tokenization_utils_base.py:2346: FutureWarning: The `pad_to_max_length` argument is deprecated and will be removed in a future version, use `padding=True` or `padding='longest'` to pad to the longest sequence in the batch, or use `padding='max_length'` to pad to a max length. In this case, you can give a specific length with `max_length` (e.g. `max_length=45`) or leave max_length to None to pad to the maximal input size of the model (e.g. 512 for Bert).\n",
      "  warnings.warn(\n",
      "C:\\Users\\Hisha\\AppData\\Local\\Programs\\Python\\Python310\\lib\\site-packages\\transformers\\optimization.py:391: FutureWarning: This implementation of AdamW is deprecated and will be removed in a future version. Use the PyTorch implementation torch.optim.AdamW instead, or set `no_deprecation_warning=True` to disable this warning\n",
      "  warnings.warn(\n"
     ]
    },
    {
     "name": "stdout",
     "output_type": "stream",
     "text": [
      "Finished epoch 1 with average training loss of 0.5869622450125845.\n",
      "Finished epoch 2 with average training loss of 0.46985703684333574.\n",
      "Finished epoch 3 with average training loss of 0.38471138017966333.\n",
      "Finished epoch 4 with average training loss of 0.31831575263487666.\n",
      "Finished epoch 5 with average training loss of 0.2651188317266174.\n",
      "Finished epoch 6 with average training loss of 0.23545115464892155.\n",
      "Finished epoch 7 with average training loss of 0.21394476840706697.\n",
      "Finished epoch 8 with average training loss of 0.1993517862506827.\n",
      "Finished epoch 9 with average training loss of 0.181512619039618.\n",
      "Finished epoch 10 with average training loss of 0.1718124886904668.\n"
     ]
    }
   ],
   "source": [
    "from transformers import BertTokenizer, BertForSequenceClassification\n",
    "from utils import *\n",
    "# Set up GPU or CPU\n",
    "device = torch.device(\"cuda\" if torch.cuda.is_available() else \"cpu\")\n",
    "\n",
    "# Load pre-trained tokenizer and model\n",
    "tokenizer = BertTokenizer.from_pretrained('bert-base-cased')\n",
    "model = BertForSequenceClassification.from_pretrained('bert-base-cased', num_labels=2)\n",
    "model.to(device)\n",
    "\n",
    "tokenizer, model = fine_tune(df_train1, tokenizer, model)"
   ]
  },
  {
   "cell_type": "code",
   "execution_count": 10,
   "id": "525813e0-884d-4668-91e2-07a2e13b90f2",
   "metadata": {},
   "outputs": [],
   "source": [
    "y_train_proba_bert = predict_proba_from_fine_tuned(df_train, tokenizer, model)\n",
    "y_dev_proba_bert = predict_proba_from_fine_tuned(df_dev, tokenizer, model)\n",
    "y_test_proba_bert = predict_proba_from_fine_tuned(df_test, tokenizer, model)\n"
   ]
  },
  {
   "cell_type": "code",
   "execution_count": 11,
   "id": "b1ee8da7-6f43-42eb-add0-0332bca8c17c",
   "metadata": {},
   "outputs": [],
   "source": [
    "X_train_bert = fuse_proba(y_train_proba_bert, y_train_proba_ResNet)\n",
    "X_dev_bert = fuse_proba(y_dev_proba_bert, y_dev_proba_ResNet)\n",
    "X_test_bert = fuse_proba(y_test_proba_bert, y_test_proba_ResNet)\n",
    "\n",
    "# bert_ResNet_results = late_fuse_MLP( X_test_bert, Y_test, X_dev_bert, Y_dev)"
   ]
  },
  {
   "cell_type": "code",
   "execution_count": 12,
   "id": "e4e52dd8-e4dd-4649-91b7-b1566ca7fc7c",
   "metadata": {},
   "outputs": [],
   "source": [
    "def late_fuse_MLP(X_train, Y_train, X_test, Y_test):\n",
    "    # print('training ...')\n",
    "    model = train(X_train, Y_train)\n",
    "    # print('predicting')\n",
    "    pred = evaluate(model, X_test, Y_test)\n",
    "    results_df = performance(pred, Y_test)\n",
    "    return results_df, pred"
   ]
  },
  {
   "cell_type": "code",
   "execution_count": 13,
   "id": "7966f761-487f-4202-81fe-0c02c6c3ecef",
   "metadata": {},
   "outputs": [],
   "source": [
    "test, test_pred = late_fuse_MLP( X_train_bert, Y_train, X_test_bert, Y_test)"
   ]
  },
  {
   "cell_type": "code",
   "execution_count": 16,
   "id": "13c3b0c3-f08f-403e-8953-aa5d92e680aa",
   "metadata": {},
   "outputs": [
    {
     "data": {
      "text/html": [
       "<div>\n",
       "<style scoped>\n",
       "    .dataframe tbody tr th:only-of-type {\n",
       "        vertical-align: middle;\n",
       "    }\n",
       "\n",
       "    .dataframe tbody tr th {\n",
       "        vertical-align: top;\n",
       "    }\n",
       "\n",
       "    .dataframe thead th {\n",
       "        text-align: right;\n",
       "    }\n",
       "</style>\n",
       "<table border=\"1\" class=\"dataframe\">\n",
       "  <thead>\n",
       "    <tr style=\"text-align: right;\">\n",
       "      <th></th>\n",
       "      <th>f1_score</th>\n",
       "      <th>precision</th>\n",
       "      <th>recall</th>\n",
       "      <th>accuracy</th>\n",
       "      <th>AUROC</th>\n",
       "    </tr>\n",
       "  </thead>\n",
       "  <tbody>\n",
       "    <tr>\n",
       "      <th>0</th>\n",
       "      <td>0.569284</td>\n",
       "      <td>0.582883</td>\n",
       "      <td>0.570267</td>\n",
       "      <td>0.6225</td>\n",
       "      <td>0.570267</td>\n",
       "    </tr>\n",
       "  </tbody>\n",
       "</table>\n",
       "</div>"
      ],
      "text/plain": [
       "   f1_score  precision    recall  accuracy     AUROC\n",
       "0  0.569284   0.582883  0.570267    0.6225  0.570267"
      ]
     },
     "execution_count": 16,
     "metadata": {},
     "output_type": "execute_result"
    }
   ],
   "source": [
    "test"
   ]
  },
  {
   "cell_type": "code",
   "execution_count": 14,
   "id": "3423d813-2386-4c5e-a226-5c22db82e04b",
   "metadata": {},
   "outputs": [],
   "source": [
    "dev, dev_pred = late_fuse_MLP( X_train_bert, Y_train, X_dev_bert, Y_dev,)"
   ]
  },
  {
   "cell_type": "code",
   "execution_count": 17,
   "id": "f8b3ef60-c879-418f-b078-c93f34676ef8",
   "metadata": {},
   "outputs": [
    {
     "data": {
      "text/html": [
       "<div>\n",
       "<style scoped>\n",
       "    .dataframe tbody tr th:only-of-type {\n",
       "        vertical-align: middle;\n",
       "    }\n",
       "\n",
       "    .dataframe tbody tr th {\n",
       "        vertical-align: top;\n",
       "    }\n",
       "\n",
       "    .dataframe thead th {\n",
       "        text-align: right;\n",
       "    }\n",
       "</style>\n",
       "<table border=\"1\" class=\"dataframe\">\n",
       "  <thead>\n",
       "    <tr style=\"text-align: right;\">\n",
       "      <th></th>\n",
       "      <th>f1_score</th>\n",
       "      <th>precision</th>\n",
       "      <th>recall</th>\n",
       "      <th>accuracy</th>\n",
       "      <th>AUROC</th>\n",
       "    </tr>\n",
       "  </thead>\n",
       "  <tbody>\n",
       "    <tr>\n",
       "      <th>0</th>\n",
       "      <td>0.507162</td>\n",
       "      <td>0.545371</td>\n",
       "      <td>0.5275</td>\n",
       "      <td>0.611111</td>\n",
       "      <td>0.5275</td>\n",
       "    </tr>\n",
       "  </tbody>\n",
       "</table>\n",
       "</div>"
      ],
      "text/plain": [
       "   f1_score  precision  recall  accuracy   AUROC\n",
       "0  0.507162   0.545371  0.5275  0.611111  0.5275"
      ]
     },
     "execution_count": 17,
     "metadata": {},
     "output_type": "execute_result"
    }
   ],
   "source": [
    "dev"
   ]
  },
  {
   "cell_type": "code",
   "execution_count": 15,
   "id": "5694492c-2950-422f-9373-ed28dab8543d",
   "metadata": {},
   "outputs": [],
   "source": [
    "df_dev['bert+resnet'] = dev_pred\n",
    "df_test['bert+resnet'] = test_pred\n",
    "\n",
    "df_dev.to_csv(datafolder+'dev_unseen_with_features.csv', index=False)\n",
    "df_test.to_csv(datafolder+'test_unseen_with_features.csv', index=False)"
   ]
  },
  {
   "cell_type": "code",
   "execution_count": null,
   "id": "4a8a55b7-d8b8-4174-a584-6bc248e65afd",
   "metadata": {},
   "outputs": [],
   "source": []
  },
  {
   "cell_type": "code",
   "execution_count": 84,
   "id": "7b6df02d-913a-4f48-afaf-844924262603",
   "metadata": {},
   "outputs": [
    {
     "data": {
      "text/html": [
       "<div>\n",
       "<style scoped>\n",
       "    .dataframe tbody tr th:only-of-type {\n",
       "        vertical-align: middle;\n",
       "    }\n",
       "\n",
       "    .dataframe tbody tr th {\n",
       "        vertical-align: top;\n",
       "    }\n",
       "\n",
       "    .dataframe thead th {\n",
       "        text-align: right;\n",
       "    }\n",
       "</style>\n",
       "<table border=\"1\" class=\"dataframe\">\n",
       "  <thead>\n",
       "    <tr style=\"text-align: right;\">\n",
       "      <th></th>\n",
       "      <th>f1_score</th>\n",
       "      <th>precision</th>\n",
       "      <th>recall</th>\n",
       "      <th>accuracy</th>\n",
       "      <th>AUROC</th>\n",
       "    </tr>\n",
       "  </thead>\n",
       "  <tbody>\n",
       "    <tr>\n",
       "      <th>0</th>\n",
       "      <td>0.546028</td>\n",
       "      <td>0.580106</td>\n",
       "      <td>0.565441</td>\n",
       "      <td>0.568</td>\n",
       "      <td>0.565441</td>\n",
       "    </tr>\n",
       "  </tbody>\n",
       "</table>\n",
       "</div>"
      ],
      "text/plain": [
       "   f1_score  precision    recall  accuracy     AUROC\n",
       "0  0.546028   0.580106  0.565441     0.568  0.565441"
      ]
     },
     "execution_count": 84,
     "metadata": {},
     "output_type": "execute_result"
    }
   ],
   "source": [
    "bert_ResNet_results"
   ]
  },
  {
   "cell_type": "code",
   "execution_count": 85,
   "id": "5526cb21-3681-4e49-8adc-00c71042483c",
   "metadata": {},
   "outputs": [
    {
     "data": {
      "text/html": [
       "<div>\n",
       "<style scoped>\n",
       "    .dataframe tbody tr th:only-of-type {\n",
       "        vertical-align: middle;\n",
       "    }\n",
       "\n",
       "    .dataframe tbody tr th {\n",
       "        vertical-align: top;\n",
       "    }\n",
       "\n",
       "    .dataframe thead th {\n",
       "        text-align: right;\n",
       "    }\n",
       "</style>\n",
       "<table border=\"1\" class=\"dataframe\">\n",
       "  <thead>\n",
       "    <tr style=\"text-align: right;\">\n",
       "      <th></th>\n",
       "      <th>f1_score</th>\n",
       "      <th>precision</th>\n",
       "      <th>recall</th>\n",
       "      <th>accuracy</th>\n",
       "      <th>AUROC</th>\n",
       "    </tr>\n",
       "  </thead>\n",
       "  <tbody>\n",
       "    <tr>\n",
       "      <th>0</th>\n",
       "      <td>0.509654</td>\n",
       "      <td>0.58751</td>\n",
       "      <td>0.554312</td>\n",
       "      <td>0.558</td>\n",
       "      <td>0.554312</td>\n",
       "    </tr>\n",
       "  </tbody>\n",
       "</table>\n",
       "</div>"
      ],
      "text/plain": [
       "   f1_score  precision    recall  accuracy     AUROC\n",
       "0  0.509654    0.58751  0.554312     0.558  0.554312"
      ]
     },
     "execution_count": 85,
     "metadata": {},
     "output_type": "execute_result"
    }
   ],
   "source": [
    "late_fuse_MLP( X_test_bert, Y_test, X_dev_bert, Y_dev)"
   ]
  },
  {
   "cell_type": "code",
   "execution_count": 86,
   "id": "8586b1da-aae6-4f2d-8605-fabce7262a9b",
   "metadata": {},
   "outputs": [
    {
     "data": {
      "text/html": [
       "<div>\n",
       "<style scoped>\n",
       "    .dataframe tbody tr th:only-of-type {\n",
       "        vertical-align: middle;\n",
       "    }\n",
       "\n",
       "    .dataframe tbody tr th {\n",
       "        vertical-align: top;\n",
       "    }\n",
       "\n",
       "    .dataframe thead th {\n",
       "        text-align: right;\n",
       "    }\n",
       "</style>\n",
       "<table border=\"1\" class=\"dataframe\">\n",
       "  <thead>\n",
       "    <tr style=\"text-align: right;\">\n",
       "      <th></th>\n",
       "      <th>f1_score</th>\n",
       "      <th>precision</th>\n",
       "      <th>recall</th>\n",
       "      <th>accuracy</th>\n",
       "      <th>AUROC</th>\n",
       "    </tr>\n",
       "  </thead>\n",
       "  <tbody>\n",
       "    <tr>\n",
       "      <th>0</th>\n",
       "      <td>0.503984</td>\n",
       "      <td>0.593281</td>\n",
       "      <td>0.55412</td>\n",
       "      <td>0.558</td>\n",
       "      <td>0.55412</td>\n",
       "    </tr>\n",
       "  </tbody>\n",
       "</table>\n",
       "</div>"
      ],
      "text/plain": [
       "   f1_score  precision   recall  accuracy    AUROC\n",
       "0  0.503984   0.593281  0.55412     0.558  0.55412"
      ]
     },
     "execution_count": 86,
     "metadata": {},
     "output_type": "execute_result"
    }
   ],
   "source": [
    "late_fuse_MLP( X_test_bert, Y_test, X_dev_bert, Y_dev)"
   ]
  },
  {
   "cell_type": "code",
   "execution_count": 87,
   "id": "65da4ed5-c32b-4083-879d-dac98f9315c0",
   "metadata": {},
   "outputs": [
    {
     "data": {
      "text/html": [
       "<div>\n",
       "<style scoped>\n",
       "    .dataframe tbody tr th:only-of-type {\n",
       "        vertical-align: middle;\n",
       "    }\n",
       "\n",
       "    .dataframe tbody tr th {\n",
       "        vertical-align: top;\n",
       "    }\n",
       "\n",
       "    .dataframe thead th {\n",
       "        text-align: right;\n",
       "    }\n",
       "</style>\n",
       "<table border=\"1\" class=\"dataframe\">\n",
       "  <thead>\n",
       "    <tr style=\"text-align: right;\">\n",
       "      <th></th>\n",
       "      <th>f1_score</th>\n",
       "      <th>precision</th>\n",
       "      <th>recall</th>\n",
       "      <th>accuracy</th>\n",
       "      <th>AUROC</th>\n",
       "    </tr>\n",
       "  </thead>\n",
       "  <tbody>\n",
       "    <tr>\n",
       "      <th>0</th>\n",
       "      <td>0.525952</td>\n",
       "      <td>0.578376</td>\n",
       "      <td>0.556864</td>\n",
       "      <td>0.56</td>\n",
       "      <td>0.556864</td>\n",
       "    </tr>\n",
       "  </tbody>\n",
       "</table>\n",
       "</div>"
      ],
      "text/plain": [
       "   f1_score  precision    recall  accuracy     AUROC\n",
       "0  0.525952   0.578376  0.556864      0.56  0.556864"
      ]
     },
     "execution_count": 87,
     "metadata": {},
     "output_type": "execute_result"
    }
   ],
   "source": [
    "late_fuse_MLP( X_test_bert, Y_test, X_dev_bert, Y_dev)"
   ]
  },
  {
   "cell_type": "code",
   "execution_count": 88,
   "id": "9e9b7ad6-d396-46db-8a06-9cfb9cc9d161",
   "metadata": {},
   "outputs": [
    {
     "data": {
      "text/html": [
       "<div>\n",
       "<style scoped>\n",
       "    .dataframe tbody tr th:only-of-type {\n",
       "        vertical-align: middle;\n",
       "    }\n",
       "\n",
       "    .dataframe tbody tr th {\n",
       "        vertical-align: top;\n",
       "    }\n",
       "\n",
       "    .dataframe thead th {\n",
       "        text-align: right;\n",
       "    }\n",
       "</style>\n",
       "<table border=\"1\" class=\"dataframe\">\n",
       "  <thead>\n",
       "    <tr style=\"text-align: right;\">\n",
       "      <th></th>\n",
       "      <th>f1_score</th>\n",
       "      <th>precision</th>\n",
       "      <th>recall</th>\n",
       "      <th>accuracy</th>\n",
       "      <th>AUROC</th>\n",
       "    </tr>\n",
       "  </thead>\n",
       "  <tbody>\n",
       "    <tr>\n",
       "      <th>0</th>\n",
       "      <td>0.500998</td>\n",
       "      <td>0.590604</td>\n",
       "      <td>0.552096</td>\n",
       "      <td>0.556</td>\n",
       "      <td>0.552096</td>\n",
       "    </tr>\n",
       "  </tbody>\n",
       "</table>\n",
       "</div>"
      ],
      "text/plain": [
       "   f1_score  precision    recall  accuracy     AUROC\n",
       "0  0.500998   0.590604  0.552096     0.556  0.552096"
      ]
     },
     "execution_count": 88,
     "metadata": {},
     "output_type": "execute_result"
    }
   ],
   "source": [
    "late_fuse_MLP( X_test_bert, Y_test, X_dev_bert, Y_dev)"
   ]
  },
  {
   "cell_type": "code",
   "execution_count": 89,
   "id": "993d7ba4-042c-44d0-9b28-83723a54a5c0",
   "metadata": {},
   "outputs": [
    {
     "data": {
      "text/html": [
       "<div>\n",
       "<style scoped>\n",
       "    .dataframe tbody tr th:only-of-type {\n",
       "        vertical-align: middle;\n",
       "    }\n",
       "\n",
       "    .dataframe tbody tr th {\n",
       "        vertical-align: top;\n",
       "    }\n",
       "\n",
       "    .dataframe thead th {\n",
       "        text-align: right;\n",
       "    }\n",
       "</style>\n",
       "<table border=\"1\" class=\"dataframe\">\n",
       "  <thead>\n",
       "    <tr style=\"text-align: right;\">\n",
       "      <th></th>\n",
       "      <th>f1_score</th>\n",
       "      <th>precision</th>\n",
       "      <th>recall</th>\n",
       "      <th>accuracy</th>\n",
       "      <th>AUROC</th>\n",
       "    </tr>\n",
       "  </thead>\n",
       "  <tbody>\n",
       "    <tr>\n",
       "      <th>0</th>\n",
       "      <td>0.518304</td>\n",
       "      <td>0.595053</td>\n",
       "      <td>0.560385</td>\n",
       "      <td>0.564</td>\n",
       "      <td>0.560385</td>\n",
       "    </tr>\n",
       "  </tbody>\n",
       "</table>\n",
       "</div>"
      ],
      "text/plain": [
       "   f1_score  precision    recall  accuracy     AUROC\n",
       "0  0.518304   0.595053  0.560385     0.564  0.560385"
      ]
     },
     "execution_count": 89,
     "metadata": {},
     "output_type": "execute_result"
    }
   ],
   "source": [
    "late_fuse_MLP( X_test_bert, Y_test, X_dev_bert, Y_dev)"
   ]
  },
  {
   "cell_type": "code",
   "execution_count": 90,
   "id": "e023bc29-bce9-4dde-a253-87e41c32f69d",
   "metadata": {},
   "outputs": [
    {
     "data": {
      "text/html": [
       "<div>\n",
       "<style scoped>\n",
       "    .dataframe tbody tr th:only-of-type {\n",
       "        vertical-align: middle;\n",
       "    }\n",
       "\n",
       "    .dataframe tbody tr th {\n",
       "        vertical-align: top;\n",
       "    }\n",
       "\n",
       "    .dataframe thead th {\n",
       "        text-align: right;\n",
       "    }\n",
       "</style>\n",
       "<table border=\"1\" class=\"dataframe\">\n",
       "  <thead>\n",
       "    <tr style=\"text-align: right;\">\n",
       "      <th></th>\n",
       "      <th>f1_score</th>\n",
       "      <th>precision</th>\n",
       "      <th>recall</th>\n",
       "      <th>accuracy</th>\n",
       "      <th>AUROC</th>\n",
       "    </tr>\n",
       "  </thead>\n",
       "  <tbody>\n",
       "    <tr>\n",
       "      <th>0</th>\n",
       "      <td>0.506956</td>\n",
       "      <td>0.595916</td>\n",
       "      <td>0.556144</td>\n",
       "      <td>0.56</td>\n",
       "      <td>0.556144</td>\n",
       "    </tr>\n",
       "  </tbody>\n",
       "</table>\n",
       "</div>"
      ],
      "text/plain": [
       "   f1_score  precision    recall  accuracy     AUROC\n",
       "0  0.506956   0.595916  0.556144      0.56  0.556144"
      ]
     },
     "execution_count": 90,
     "metadata": {},
     "output_type": "execute_result"
    }
   ],
   "source": [
    "late_fuse_MLP( X_test_bert, Y_test, X_dev_bert, Y_dev)"
   ]
  },
  {
   "cell_type": "code",
   "execution_count": 91,
   "id": "9c21a0f0-2ad1-408b-b8d3-0b34879bded5",
   "metadata": {},
   "outputs": [
    {
     "data": {
      "text/html": [
       "<div>\n",
       "<style scoped>\n",
       "    .dataframe tbody tr th:only-of-type {\n",
       "        vertical-align: middle;\n",
       "    }\n",
       "\n",
       "    .dataframe tbody tr th {\n",
       "        vertical-align: top;\n",
       "    }\n",
       "\n",
       "    .dataframe thead th {\n",
       "        text-align: right;\n",
       "    }\n",
       "</style>\n",
       "<table border=\"1\" class=\"dataframe\">\n",
       "  <thead>\n",
       "    <tr style=\"text-align: right;\">\n",
       "      <th></th>\n",
       "      <th>f1_score</th>\n",
       "      <th>precision</th>\n",
       "      <th>recall</th>\n",
       "      <th>accuracy</th>\n",
       "      <th>AUROC</th>\n",
       "    </tr>\n",
       "  </thead>\n",
       "  <tbody>\n",
       "    <tr>\n",
       "      <th>0</th>\n",
       "      <td>0.502501</td>\n",
       "      <td>0.594905</td>\n",
       "      <td>0.554072</td>\n",
       "      <td>0.558</td>\n",
       "      <td>0.554072</td>\n",
       "    </tr>\n",
       "  </tbody>\n",
       "</table>\n",
       "</div>"
      ],
      "text/plain": [
       "   f1_score  precision    recall  accuracy     AUROC\n",
       "0  0.502501   0.594905  0.554072     0.558  0.554072"
      ]
     },
     "execution_count": 91,
     "metadata": {},
     "output_type": "execute_result"
    }
   ],
   "source": [
    "late_fuse_MLP( X_test_bert, Y_test, X_dev_bert, Y_dev)"
   ]
  },
  {
   "cell_type": "code",
   "execution_count": 92,
   "id": "e6c3a491-98fc-477f-82f0-a3e4bc1e8e7c",
   "metadata": {},
   "outputs": [
    {
     "data": {
      "text/html": [
       "<div>\n",
       "<style scoped>\n",
       "    .dataframe tbody tr th:only-of-type {\n",
       "        vertical-align: middle;\n",
       "    }\n",
       "\n",
       "    .dataframe tbody tr th {\n",
       "        vertical-align: top;\n",
       "    }\n",
       "\n",
       "    .dataframe thead th {\n",
       "        text-align: right;\n",
       "    }\n",
       "</style>\n",
       "<table border=\"1\" class=\"dataframe\">\n",
       "  <thead>\n",
       "    <tr style=\"text-align: right;\">\n",
       "      <th></th>\n",
       "      <th>f1_score</th>\n",
       "      <th>precision</th>\n",
       "      <th>recall</th>\n",
       "      <th>accuracy</th>\n",
       "      <th>AUROC</th>\n",
       "    </tr>\n",
       "  </thead>\n",
       "  <tbody>\n",
       "    <tr>\n",
       "      <th>0</th>\n",
       "      <td>0.545179</td>\n",
       "      <td>0.580731</td>\n",
       "      <td>0.565393</td>\n",
       "      <td>0.568</td>\n",
       "      <td>0.565393</td>\n",
       "    </tr>\n",
       "  </tbody>\n",
       "</table>\n",
       "</div>"
      ],
      "text/plain": [
       "   f1_score  precision    recall  accuracy     AUROC\n",
       "0  0.545179   0.580731  0.565393     0.568  0.565393"
      ]
     },
     "execution_count": 92,
     "metadata": {},
     "output_type": "execute_result"
    }
   ],
   "source": [
    "late_fuse_MLP( X_test_bert, Y_test, X_dev_bert, Y_dev)"
   ]
  },
  {
   "cell_type": "code",
   "execution_count": 93,
   "id": "8a6ccb26-c8b8-4eb4-8b0d-f4206eff20ca",
   "metadata": {},
   "outputs": [
    {
     "data": {
      "text/html": [
       "<div>\n",
       "<style scoped>\n",
       "    .dataframe tbody tr th:only-of-type {\n",
       "        vertical-align: middle;\n",
       "    }\n",
       "\n",
       "    .dataframe tbody tr th {\n",
       "        vertical-align: top;\n",
       "    }\n",
       "\n",
       "    .dataframe thead th {\n",
       "        text-align: right;\n",
       "    }\n",
       "</style>\n",
       "<table border=\"1\" class=\"dataframe\">\n",
       "  <thead>\n",
       "    <tr style=\"text-align: right;\">\n",
       "      <th></th>\n",
       "      <th>f1_score</th>\n",
       "      <th>precision</th>\n",
       "      <th>recall</th>\n",
       "      <th>accuracy</th>\n",
       "      <th>AUROC</th>\n",
       "    </tr>\n",
       "  </thead>\n",
       "  <tbody>\n",
       "    <tr>\n",
       "      <th>0</th>\n",
       "      <td>0.533787</td>\n",
       "      <td>0.576819</td>\n",
       "      <td>0.559129</td>\n",
       "      <td>0.562</td>\n",
       "      <td>0.559129</td>\n",
       "    </tr>\n",
       "  </tbody>\n",
       "</table>\n",
       "</div>"
      ],
      "text/plain": [
       "   f1_score  precision    recall  accuracy     AUROC\n",
       "0  0.533787   0.576819  0.559129     0.562  0.559129"
      ]
     },
     "execution_count": 93,
     "metadata": {},
     "output_type": "execute_result"
    }
   ],
   "source": [
    "late_fuse_MLP( X_test_bert, Y_test, X_dev_bert, Y_dev)"
   ]
  },
  {
   "cell_type": "code",
   "execution_count": null,
   "id": "ea15a070-b9ab-4cd8-81dd-11784f16b6fc",
   "metadata": {},
   "outputs": [],
   "source": []
  }
 ],
 "metadata": {
  "kernelspec": {
   "display_name": "Python 3 (ipykernel)",
   "language": "python",
   "name": "python3"
  },
  "language_info": {
   "codemirror_mode": {
    "name": "ipython",
    "version": 3
   },
   "file_extension": ".py",
   "mimetype": "text/x-python",
   "name": "python",
   "nbconvert_exporter": "python",
   "pygments_lexer": "ipython3",
   "version": "3.10.7"
  }
 },
 "nbformat": 4,
 "nbformat_minor": 5
}
