{
 "cells": [
  {
   "cell_type": "code",
   "execution_count": 1,
   "id": "81fe956c-0e27-45ec-9638-94f13a3163a3",
   "metadata": {
    "tags": []
   },
   "outputs": [],
   "source": [
    "import numpy as np\n",
    "import pandas as pd\n",
    "import torch\n",
    "from datasets import load_dataset, Image\n",
    "from sklearn.metrics import precision_recall_fscore_support\n",
    "from datasets import concatenate_datasets\n",
    "import torch.nn as nn\n",
    "import torch.optim as optim\n",
    "from torch.utils.data import DataLoader, Dataset, TensorDataset\n",
    "# from PIL import Image"
   ]
  },
  {
   "cell_type": "code",
   "execution_count": 2,
   "id": "4c9f0d2b-0483-4964-a3e6-ac0befae24a4",
   "metadata": {},
   "outputs": [],
   "source": [
    "test_img = torch.stack(torch.load('test_img_tensors.pt'))"
   ]
  },
  {
   "cell_type": "code",
   "execution_count": 5,
   "id": "9cde66e6-3edf-4284-a679-b03ed39f8acc",
   "metadata": {},
   "outputs": [
    {
     "data": {
      "text/plain": [
       "torch.Size([1000, 1, 2048, 7, 7])"
      ]
     },
     "execution_count": 5,
     "metadata": {},
     "output_type": "execute_result"
    }
   ],
   "source": [
    "test_img.size()"
   ]
  },
  {
   "cell_type": "code",
   "execution_count": 68,
   "id": "5e96b43f-324d-4c93-9eb0-a0e0bc40d1d0",
   "metadata": {},
   "outputs": [
    {
     "name": "stderr",
     "output_type": "stream",
     "text": [
      "Found cached dataset csv (C:/Users/Hisha/.cache/huggingface/datasets/csv/default-d08f24387b6055f1/0.0.0/6b34fb8fcf56f7c8ba51dc895bfa2bfbe43546f190a60fcf74bb5e8afdcc2317)\n"
     ]
    },
    {
     "data": {
      "application/vnd.jupyter.widget-view+json": {
       "model_id": "52d40042d91c455b9f313594cfbe13fb",
       "version_major": 2,
       "version_minor": 0
      },
      "text/plain": [
       "  0%|          | 0/1 [00:00<?, ?it/s]"
      ]
     },
     "metadata": {},
     "output_type": "display_data"
    },
    {
     "name": "stderr",
     "output_type": "stream",
     "text": [
      "Found cached dataset csv (C:/Users/Hisha/.cache/huggingface/datasets/csv/default-ad166f4d6492fd09/0.0.0/6b34fb8fcf56f7c8ba51dc895bfa2bfbe43546f190a60fcf74bb5e8afdcc2317)\n"
     ]
    },
    {
     "data": {
      "application/vnd.jupyter.widget-view+json": {
       "model_id": "047946112de246608efd879621ea157f",
       "version_major": 2,
       "version_minor": 0
      },
      "text/plain": [
       "  0%|          | 0/1 [00:00<?, ?it/s]"
      ]
     },
     "metadata": {},
     "output_type": "display_data"
    },
    {
     "name": "stderr",
     "output_type": "stream",
     "text": [
      "Found cached dataset csv (C:/Users/Hisha/.cache/huggingface/datasets/csv/default-83fc309eac32ce13/0.0.0/6b34fb8fcf56f7c8ba51dc895bfa2bfbe43546f190a60fcf74bb5e8afdcc2317)\n"
     ]
    },
    {
     "data": {
      "application/vnd.jupyter.widget-view+json": {
       "model_id": "b054dd291b4f4ffd86c6228fd9f7bbc5",
       "version_major": 2,
       "version_minor": 0
      },
      "text/plain": [
       "  0%|          | 0/1 [00:00<?, ?it/s]"
      ]
     },
     "metadata": {},
     "output_type": "display_data"
    }
   ],
   "source": [
    "# importing the data\n",
    "datafolder = '../../data/hateful_memes/'\n",
    "train = datafolder+'train_with_features.csv'\n",
    "test = datafolder+'test_with_features.csv'\n",
    "dev = datafolder+'dev_with_features.csv'\n",
    "\n",
    "# Load the train, dev, and test datasets\n",
    "train_data = load_dataset('csv', data_files=train, num_proc=8).cast_column(\"img\", Image(decode=False))\n",
    "dev_data = load_dataset('csv', data_files=dev, num_proc=8).cast_column(\"img\", Image(decode=False))\n",
    "test_data = load_dataset('csv', data_files=test, num_proc=8).cast_column(\"img\", Image(decode=False))\n",
    "\n",
    "train_img = torch.stack(torch.load('train_img_tensors.pt'))\n",
    "dev_img = torch.stack(torch.load('dev_img_tensors.pt'))\n",
    "test_img = torch.stack(torch.load('test_img_tensors.pt'))\n",
    "\n",
    "Y_train = np.asarray(train_data['train']['label'])\n",
    "Y_dev = np.asarray(dev_data['train']['label'])\n",
    "Y_test = np.asarray(test_data['train']['label'])\n",
    "\n",
    "# Create datasets\n",
    "train_dataset = TensorDataset(train_img, torch.Tensor(Y_train))\n",
    "dev_dataset = TensorDataset(dev_img, torch.Tensor(Y_dev))\n",
    "test_dataset = TensorDataset(test_img, torch.Tensor(Y_test))\n",
    "\n",
    "# Create data loaders\n",
    "batch_size = 32\n",
    "train_loader = DataLoader(train_dataset, batch_size=batch_size, shuffle=False)\n",
    "dev_loader = DataLoader(dev_dataset, batch_size=batch_size, shuffle=False)\n",
    "test_loader = DataLoader(test_dataset, batch_size=batch_size, shuffle=False)"
   ]
  },
  {
   "cell_type": "markdown",
   "id": "344921b2-e2c0-47c1-9c24-6e3d4125eb8b",
   "metadata": {},
   "source": [
    "# CNN"
   ]
  },
  {
   "cell_type": "code",
   "execution_count": 2,
   "id": "f82184f7-f7e6-4bb1-8471-25a64ee61e08",
   "metadata": {},
   "outputs": [],
   "source": [
    "device = torch.device(\"cuda\" if torch.cuda.is_available() else \"cpu\")  # Use GPU if available, otherwise use CPU\n",
    "\n",
    "class CNN(nn.Module):\n",
    "    def __init__(self):\n",
    "        super().__init__()\n",
    "        self.conv1 = nn.Conv2d(2048, 1024, kernel_size=3, stride=1, padding=1)\n",
    "        self.conv2 = nn.Conv2d(1024, 512, kernel_size=3, stride=1, padding=1)\n",
    "        self.conv3 = nn.Conv2d(512, 256, kernel_size=3, stride=1, padding=1)\n",
    "        self.conv4 = nn.Conv2d(256, 64, kernel_size=3)\n",
    "        self.fc1 = nn.Linear(64 * 5 * 5, 512)\n",
    "        self.fc2 = nn.Linear(512, 2)\n",
    "        self.dropout = nn.Dropout(0.5)\n",
    "        self.relu = nn.ReLU()\n",
    "\n",
    "    def forward(self, x):\n",
    "        x = x.view(-1, 2048, 7, 7)  # Reshape input tensor\n",
    "        x = self.relu(self.conv1(x))\n",
    "        x = self.relu(self.conv2(x))\n",
    "        x = self.relu(self.conv3(x))\n",
    "        x = self.relu(self.conv4(x))\n",
    "        x = x.view(-1, 64 * 5 * 5)\n",
    "        x = self.dropout(self.relu(self.fc1(x)))\n",
    "        x = self.fc2(x)\n",
    "        return x\n",
    "\n",
    "# Create model and optimizer\n",
    "model = CNN().to(device)\n",
    "optimizer = optim.Adam(model.parameters(), lr=0.0001)"
   ]
  },
  {
   "cell_type": "code",
   "execution_count": 7,
   "id": "690d7797-4708-44bd-ac2f-b2007e5f1468",
   "metadata": {},
   "outputs": [
    {
     "data": {
      "text/plain": [
       "<bound method Module.type of CNN(\n",
       "  (conv1): Conv2d(2048, 1024, kernel_size=(3, 3), stride=(1, 1), padding=(1, 1))\n",
       "  (conv2): Conv2d(1024, 512, kernel_size=(3, 3), stride=(1, 1), padding=(1, 1))\n",
       "  (conv3): Conv2d(512, 256, kernel_size=(3, 3), stride=(1, 1), padding=(1, 1))\n",
       "  (conv4): Conv2d(256, 64, kernel_size=(3, 3), stride=(1, 1))\n",
       "  (fc1): Linear(in_features=1600, out_features=512, bias=True)\n",
       "  (fc2): Linear(in_features=512, out_features=2, bias=True)\n",
       "  (dropout): Dropout(p=0.5, inplace=False)\n",
       "  (relu): ReLU()\n",
       ")>"
      ]
     },
     "execution_count": 7,
     "metadata": {},
     "output_type": "execute_result"
    }
   ],
   "source": [
    "model.type"
   ]
  },
  {
   "cell_type": "code",
   "execution_count": 63,
   "id": "42c01f3a-ce62-4eff-ac94-d4cf1acf891f",
   "metadata": {},
   "outputs": [],
   "source": [
    "def train(model, train_loader, optimizer, criterion, device):\n",
    "    model.train()\n",
    "    train_loss = 0\n",
    "    train_correct = 0\n",
    "    for data, target in train_loader:\n",
    "        data, target = data.to(device), target.to(device)\n",
    "        if data.shape[0] != batch_size:\n",
    "            continue\n",
    "        optimizer.zero_grad()\n",
    "        output = model(data)\n",
    "        target = target.to(torch.int64)\n",
    "        # output = output.to(torch.short)\n",
    "        loss = criterion(output, target)\n",
    "        loss.backward()\n",
    "        optimizer.step()\n",
    "        train_loss += loss.item() * data.size(0)\n",
    "        pred = output.argmax(dim=1, keepdim=True)\n",
    "        train_correct += pred.eq(target.view_as(pred)).sum().item()\n",
    "\n",
    "    train_loss /= len(train_loader.dataset)\n",
    "    train_acc = 100. * train_correct / len(train_loader.dataset)\n",
    "    return train_loss, train_acc\n",
    "\n",
    "def test(model, test_loader, criterion, device):\n",
    "    model.eval()\n",
    "    test_loss = 0\n",
    "    test_correct = 0\n",
    "    with torch.no_grad():\n",
    "        for data, target in test_loader:\n",
    "            data, target = data.to(device), target.to(device)\n",
    "            output = model(data)\n",
    "            target = target.to(torch.int64)\n",
    "            test_loss += criterion(output, target).item() * data.size(0)\n",
    "            pred = output.argmax(dim=1, keepdim=True)\n",
    "            test_correct += pred.eq(target.view_as(pred)).sum().item()\n",
    "\n",
    "    test_loss /= len(test_loader.dataset)\n",
    "    test_acc = 100. * test_correct / len(test_loader.dataset)\n",
    "    return test_loss, test_acc"
   ]
  },
  {
   "cell_type": "code",
   "execution_count": 64,
   "id": "9f9093c5-160a-4082-8e1c-5d3a9701c6f6",
   "metadata": {},
   "outputs": [
    {
     "name": "stdout",
     "output_type": "stream",
     "text": [
      "Epoch 1: Train Loss: 0.6448, Train Acc: 64.19%, Dev Loss: 0.6916, Dev Acc: 50.60%\n",
      "Epoch 2: Train Loss: 0.6239, Train Acc: 64.69%, Dev Loss: 0.6900, Dev Acc: 51.00%\n",
      "Epoch 3: Train Loss: 0.5761, Train Acc: 68.69%, Dev Loss: 1.0591, Dev Acc: 49.20%\n",
      "Epoch 4: Train Loss: 0.5529, Train Acc: 69.31%, Dev Loss: 0.7299, Dev Acc: 50.60%\n",
      "Epoch 5: Train Loss: 0.4837, Train Acc: 74.44%, Dev Loss: 0.7245, Dev Acc: 49.60%\n",
      "Epoch 6: Train Loss: 0.4542, Train Acc: 76.28%, Dev Loss: 0.7690, Dev Acc: 50.80%\n",
      "Epoch 7: Train Loss: 0.4213, Train Acc: 79.16%, Dev Loss: 0.8157, Dev Acc: 52.80%\n",
      "Epoch 8: Train Loss: 0.3797, Train Acc: 81.94%, Dev Loss: 1.5422, Dev Acc: 50.80%\n",
      "Epoch 9: Train Loss: 0.3490, Train Acc: 83.67%, Dev Loss: 2.2106, Dev Acc: 50.40%\n",
      "Epoch 10: Train Loss: 0.3651, Train Acc: 83.35%, Dev Loss: 1.5740, Dev Acc: 50.20%\n",
      "Epoch 11: Train Loss: 0.3237, Train Acc: 85.75%, Dev Loss: 1.3484, Dev Acc: 49.20%\n",
      "Epoch 12: Train Loss: 0.3060, Train Acc: 86.48%, Dev Loss: 1.7573, Dev Acc: 49.40%\n",
      "Epoch 13: Train Loss: 0.2417, Train Acc: 89.85%, Dev Loss: 1.4148, Dev Acc: 47.20%\n",
      "Epoch 14: Train Loss: 0.2040, Train Acc: 91.47%, Dev Loss: 2.5502, Dev Acc: 48.20%\n",
      "Epoch 15: Train Loss: 0.1747, Train Acc: 92.65%, Dev Loss: 3.0090, Dev Acc: 46.80%\n",
      "Epoch 16: Train Loss: 0.1751, Train Acc: 93.12%, Dev Loss: 3.6665, Dev Acc: 50.20%\n",
      "Epoch 17: Train Loss: 0.1774, Train Acc: 93.12%, Dev Loss: 2.5220, Dev Acc: 50.60%\n",
      "Epoch 18: Train Loss: 0.1509, Train Acc: 93.56%, Dev Loss: 3.4368, Dev Acc: 49.20%\n",
      "Epoch 19: Train Loss: 0.1389, Train Acc: 94.53%, Dev Loss: 3.1728, Dev Acc: 48.40%\n",
      "Epoch 20: Train Loss: 0.1287, Train Acc: 95.25%, Dev Loss: 3.5384, Dev Acc: 47.60%\n"
     ]
    }
   ],
   "source": [
    "# Define hyperparameters\n",
    "num_epochs = 20\n",
    "criterion = nn.CrossEntropyLoss()\n",
    "\n",
    "# Train the model\n",
    "for epoch in range(1, num_epochs + 1):\n",
    "    train_loss, train_acc = train(model, train_loader, optimizer, criterion, device)\n",
    "    dev_loss, dev_acc = test(model, dev_loader, criterion, device)\n",
    "    print(f'Epoch {epoch}: Train Loss: {train_loss:.4f}, Train Acc: {train_acc:.2f}%, Dev Loss: {dev_loss:.4f}, Dev Acc: {dev_acc:.2f}%')"
   ]
  },
  {
   "cell_type": "code",
   "execution_count": 65,
   "id": "81ea0954-a199-4a74-a881-bf34df8c7403",
   "metadata": {},
   "outputs": [
    {
     "data": {
      "text/html": [
       "<div>\n",
       "<style scoped>\n",
       "    .dataframe tbody tr th:only-of-type {\n",
       "        vertical-align: middle;\n",
       "    }\n",
       "\n",
       "    .dataframe tbody tr th {\n",
       "        vertical-align: top;\n",
       "    }\n",
       "\n",
       "    .dataframe thead th {\n",
       "        text-align: right;\n",
       "    }\n",
       "</style>\n",
       "<table border=\"1\" class=\"dataframe\">\n",
       "  <thead>\n",
       "    <tr style=\"text-align: right;\">\n",
       "      <th></th>\n",
       "      <th>precision</th>\n",
       "      <th>recall</th>\n",
       "      <th>F1</th>\n",
       "    </tr>\n",
       "  </thead>\n",
       "  <tbody>\n",
       "    <tr>\n",
       "      <th>0</th>\n",
       "      <td>0.50212</td>\n",
       "      <td>0.502121</td>\n",
       "      <td>0.501992</td>\n",
       "    </tr>\n",
       "  </tbody>\n",
       "</table>\n",
       "</div>"
      ],
      "text/plain": [
       "   precision    recall        F1\n",
       "0    0.50212  0.502121  0.501992"
      ]
     },
     "execution_count": 65,
     "metadata": {},
     "output_type": "execute_result"
    }
   ],
   "source": [
    "def predict(model, test_loader, device):\n",
    "    model.eval()\n",
    "    predictions = []\n",
    "    with torch.no_grad():\n",
    "        for data, target in test_loader:\n",
    "            data = data.to(device)\n",
    "            output = model(data)\n",
    "            pred = output.argmax(dim=1, keepdim=True)\n",
    "            predictions.extend(pred.cpu().numpy().tolist())\n",
    "\n",
    "    return [p[0] for p in predictions]\n",
    "\n",
    "# Use the predict function to predict the labels of test data\n",
    "predictions_test = predict(model, test_loader, device)\n",
    "\n",
    "results = pd.DataFrame(\n",
    "    [list(precision_recall_fscore_support(Y_test, predictions_test, average='macro')[:3])],\n",
    "    columns=['precision', 'recall', 'F1'])\n",
    "results"
   ]
  },
  {
   "cell_type": "code",
   "execution_count": 66,
   "id": "8260cc39-8f54-4972-bc5b-dfd7cf288c98",
   "metadata": {},
   "outputs": [
    {
     "data": {
      "text/html": [
       "<div>\n",
       "<style scoped>\n",
       "    .dataframe tbody tr th:only-of-type {\n",
       "        vertical-align: middle;\n",
       "    }\n",
       "\n",
       "    .dataframe tbody tr th {\n",
       "        vertical-align: top;\n",
       "    }\n",
       "\n",
       "    .dataframe thead th {\n",
       "        text-align: right;\n",
       "    }\n",
       "</style>\n",
       "<table border=\"1\" class=\"dataframe\">\n",
       "  <thead>\n",
       "    <tr style=\"text-align: right;\">\n",
       "      <th></th>\n",
       "      <th>precision</th>\n",
       "      <th>recall</th>\n",
       "      <th>F1</th>\n",
       "    </tr>\n",
       "  </thead>\n",
       "  <tbody>\n",
       "    <tr>\n",
       "      <th>0</th>\n",
       "      <td>0.476319</td>\n",
       "      <td>0.476453</td>\n",
       "      <td>0.475463</td>\n",
       "    </tr>\n",
       "  </tbody>\n",
       "</table>\n",
       "</div>"
      ],
      "text/plain": [
       "   precision    recall        F1\n",
       "0   0.476319  0.476453  0.475463"
      ]
     },
     "execution_count": 66,
     "metadata": {},
     "output_type": "execute_result"
    }
   ],
   "source": [
    "# Use the predict function to predict the labels of dev data\n",
    "predictions_dev = predict(model, dev_loader, device)\n",
    "\n",
    "results = pd.DataFrame(\n",
    "    [list(precision_recall_fscore_support(Y_dev, predictions_dev, average='macro')[:3])],\n",
    "    columns=['precision', 'recall', 'F1'])\n",
    "results"
   ]
  },
  {
   "cell_type": "code",
   "execution_count": 69,
   "id": "f1c8c870-4a5b-4fdf-a089-424cd2306ffb",
   "metadata": {},
   "outputs": [
    {
     "data": {
      "text/html": [
       "<div>\n",
       "<style scoped>\n",
       "    .dataframe tbody tr th:only-of-type {\n",
       "        vertical-align: middle;\n",
       "    }\n",
       "\n",
       "    .dataframe tbody tr th {\n",
       "        vertical-align: top;\n",
       "    }\n",
       "\n",
       "    .dataframe thead th {\n",
       "        text-align: right;\n",
       "    }\n",
       "</style>\n",
       "<table border=\"1\" class=\"dataframe\">\n",
       "  <thead>\n",
       "    <tr style=\"text-align: right;\">\n",
       "      <th></th>\n",
       "      <th>precision</th>\n",
       "      <th>recall</th>\n",
       "      <th>F1</th>\n",
       "    </tr>\n",
       "  </thead>\n",
       "  <tbody>\n",
       "    <tr>\n",
       "      <th>0</th>\n",
       "      <td>0.793168</td>\n",
       "      <td>0.818637</td>\n",
       "      <td>0.79494</td>\n",
       "    </tr>\n",
       "  </tbody>\n",
       "</table>\n",
       "</div>"
      ],
      "text/plain": [
       "   precision    recall       F1\n",
       "0   0.793168  0.818637  0.79494"
      ]
     },
     "execution_count": 69,
     "metadata": {},
     "output_type": "execute_result"
    }
   ],
   "source": [
    "# Use the predict function to predict the labels of dev data\n",
    "predictions_train = predict(model, train_loader, device)\n",
    "\n",
    "results = pd.DataFrame(\n",
    "    [list(precision_recall_fscore_support(Y_train, predictions_train, average='macro')[:3])],\n",
    "    columns=['precision', 'recall', 'F1'])\n",
    "results"
   ]
  },
  {
   "cell_type": "code",
   "execution_count": 70,
   "id": "11fc9a59-a2a2-435b-9bf9-17f9875294ea",
   "metadata": {},
   "outputs": [],
   "source": [
    "df_train = pd.read_csv(train, keep_default_na=False)\n",
    "df_dev = pd.read_csv(dev, keep_default_na=False)\n",
    "df_test = pd.read_csv(test, keep_default_na=False)\n",
    "\n",
    "df_train['ResNet_nn'] = predictions_train\n",
    "df_dev['ResNet_nn'] = predictions_dev\n",
    "df_test['ResNet_nn'] = predictions_test\n",
    "\n",
    "df_train.to_csv(datafolder+'train_with_features.csv', index=False)\n",
    "df_dev.to_csv(datafolder+'dev_with_features.csv', index=False)\n",
    "df_test.to_csv(datafolder+'test_with_features.csv', index=False)"
   ]
  },
  {
   "cell_type": "markdown",
   "id": "c62a1d7e-ea78-4654-ad9d-2b090bcafb70",
   "metadata": {},
   "source": [
    "# SVM: Default params"
   ]
  },
  {
   "cell_type": "code",
   "execution_count": 71,
   "id": "d896928e-81b5-4778-adab-92e8c42c4d7a",
   "metadata": {},
   "outputs": [],
   "source": [
    "train_X = [np.array(x.cpu()).flatten() for x in train_img]\n",
    "dev_X = [np.array(x.cpu()).flatten() for x in dev_img]\n",
    "test_X = [np.array(x.cpu()).flatten() for x in test_img]"
   ]
  },
  {
   "cell_type": "code",
   "execution_count": 8,
   "id": "55e6fb2a-5058-4a2f-9417-415cf5f69bd5",
   "metadata": {},
   "outputs": [
    {
     "data": {
      "text/html": [
       "<div>\n",
       "<style scoped>\n",
       "    .dataframe tbody tr th:only-of-type {\n",
       "        vertical-align: middle;\n",
       "    }\n",
       "\n",
       "    .dataframe tbody tr th {\n",
       "        vertical-align: top;\n",
       "    }\n",
       "\n",
       "    .dataframe thead th {\n",
       "        text-align: right;\n",
       "    }\n",
       "</style>\n",
       "<table border=\"1\" class=\"dataframe\">\n",
       "  <thead>\n",
       "    <tr style=\"text-align: right;\">\n",
       "      <th></th>\n",
       "      <th>precision</th>\n",
       "      <th>recall</th>\n",
       "      <th>F1</th>\n",
       "    </tr>\n",
       "  </thead>\n",
       "  <tbody>\n",
       "    <tr>\n",
       "      <th>0</th>\n",
       "      <td>0.518329</td>\n",
       "      <td>0.502408</td>\n",
       "      <td>0.366971</td>\n",
       "    </tr>\n",
       "  </tbody>\n",
       "</table>\n",
       "</div>"
      ],
      "text/plain": [
       "   precision    recall        F1\n",
       "0   0.518329  0.502408  0.366971"
      ]
     },
     "execution_count": 8,
     "metadata": {},
     "output_type": "execute_result"
    }
   ],
   "source": [
    "from sklearn.svm import SVC\n",
    "clf_svc = SVC(kernel='rbf') # parameter C was selected based on grid search\n",
    "clf_svc.fit(train_X, Y_train)\n",
    "Y_pred = clf_svc.predict(dev_X)\n",
    "results = pd.DataFrame(\n",
    "    [list(precision_recall_fscore_support(Y_dev, Y_pred, average='macro')[:3])],\n",
    "    columns=['precision', 'recall', 'F1'])\n",
    "results"
   ]
  },
  {
   "cell_type": "code",
   "execution_count": 9,
   "id": "e5081b63-ca74-448f-88e4-1f6ed92cb472",
   "metadata": {},
   "outputs": [],
   "source": [
    "Y_pred2 = clf_svc.predict(test_X)"
   ]
  },
  {
   "cell_type": "code",
   "execution_count": 10,
   "id": "592ed007-ff9c-4d48-bf31-f4a44001d6cc",
   "metadata": {},
   "outputs": [],
   "source": [
    "df_dev = pd.read_csv(dev, keep_default_na=False)\n",
    "df_test = pd.read_csv(test, keep_default_na=False)\n",
    "\n",
    "df_dev['ResNet_svm_rbf_kernel'] = Y_pred\n",
    "df_test['ResNet_svm_rbf_kernel'] = Y_pred2\n",
    "\n",
    "df_dev.to_csv(datafolder+'dev_with_features.csv', index=False)\n",
    "df_test.to_csv(datafolder+'test_with_features.csv', index=False)"
   ]
  },
  {
   "cell_type": "markdown",
   "id": "dfbb92ec-be44-4395-b9cd-8d306f2f76fa",
   "metadata": {},
   "source": [
    "# SVM: C10"
   ]
  },
  {
   "cell_type": "code",
   "execution_count": 11,
   "id": "29f9e1bc-6dd2-4771-b056-2a3449ac9197",
   "metadata": {},
   "outputs": [
    {
     "data": {
      "text/html": [
       "<div>\n",
       "<style scoped>\n",
       "    .dataframe tbody tr th:only-of-type {\n",
       "        vertical-align: middle;\n",
       "    }\n",
       "\n",
       "    .dataframe tbody tr th {\n",
       "        vertical-align: top;\n",
       "    }\n",
       "\n",
       "    .dataframe thead th {\n",
       "        text-align: right;\n",
       "    }\n",
       "</style>\n",
       "<table border=\"1\" class=\"dataframe\">\n",
       "  <thead>\n",
       "    <tr style=\"text-align: right;\">\n",
       "      <th></th>\n",
       "      <th>precision</th>\n",
       "      <th>recall</th>\n",
       "      <th>F1</th>\n",
       "    </tr>\n",
       "  </thead>\n",
       "  <tbody>\n",
       "    <tr>\n",
       "      <th>0</th>\n",
       "      <td>0.503555</td>\n",
       "      <td>0.501872</td>\n",
       "      <td>0.437037</td>\n",
       "    </tr>\n",
       "  </tbody>\n",
       "</table>\n",
       "</div>"
      ],
      "text/plain": [
       "   precision    recall        F1\n",
       "0   0.503555  0.501872  0.437037"
      ]
     },
     "execution_count": 11,
     "metadata": {},
     "output_type": "execute_result"
    }
   ],
   "source": [
    "from sklearn.svm import SVC\n",
    "clf_svc = SVC(kernel='rbf', C=10) # parameter C was selected based on grid search\n",
    "clf_svc.fit(train_X, Y_train)\n",
    "Y_pred = clf_svc.predict(dev_X)\n",
    "results = pd.DataFrame(\n",
    "    [list(precision_recall_fscore_support(Y_dev, Y_pred, average='macro')[:3])],\n",
    "    columns=['precision', 'recall', 'F1'])\n",
    "results"
   ]
  },
  {
   "cell_type": "code",
   "execution_count": 12,
   "id": "0fd9b56a-8cd3-4431-b84f-4a1e94a56298",
   "metadata": {},
   "outputs": [],
   "source": [
    "Y_pred2 = clf_svc.predict(test_X)"
   ]
  },
  {
   "cell_type": "code",
   "execution_count": 13,
   "id": "65165ace-a671-4303-8113-a393b5995bd9",
   "metadata": {},
   "outputs": [],
   "source": [
    "# df_dev = pd.read_csv(dev, keep_default_na=False)\n",
    "# df_test = pd.read_csv(test, keep_default_na=False)\n",
    "\n",
    "df_dev['ResNet_svm_rbf_kernelC10'] = Y_pred\n",
    "df_test['ResNet_svm_rbf_kernelC10'] = Y_pred2\n",
    "\n",
    "df_dev.to_csv(datafolder+'dev_with_features.csv', index=False)\n",
    "df_test.to_csv(datafolder+'test_with_features.csv', index=False)"
   ]
  },
  {
   "cell_type": "markdown",
   "id": "9727cbde-cacb-4221-9b37-140f1f544b48",
   "metadata": {},
   "source": [
    "# SVM: Linear Kernel"
   ]
  },
  {
   "cell_type": "code",
   "execution_count": 14,
   "id": "59c8e796-4b18-4ad8-b225-ca4a5fedd436",
   "metadata": {},
   "outputs": [
    {
     "data": {
      "text/html": [
       "<div>\n",
       "<style scoped>\n",
       "    .dataframe tbody tr th:only-of-type {\n",
       "        vertical-align: middle;\n",
       "    }\n",
       "\n",
       "    .dataframe tbody tr th {\n",
       "        vertical-align: top;\n",
       "    }\n",
       "\n",
       "    .dataframe thead th {\n",
       "        text-align: right;\n",
       "    }\n",
       "</style>\n",
       "<table border=\"1\" class=\"dataframe\">\n",
       "  <thead>\n",
       "    <tr style=\"text-align: right;\">\n",
       "      <th></th>\n",
       "      <th>precision</th>\n",
       "      <th>recall</th>\n",
       "      <th>F1</th>\n",
       "    </tr>\n",
       "  </thead>\n",
       "  <tbody>\n",
       "    <tr>\n",
       "      <th>0</th>\n",
       "      <td>0.506658</td>\n",
       "      <td>0.505529</td>\n",
       "      <td>0.484847</td>\n",
       "    </tr>\n",
       "  </tbody>\n",
       "</table>\n",
       "</div>"
      ],
      "text/plain": [
       "   precision    recall        F1\n",
       "0   0.506658  0.505529  0.484847"
      ]
     },
     "execution_count": 14,
     "metadata": {},
     "output_type": "execute_result"
    }
   ],
   "source": [
    "from sklearn.svm import SVC\n",
    "clf_svc = SVC(kernel='linear') # parameter C was selected based on grid search\n",
    "clf_svc.fit(train_X, Y_train)\n",
    "Y_pred = clf_svc.predict(dev_X)\n",
    "results = pd.DataFrame(\n",
    "    [list(precision_recall_fscore_support(Y_dev, Y_pred, average='macro')[:3])],\n",
    "    columns=['precision', 'recall', 'F1'])\n",
    "results"
   ]
  },
  {
   "cell_type": "code",
   "execution_count": 15,
   "id": "badb975d-122a-48ba-ace1-f9e7999e3305",
   "metadata": {},
   "outputs": [],
   "source": [
    "Y_pred2 = clf_svc.predict(test_X)"
   ]
  },
  {
   "cell_type": "code",
   "execution_count": 16,
   "id": "6db7e4d5-6aa1-42b9-94ab-ada271bfca6c",
   "metadata": {},
   "outputs": [],
   "source": [
    "# df_dev = pd.read_csv(dev, keep_default_na=False)\n",
    "# df_test = pd.read_csv(test, keep_default_na=False)\n",
    "\n",
    "df_dev['ResNet_svm_linear_kernel'] = Y_pred\n",
    "df_test['ResNet_svm_linear_kernel'] = Y_pred2\n",
    "\n",
    "df_dev.to_csv(datafolder+'dev_with_features.csv', index=False)\n",
    "df_test.to_csv(datafolder+'test_with_features.csv', index=False)"
   ]
  },
  {
   "cell_type": "markdown",
   "id": "79267b04-2090-400d-aecd-4c557801f44a",
   "metadata": {},
   "source": [
    "# SVM: Linear and C10"
   ]
  },
  {
   "cell_type": "code",
   "execution_count": 72,
   "id": "c2b892a7-e35f-4ed8-a9f9-53d8c4d87c78",
   "metadata": {},
   "outputs": [
    {
     "data": {
      "text/html": [
       "<div>\n",
       "<style scoped>\n",
       "    .dataframe tbody tr th:only-of-type {\n",
       "        vertical-align: middle;\n",
       "    }\n",
       "\n",
       "    .dataframe tbody tr th {\n",
       "        vertical-align: top;\n",
       "    }\n",
       "\n",
       "    .dataframe thead th {\n",
       "        text-align: right;\n",
       "    }\n",
       "</style>\n",
       "<table border=\"1\" class=\"dataframe\">\n",
       "  <thead>\n",
       "    <tr style=\"text-align: right;\">\n",
       "      <th></th>\n",
       "      <th>precision</th>\n",
       "      <th>recall</th>\n",
       "      <th>F1</th>\n",
       "    </tr>\n",
       "  </thead>\n",
       "  <tbody>\n",
       "    <tr>\n",
       "      <th>0</th>\n",
       "      <td>0.504545</td>\n",
       "      <td>0.504081</td>\n",
       "      <td>0.492002</td>\n",
       "    </tr>\n",
       "  </tbody>\n",
       "</table>\n",
       "</div>"
      ],
      "text/plain": [
       "   precision    recall        F1\n",
       "0   0.504545  0.504081  0.492002"
      ]
     },
     "execution_count": 72,
     "metadata": {},
     "output_type": "execute_result"
    }
   ],
   "source": [
    "from sklearn.svm import SVC\n",
    "clf_svc = SVC(kernel='linear', C=10) # parameter C was selected based on grid search\n",
    "clf_svc.fit(train_X, Y_train)\n",
    "Y_pred = clf_svc.predict(dev_X)\n",
    "results = pd.DataFrame(\n",
    "    [list(precision_recall_fscore_support(Y_dev, Y_pred, average='macro')[:3])],\n",
    "    columns=['precision', 'recall', 'F1'])\n",
    "results"
   ]
  },
  {
   "cell_type": "code",
   "execution_count": 73,
   "id": "39da7905-30aa-4c4d-8463-d8a67a584af7",
   "metadata": {},
   "outputs": [],
   "source": [
    "# df_dev = pd.read_csv(dev, keep_default_na=False)\n",
    "# df_test = pd.read_csv(test, keep_default_na=False)\n",
    "Y_pred2 = clf_svc.predict(test_X)\n",
    "Y_pred3 = clf_svc.predict(train_X)\n",
    "\n",
    "df_train['ResNet_svm_linear_kernelC10'] = Y_pred3\n",
    "df_dev['ResNet_svm_linear_kernelC10'] = Y_pred\n",
    "df_test['ResNet_svm_linear_kernelC10'] = Y_pred2\n",
    "\n",
    "df_train.to_csv(datafolder+'train_with_features.csv', index=False)\n",
    "df_dev.to_csv(datafolder+'dev_with_features.csv', index=False)\n",
    "df_test.to_csv(datafolder+'test_with_features.csv', index=False)"
   ]
  },
  {
   "cell_type": "code",
   "execution_count": 74,
   "id": "64a79ca6-e77d-4552-8762-8dc4c1e2367a",
   "metadata": {},
   "outputs": [
    {
     "data": {
      "text/html": [
       "<div>\n",
       "<style scoped>\n",
       "    .dataframe tbody tr th:only-of-type {\n",
       "        vertical-align: middle;\n",
       "    }\n",
       "\n",
       "    .dataframe tbody tr th {\n",
       "        vertical-align: top;\n",
       "    }\n",
       "\n",
       "    .dataframe thead th {\n",
       "        text-align: right;\n",
       "    }\n",
       "</style>\n",
       "<table border=\"1\" class=\"dataframe\">\n",
       "  <thead>\n",
       "    <tr style=\"text-align: right;\">\n",
       "      <th></th>\n",
       "      <th>precision</th>\n",
       "      <th>recall</th>\n",
       "      <th>F1</th>\n",
       "    </tr>\n",
       "  </thead>\n",
       "  <tbody>\n",
       "    <tr>\n",
       "      <th>0</th>\n",
       "      <td>0.492996</td>\n",
       "      <td>0.493737</td>\n",
       "      <td>0.481481</td>\n",
       "    </tr>\n",
       "  </tbody>\n",
       "</table>\n",
       "</div>"
      ],
      "text/plain": [
       "   precision    recall        F1\n",
       "0   0.492996  0.493737  0.481481"
      ]
     },
     "execution_count": 74,
     "metadata": {},
     "output_type": "execute_result"
    }
   ],
   "source": [
    "results = pd.DataFrame(\n",
    "    [list(precision_recall_fscore_support(Y_test, Y_pred2, average='macro')[:3])],\n",
    "    columns=['precision', 'recall', 'F1'])\n",
    "results"
   ]
  },
  {
   "cell_type": "code",
   "execution_count": 75,
   "id": "2cbcc7ac-4e6c-4e4c-ac2c-6512cf631990",
   "metadata": {},
   "outputs": [
    {
     "data": {
      "text/html": [
       "<div>\n",
       "<style scoped>\n",
       "    .dataframe tbody tr th:only-of-type {\n",
       "        vertical-align: middle;\n",
       "    }\n",
       "\n",
       "    .dataframe tbody tr th {\n",
       "        vertical-align: top;\n",
       "    }\n",
       "\n",
       "    .dataframe thead th {\n",
       "        text-align: right;\n",
       "    }\n",
       "</style>\n",
       "<table border=\"1\" class=\"dataframe\">\n",
       "  <thead>\n",
       "    <tr style=\"text-align: right;\">\n",
       "      <th></th>\n",
       "      <th>precision</th>\n",
       "      <th>recall</th>\n",
       "      <th>F1</th>\n",
       "    </tr>\n",
       "  </thead>\n",
       "  <tbody>\n",
       "    <tr>\n",
       "      <th>0</th>\n",
       "      <td>1.0</td>\n",
       "      <td>1.0</td>\n",
       "      <td>1.0</td>\n",
       "    </tr>\n",
       "  </tbody>\n",
       "</table>\n",
       "</div>"
      ],
      "text/plain": [
       "   precision  recall   F1\n",
       "0        1.0     1.0  1.0"
      ]
     },
     "execution_count": 75,
     "metadata": {},
     "output_type": "execute_result"
    }
   ],
   "source": [
    "results = pd.DataFrame(\n",
    "    [list(precision_recall_fscore_support(Y_train, Y_pred3, average='macro')[:3])],\n",
    "    columns=['precision', 'recall', 'F1'])\n",
    "results"
   ]
  },
  {
   "cell_type": "code",
   "execution_count": null,
   "id": "38f32243-4ca5-439b-866c-256969c234a0",
   "metadata": {},
   "outputs": [],
   "source": []
  }
 ],
 "metadata": {
  "kernelspec": {
   "display_name": "Python 3 (ipykernel)",
   "language": "python",
   "name": "python3"
  },
  "language_info": {
   "codemirror_mode": {
    "name": "ipython",
    "version": 3
   },
   "file_extension": ".py",
   "mimetype": "text/x-python",
   "name": "python",
   "nbconvert_exporter": "python",
   "pygments_lexer": "ipython3",
   "version": "3.10.7"
  }
 },
 "nbformat": 4,
 "nbformat_minor": 5
}
