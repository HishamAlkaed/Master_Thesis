{
 "cells": [
  {
   "cell_type": "code",
   "execution_count": null,
   "id": "81fe956c-0e27-45ec-9638-94f13a3163a3",
   "metadata": {},
   "outputs": [],
   "source": [
    "import numpy as np\n",
    "import pandas as pd\n",
    "from transformers import AutoImageProcessor, ResNetModel\n",
    "import torch\n",
    "from datasets import load_dataset, Image\n",
    "from sklearn.metrics import precision_recall_fscore_support\n",
    "# from PIL import Image"
   ]
  },
  {
   "cell_type": "code",
   "execution_count": null,
   "id": "39e5ec8e-a59f-4c59-8dba-dc1651c4e3c6",
   "metadata": {},
   "outputs": [],
   "source": [
    "# from PIL import Image\n",
    "# # Initialize image processor and ResNet model\n",
    "# device = torch.device(\"cuda\" if torch.cuda.is_available() else \"cpu\")  # Use GPU if available, otherwise use CPU\n",
    "# image_processor = AutoImageProcessor.from_pretrained(\"microsoft/resnet-50\")\n",
    "# model = ResNetModel.from_pretrained(\"microsoft/resnet-50\").to(device)\n",
    "# def get_image_vectors(dataset, split):\n",
    "#     # Initialize list to store outputs\n",
    "#     outputs_list = []\n",
    "\n",
    "#     # Iterate through all images in the dataset\n",
    "#     for i in range(len(dataset[split]['img'])):\n",
    "\n",
    "#         # Open image using PIL\n",
    "#         image = Image.open(datafolder+dataset[split]['img'][i]['path'])\n",
    "        \n",
    "#         # Check image format and convert if necessary\n",
    "#         if image.mode != \"RGB\":\n",
    "#             image = image.convert(\"RGB\")\n",
    "\n",
    "#         # Check image size and resize if necessary\n",
    "#         if image.size != (224, 224):\n",
    "#             image = image.resize((224, 224))\n",
    "            \n",
    "#         # Preprocess image using the image processor\n",
    "#         inputs = image_processor(image, return_tensors=\"pt\").to(device)\n",
    "\n",
    "#         # Pass image through the ResNet model\n",
    "#         with torch.no_grad():\n",
    "#             outputs = model(**inputs)\n",
    "\n",
    "#         # Append the last hidden state to the outputs list\n",
    "#         outputs_list.append(outputs.last_hidden_state.to(device))\n",
    "#     return outputs_list\n",
    "#         # outputs_list.append(outputs.last_hidden_state.numpy().flatten().tolist())        "
   ]
  },
  {
   "cell_type": "code",
   "execution_count": null,
   "id": "5e96b43f-324d-4c93-9eb0-a0e0bc40d1d0",
   "metadata": {},
   "outputs": [],
   "source": [
    "# train_img = get_image_vectors(dataset, 'train')\n",
    "# dev_img = get_image_vectors(dataset, 'validation')\n",
    "# test_img = get_image_vectors(dataset, 'test')\n",
    "\n",
    "# torch.save(train_img, 'train_img_tensors.pt')\n",
    "# torch.save(dev_img, 'dev_img_tensors.pt')\n",
    "# torch.save(test_img, 'test_img_tensors.pt')"
   ]
  },
  {
   "cell_type": "code",
   "execution_count": null,
   "id": "2a5463e4-8a1e-476a-a6fe-b9beea5ce656",
   "metadata": {},
   "outputs": [],
   "source": [
    "# importing the data\n",
    "datafolder = '../../data/hateful_memes/'\n",
    "train = datafolder+'train_with_features.csv'\n",
    "test = datafolder+'test_with_features.csv'\n",
    "dev = datafolder+'dev_with_features.csv'"
   ]
  },
  {
   "cell_type": "code",
   "execution_count": null,
   "id": "86ed4460-1b26-4e1e-88e8-d7e02720d46a",
   "metadata": {},
   "outputs": [
    {
     "name": "stderr",
     "output_type": "stream",
     "text": [
      "Found cached dataset csv (C:/Users/Hisha/.cache/huggingface/datasets/csv/default-d08f24387b6055f1/0.0.0/6b34fb8fcf56f7c8ba51dc895bfa2bfbe43546f190a60fcf74bb5e8afdcc2317)\n"
     ]
    },
    {
     "data": {
      "application/vnd.jupyter.widget-view+json": {
       "model_id": "9962cae28db048b08dbc58933ef024f6",
       "version_major": 2,
       "version_minor": 0
      },
      "text/plain": [
       "  0%|          | 0/1 [00:00<?, ?it/s]"
      ]
     },
     "metadata": {},
     "output_type": "display_data"
    },
    {
     "name": "stderr",
     "output_type": "stream",
     "text": [
      "Found cached dataset csv (C:/Users/Hisha/.cache/huggingface/datasets/csv/default-ad166f4d6492fd09/0.0.0/6b34fb8fcf56f7c8ba51dc895bfa2bfbe43546f190a60fcf74bb5e8afdcc2317)\n"
     ]
    },
    {
     "data": {
      "application/vnd.jupyter.widget-view+json": {
       "model_id": "9d9c80f70b994cfd9e35e255fdd2f2fc",
       "version_major": 2,
       "version_minor": 0
      },
      "text/plain": [
       "  0%|          | 0/1 [00:00<?, ?it/s]"
      ]
     },
     "metadata": {},
     "output_type": "display_data"
    },
    {
     "name": "stderr",
     "output_type": "stream",
     "text": [
      "Found cached dataset csv (C:/Users/Hisha/.cache/huggingface/datasets/csv/default-83fc309eac32ce13/0.0.0/6b34fb8fcf56f7c8ba51dc895bfa2bfbe43546f190a60fcf74bb5e8afdcc2317)\n"
     ]
    },
    {
     "data": {
      "application/vnd.jupyter.widget-view+json": {
       "model_id": "246055d6a7fc4f1bbbb0f25f035c057c",
       "version_major": 2,
       "version_minor": 0
      },
      "text/plain": [
       "  0%|          | 0/1 [00:00<?, ?it/s]"
      ]
     },
     "metadata": {},
     "output_type": "display_data"
    }
   ],
   "source": [
    "# Load the train, dev, and test datasets\n",
    "train_data = load_dataset('csv', data_files=train, num_proc=8).cast_column(\"img\", Image(decode=False))\n",
    "dev_data = load_dataset('csv', data_files=dev, num_proc=8).cast_column(\"img\", Image(decode=False))\n",
    "test_data = load_dataset('csv', data_files=test, num_proc=8).cast_column(\"img\", Image(decode=False))"
   ]
  },
  {
   "cell_type": "code",
   "execution_count": 6,
   "id": "43130be3-6490-4f95-b8fb-38c56ae143cc",
   "metadata": {},
   "outputs": [],
   "source": [
    "train_img = torch.stack(torch.load('train_img_tensors.pt'))\n",
    "dev_img = torch.stack(torch.load('dev_img_tensors.pt'))\n",
    "test_img = torch.stack(torch.load('test_img_tensors.pt'))"
   ]
  },
  {
   "cell_type": "code",
   "execution_count": 7,
   "id": "25b2ae6e-1262-45cd-8fb4-352c1150e0e3",
   "metadata": {},
   "outputs": [],
   "source": [
    "Y_train = np.asarray(train_data['train']['label'])\n",
    "Y_dev = np.asarray(dev_data['train']['label'])\n",
    "Y_test = np.asarray(test_data['train']['label'])"
   ]
  },
  {
   "cell_type": "code",
   "execution_count": 26,
   "id": "58750ae2-ac17-4e45-8d14-b45f75dd877f",
   "metadata": {},
   "outputs": [],
   "source": [
    "# Create datasets\n",
    "train_dataset = TensorDataset(train_img, torch.Tensor(Y_train))\n",
    "dev_dataset = TensorDataset(dev_img, torch.Tensor(Y_dev))\n",
    "test_dataset = TensorDataset(test_img, torch.Tensor(Y_test))\n",
    "\n",
    "# Create data loaders\n",
    "batch_size = 32\n",
    "train_loader = DataLoader(train_dataset, batch_size=batch_size, shuffle=False, drop_last=True)\n",
    "dev_loader = DataLoader(dev_dataset, batch_size=batch_size, shuffle=False)\n",
    "test_loader = DataLoader(test_dataset, batch_size=batch_size, shuffle=False)"
   ]
  },
  {
   "cell_type": "markdown",
   "id": "344921b2-e2c0-47c1-9c24-6e3d4125eb8b",
   "metadata": {},
   "source": [
    "# CNN"
   ]
  },
  {
   "cell_type": "code",
   "execution_count": 27,
   "id": "94dbd170-81a9-4f9a-8554-a24e154fc755",
   "metadata": {},
   "outputs": [],
   "source": [
    "import torch\n",
    "import torch.nn as nn\n",
    "import torch.optim as optim\n",
    "from torch.utils.data import DataLoader, Dataset, TensorDataset"
   ]
  },
  {
   "cell_type": "code",
   "execution_count": 46,
   "id": "f82184f7-f7e6-4bb1-8471-25a64ee61e08",
   "metadata": {},
   "outputs": [],
   "source": [
    "device = torch.device(\"cuda\" if torch.cuda.is_available() else \"cpu\")  # Use GPU if available, otherwise use CPU\n",
    "class CNN(nn.Module):\n",
    "    def __init__(self):\n",
    "        super().__init__()\n",
    "        self.conv1 = nn.Conv2d(2048, 32, kernel_size=3, stride=1, padding=1)\n",
    "        self.conv2 = nn.Conv2d(32, 64, kernel_size=3)\n",
    "        self.conv3 = nn.Conv2d(64, 128, kernel_size=3)\n",
    "        self.fc1 = nn.Linear(128 * 3 * 3, 512)\n",
    "        self.fc2 = nn.Linear(512, 2)\n",
    "        self.dropout = nn.Dropout(0.5)\n",
    "        self.relu = nn.ReLU()\n",
    "\n",
    "    def forward(self, x):\n",
    "        x = x.view(-1, 2048, 7, 7)  # Reshape input tensor\n",
    "        x = self.relu(self.conv1(x))\n",
    "        x = self.relu(self.conv2(x))\n",
    "        x = self.relu(self.conv3(x))\n",
    "        x = x.view(-1, 128 * 3 * 3)\n",
    "        x = self.dropout(self.relu(self.fc1(x)))\n",
    "        x = self.fc2(x)\n",
    "        return x\n",
    "\n",
    "# Create model and optimizer\n",
    "model = CNN().to(device)\n",
    "optimizer = optim.Adam(model.parameters(), lr=0.001)"
   ]
  },
  {
   "cell_type": "code",
   "execution_count": 79,
   "id": "42c01f3a-ce62-4eff-ac94-d4cf1acf891f",
   "metadata": {},
   "outputs": [],
   "source": [
    "def train(model, train_loader, optimizer, criterion, device):\n",
    "    model.train()\n",
    "    train_loss = 0\n",
    "    train_correct = 0\n",
    "    for data, target in train_loader:\n",
    "        data, target = data.to(device), target.to(device)\n",
    "        if data.shape[0] != batch_size:\n",
    "            continue\n",
    "        optimizer.zero_grad()\n",
    "        output = model(data)\n",
    "        target = target.to(torch.int64)\n",
    "        # output = output.to(torch.short)\n",
    "        loss = criterion(output, target)\n",
    "        loss.backward()\n",
    "        optimizer.step()\n",
    "        train_loss += loss.item() * data.size(0)\n",
    "        pred = output.argmax(dim=1, keepdim=True)\n",
    "        train_correct += pred.eq(target.view_as(pred)).sum().item()\n",
    "\n",
    "    train_loss /= len(train_loader.dataset)\n",
    "    train_acc = 100. * train_correct / len(train_loader.dataset)\n",
    "    return train_loss, train_acc\n",
    "\n",
    "def test(model, test_loader, criterion, device):\n",
    "    model.eval()\n",
    "    test_loss = 0\n",
    "    test_correct = 0\n",
    "    with torch.no_grad():\n",
    "        for data, target in test_loader:\n",
    "            data, target = data.to(device), target.to(device)\n",
    "            output = model(data)\n",
    "            target = target.to(torch.int64)\n",
    "            test_loss += criterion(output, target).item() * data.size(0)\n",
    "            pred = output.argmax(dim=1, keepdim=True)\n",
    "            test_correct += pred.eq(target.view_as(pred)).sum().item()\n",
    "\n",
    "    test_loss /= len(test_loader.dataset)\n",
    "    test_acc = 100. * test_correct / len(test_loader.dataset)\n",
    "    return test_loss, test_acc"
   ]
  },
  {
   "cell_type": "code",
   "execution_count": 101,
   "id": "9f9093c5-160a-4082-8e1c-5d3a9701c6f6",
   "metadata": {},
   "outputs": [
    {
     "name": "stdout",
     "output_type": "stream",
     "text": [
      "Epoch 1: Train Loss: 0.0361, Train Acc: 98.81%, Dev Loss: 3.1533, Dev Acc: 47.40%\n",
      "Epoch 2: Train Loss: 0.0242, Train Acc: 99.13%, Dev Loss: 3.8909, Dev Acc: 46.40%\n",
      "Epoch 3: Train Loss: 0.0154, Train Acc: 99.40%, Dev Loss: 4.1662, Dev Acc: 45.60%\n",
      "Epoch 4: Train Loss: 0.0145, Train Acc: 99.49%, Dev Loss: 4.1246, Dev Acc: 47.40%\n",
      "Epoch 5: Train Loss: 0.0048, Train Acc: 99.62%, Dev Loss: 4.8214, Dev Acc: 47.40%\n",
      "Epoch 6: Train Loss: 0.0040, Train Acc: 99.62%, Dev Loss: 4.9751, Dev Acc: 45.80%\n",
      "Epoch 7: Train Loss: 0.0012, Train Acc: 99.71%, Dev Loss: 5.8263, Dev Acc: 46.60%\n",
      "Epoch 8: Train Loss: 0.0014, Train Acc: 99.68%, Dev Loss: 6.1904, Dev Acc: 46.60%\n",
      "Epoch 9: Train Loss: 0.0013, Train Acc: 99.68%, Dev Loss: 6.3965, Dev Acc: 46.80%\n",
      "Epoch 10: Train Loss: 0.0017, Train Acc: 99.71%, Dev Loss: 6.1710, Dev Acc: 46.20%\n",
      "Epoch 11: Train Loss: 0.0018, Train Acc: 99.67%, Dev Loss: 6.2412, Dev Acc: 46.80%\n",
      "Epoch 12: Train Loss: 0.0013, Train Acc: 99.69%, Dev Loss: 6.5668, Dev Acc: 46.40%\n",
      "Epoch 13: Train Loss: 0.0028, Train Acc: 99.67%, Dev Loss: 6.9752, Dev Acc: 46.80%\n",
      "Epoch 14: Train Loss: 0.0245, Train Acc: 99.12%, Dev Loss: 4.1022, Dev Acc: 48.60%\n",
      "Epoch 15: Train Loss: 0.0774, Train Acc: 98.05%, Dev Loss: 3.5424, Dev Acc: 49.60%\n",
      "Epoch 16: Train Loss: 0.0400, Train Acc: 98.93%, Dev Loss: 4.1198, Dev Acc: 48.60%\n",
      "Epoch 17: Train Loss: 0.0237, Train Acc: 99.45%, Dev Loss: 5.0084, Dev Acc: 49.20%\n",
      "Epoch 18: Train Loss: 0.0063, Train Acc: 99.60%, Dev Loss: 5.8419, Dev Acc: 49.20%\n",
      "Epoch 19: Train Loss: 0.0034, Train Acc: 99.68%, Dev Loss: 6.2166, Dev Acc: 48.40%\n",
      "Epoch 20: Train Loss: 0.0014, Train Acc: 99.69%, Dev Loss: 6.5967, Dev Acc: 48.60%\n"
     ]
    }
   ],
   "source": [
    "# Define hyperparameters\n",
    "num_epochs = 20\n",
    "criterion = nn.CrossEntropyLoss()\n",
    "\n",
    "# Train the model\n",
    "for epoch in range(1, num_epochs + 1):\n",
    "    train_loss, train_acc = train(model, train_loader, optimizer, criterion, device)\n",
    "    dev_loss, dev_acc = test(model, dev_loader, criterion, device)\n",
    "    print(f'Epoch {epoch}: Train Loss: {train_loss:.4f}, Train Acc: {train_acc:.2f}%, Dev Loss: {dev_loss:.4f}, Dev Acc: {dev_acc:.2f}%')"
   ]
  },
  {
   "cell_type": "code",
   "execution_count": 104,
   "id": "81ea0954-a199-4a74-a881-bf34df8c7403",
   "metadata": {},
   "outputs": [
    {
     "data": {
      "text/html": [
       "<div>\n",
       "<style scoped>\n",
       "    .dataframe tbody tr th:only-of-type {\n",
       "        vertical-align: middle;\n",
       "    }\n",
       "\n",
       "    .dataframe tbody tr th {\n",
       "        vertical-align: top;\n",
       "    }\n",
       "\n",
       "    .dataframe thead th {\n",
       "        text-align: right;\n",
       "    }\n",
       "</style>\n",
       "<table border=\"1\" class=\"dataframe\">\n",
       "  <thead>\n",
       "    <tr style=\"text-align: right;\">\n",
       "      <th></th>\n",
       "      <th>precision</th>\n",
       "      <th>recall</th>\n",
       "      <th>F1</th>\n",
       "    </tr>\n",
       "  </thead>\n",
       "  <tbody>\n",
       "    <tr>\n",
       "      <th>0</th>\n",
       "      <td>0.490757</td>\n",
       "      <td>0.494038</td>\n",
       "      <td>0.447597</td>\n",
       "    </tr>\n",
       "  </tbody>\n",
       "</table>\n",
       "</div>"
      ],
      "text/plain": [
       "   precision    recall        F1\n",
       "0   0.490757  0.494038  0.447597"
      ]
     },
     "execution_count": 104,
     "metadata": {},
     "output_type": "execute_result"
    }
   ],
   "source": [
    "def predict(model, test_loader, device):\n",
    "    model.eval()\n",
    "    predictions = []\n",
    "    with torch.no_grad():\n",
    "        for data, target in test_loader:\n",
    "            data = data.to(device)\n",
    "            output = model(data)\n",
    "            pred = output.argmax(dim=1, keepdim=True)\n",
    "            predictions.extend(pred.cpu().numpy().tolist())\n",
    "\n",
    "    return [p[0] for p in predictions]\n",
    "\n",
    "# Use the predict function to predict the labels of test data\n",
    "predictions_test = predict(model, test_loader, device)\n",
    "\n",
    "results = pd.DataFrame(\n",
    "    [list(precision_recall_fscore_support(Y_test, predictions_test, average='macro')[:3])],\n",
    "    columns=['precision', 'recall', 'F1'])\n",
    "results"
   ]
  },
  {
   "cell_type": "code",
   "execution_count": 105,
   "id": "8260cc39-8f54-4972-bc5b-dfd7cf288c98",
   "metadata": {},
   "outputs": [
    {
     "data": {
      "text/html": [
       "<div>\n",
       "<style scoped>\n",
       "    .dataframe tbody tr th:only-of-type {\n",
       "        vertical-align: middle;\n",
       "    }\n",
       "\n",
       "    .dataframe tbody tr th {\n",
       "        vertical-align: top;\n",
       "    }\n",
       "\n",
       "    .dataframe thead th {\n",
       "        text-align: right;\n",
       "    }\n",
       "</style>\n",
       "<table border=\"1\" class=\"dataframe\">\n",
       "  <thead>\n",
       "    <tr style=\"text-align: right;\">\n",
       "      <th></th>\n",
       "      <th>precision</th>\n",
       "      <th>recall</th>\n",
       "      <th>F1</th>\n",
       "    </tr>\n",
       "  </thead>\n",
       "  <tbody>\n",
       "    <tr>\n",
       "      <th>0</th>\n",
       "      <td>0.473877</td>\n",
       "      <td>0.482541</td>\n",
       "      <td>0.437368</td>\n",
       "    </tr>\n",
       "  </tbody>\n",
       "</table>\n",
       "</div>"
      ],
      "text/plain": [
       "   precision    recall        F1\n",
       "0   0.473877  0.482541  0.437368"
      ]
     },
     "execution_count": 105,
     "metadata": {},
     "output_type": "execute_result"
    }
   ],
   "source": [
    "# Use the predict function to predict the labels of dev data\n",
    "predictions_dev = predict(model, dev_loader, device)\n",
    "\n",
    "results = pd.DataFrame(\n",
    "    [list(precision_recall_fscore_support(Y_dev, predictions_dev, average='macro')[:3])],\n",
    "    columns=['precision', 'recall', 'F1'])\n",
    "results"
   ]
  },
  {
   "cell_type": "markdown",
   "id": "c62a1d7e-ea78-4654-ad9d-2b090bcafb70",
   "metadata": {},
   "source": [
    "# SVM: Default params"
   ]
  },
  {
   "cell_type": "code",
   "execution_count": null,
   "id": "d896928e-81b5-4778-adab-92e8c42c4d7a",
   "metadata": {},
   "outputs": [],
   "source": [
    "train_X = [np.array(x.cpu()).flatten() for x in train_img]\n",
    "dev_X = [np.array(x.cpu()).flatten() for x in dev_img]\n",
    "test_X = [np.array(x.cpu()).flatten() for x in test_img]"
   ]
  },
  {
   "cell_type": "code",
   "execution_count": 8,
   "id": "55e6fb2a-5058-4a2f-9417-415cf5f69bd5",
   "metadata": {},
   "outputs": [
    {
     "data": {
      "text/html": [
       "<div>\n",
       "<style scoped>\n",
       "    .dataframe tbody tr th:only-of-type {\n",
       "        vertical-align: middle;\n",
       "    }\n",
       "\n",
       "    .dataframe tbody tr th {\n",
       "        vertical-align: top;\n",
       "    }\n",
       "\n",
       "    .dataframe thead th {\n",
       "        text-align: right;\n",
       "    }\n",
       "</style>\n",
       "<table border=\"1\" class=\"dataframe\">\n",
       "  <thead>\n",
       "    <tr style=\"text-align: right;\">\n",
       "      <th></th>\n",
       "      <th>precision</th>\n",
       "      <th>recall</th>\n",
       "      <th>F1</th>\n",
       "    </tr>\n",
       "  </thead>\n",
       "  <tbody>\n",
       "    <tr>\n",
       "      <th>0</th>\n",
       "      <td>0.518329</td>\n",
       "      <td>0.502408</td>\n",
       "      <td>0.366971</td>\n",
       "    </tr>\n",
       "  </tbody>\n",
       "</table>\n",
       "</div>"
      ],
      "text/plain": [
       "   precision    recall        F1\n",
       "0   0.518329  0.502408  0.366971"
      ]
     },
     "execution_count": 8,
     "metadata": {},
     "output_type": "execute_result"
    }
   ],
   "source": [
    "from sklearn.svm import SVC\n",
    "clf_svc = SVC(kernel='rbf') # parameter C was selected based on grid search\n",
    "clf_svc.fit(train_X, Y_train)\n",
    "Y_pred = clf_svc.predict(dev_X)\n",
    "results = pd.DataFrame(\n",
    "    [list(precision_recall_fscore_support(Y_dev, Y_pred, average='macro')[:3])],\n",
    "    columns=['precision', 'recall', 'F1'])\n",
    "results"
   ]
  },
  {
   "cell_type": "code",
   "execution_count": 9,
   "id": "e5081b63-ca74-448f-88e4-1f6ed92cb472",
   "metadata": {},
   "outputs": [],
   "source": [
    "Y_pred2 = clf_svc.predict(test_X)"
   ]
  },
  {
   "cell_type": "code",
   "execution_count": 10,
   "id": "592ed007-ff9c-4d48-bf31-f4a44001d6cc",
   "metadata": {},
   "outputs": [],
   "source": [
    "df_dev = pd.read_csv(dev, keep_default_na=False)\n",
    "df_test = pd.read_csv(test, keep_default_na=False)\n",
    "\n",
    "df_dev['ResNet_svm_rbf_kernel'] = Y_pred\n",
    "df_test['ResNet_svm_rbf_kernel'] = Y_pred2\n",
    "\n",
    "df_dev.to_csv(datafolder+'dev_with_features.csv', index=False)\n",
    "df_test.to_csv(datafolder+'test_with_features.csv', index=False)"
   ]
  },
  {
   "cell_type": "markdown",
   "id": "dfbb92ec-be44-4395-b9cd-8d306f2f76fa",
   "metadata": {},
   "source": [
    "# SVM: C10"
   ]
  },
  {
   "cell_type": "code",
   "execution_count": 11,
   "id": "29f9e1bc-6dd2-4771-b056-2a3449ac9197",
   "metadata": {},
   "outputs": [
    {
     "data": {
      "text/html": [
       "<div>\n",
       "<style scoped>\n",
       "    .dataframe tbody tr th:only-of-type {\n",
       "        vertical-align: middle;\n",
       "    }\n",
       "\n",
       "    .dataframe tbody tr th {\n",
       "        vertical-align: top;\n",
       "    }\n",
       "\n",
       "    .dataframe thead th {\n",
       "        text-align: right;\n",
       "    }\n",
       "</style>\n",
       "<table border=\"1\" class=\"dataframe\">\n",
       "  <thead>\n",
       "    <tr style=\"text-align: right;\">\n",
       "      <th></th>\n",
       "      <th>precision</th>\n",
       "      <th>recall</th>\n",
       "      <th>F1</th>\n",
       "    </tr>\n",
       "  </thead>\n",
       "  <tbody>\n",
       "    <tr>\n",
       "      <th>0</th>\n",
       "      <td>0.503555</td>\n",
       "      <td>0.501872</td>\n",
       "      <td>0.437037</td>\n",
       "    </tr>\n",
       "  </tbody>\n",
       "</table>\n",
       "</div>"
      ],
      "text/plain": [
       "   precision    recall        F1\n",
       "0   0.503555  0.501872  0.437037"
      ]
     },
     "execution_count": 11,
     "metadata": {},
     "output_type": "execute_result"
    }
   ],
   "source": [
    "from sklearn.svm import SVC\n",
    "clf_svc = SVC(kernel='rbf', C=10) # parameter C was selected based on grid search\n",
    "clf_svc.fit(train_X, Y_train)\n",
    "Y_pred = clf_svc.predict(dev_X)\n",
    "results = pd.DataFrame(\n",
    "    [list(precision_recall_fscore_support(Y_dev, Y_pred, average='macro')[:3])],\n",
    "    columns=['precision', 'recall', 'F1'])\n",
    "results"
   ]
  },
  {
   "cell_type": "code",
   "execution_count": 12,
   "id": "0fd9b56a-8cd3-4431-b84f-4a1e94a56298",
   "metadata": {},
   "outputs": [],
   "source": [
    "Y_pred2 = clf_svc.predict(test_X)"
   ]
  },
  {
   "cell_type": "code",
   "execution_count": 13,
   "id": "65165ace-a671-4303-8113-a393b5995bd9",
   "metadata": {},
   "outputs": [],
   "source": [
    "# df_dev = pd.read_csv(dev, keep_default_na=False)\n",
    "# df_test = pd.read_csv(test, keep_default_na=False)\n",
    "\n",
    "df_dev['ResNet_svm_rbf_kernelC10'] = Y_pred\n",
    "df_test['ResNet_svm_rbf_kernelC10'] = Y_pred2\n",
    "\n",
    "df_dev.to_csv(datafolder+'dev_with_features.csv', index=False)\n",
    "df_test.to_csv(datafolder+'test_with_features.csv', index=False)"
   ]
  },
  {
   "cell_type": "markdown",
   "id": "9727cbde-cacb-4221-9b37-140f1f544b48",
   "metadata": {},
   "source": [
    "# SVM: Linear Kernel"
   ]
  },
  {
   "cell_type": "code",
   "execution_count": 14,
   "id": "59c8e796-4b18-4ad8-b225-ca4a5fedd436",
   "metadata": {},
   "outputs": [
    {
     "data": {
      "text/html": [
       "<div>\n",
       "<style scoped>\n",
       "    .dataframe tbody tr th:only-of-type {\n",
       "        vertical-align: middle;\n",
       "    }\n",
       "\n",
       "    .dataframe tbody tr th {\n",
       "        vertical-align: top;\n",
       "    }\n",
       "\n",
       "    .dataframe thead th {\n",
       "        text-align: right;\n",
       "    }\n",
       "</style>\n",
       "<table border=\"1\" class=\"dataframe\">\n",
       "  <thead>\n",
       "    <tr style=\"text-align: right;\">\n",
       "      <th></th>\n",
       "      <th>precision</th>\n",
       "      <th>recall</th>\n",
       "      <th>F1</th>\n",
       "    </tr>\n",
       "  </thead>\n",
       "  <tbody>\n",
       "    <tr>\n",
       "      <th>0</th>\n",
       "      <td>0.506658</td>\n",
       "      <td>0.505529</td>\n",
       "      <td>0.484847</td>\n",
       "    </tr>\n",
       "  </tbody>\n",
       "</table>\n",
       "</div>"
      ],
      "text/plain": [
       "   precision    recall        F1\n",
       "0   0.506658  0.505529  0.484847"
      ]
     },
     "execution_count": 14,
     "metadata": {},
     "output_type": "execute_result"
    }
   ],
   "source": [
    "from sklearn.svm import SVC\n",
    "clf_svc = SVC(kernel='linear') # parameter C was selected based on grid search\n",
    "clf_svc.fit(train_X, Y_train)\n",
    "Y_pred = clf_svc.predict(dev_X)\n",
    "results = pd.DataFrame(\n",
    "    [list(precision_recall_fscore_support(Y_dev, Y_pred, average='macro')[:3])],\n",
    "    columns=['precision', 'recall', 'F1'])\n",
    "results"
   ]
  },
  {
   "cell_type": "code",
   "execution_count": 15,
   "id": "badb975d-122a-48ba-ace1-f9e7999e3305",
   "metadata": {},
   "outputs": [],
   "source": [
    "Y_pred2 = clf_svc.predict(test_X)"
   ]
  },
  {
   "cell_type": "code",
   "execution_count": 16,
   "id": "6db7e4d5-6aa1-42b9-94ab-ada271bfca6c",
   "metadata": {},
   "outputs": [],
   "source": [
    "# df_dev = pd.read_csv(dev, keep_default_na=False)\n",
    "# df_test = pd.read_csv(test, keep_default_na=False)\n",
    "\n",
    "df_dev['ResNet_svm_linear_kernel'] = Y_pred\n",
    "df_test['ResNet_svm_linear_kernel'] = Y_pred2\n",
    "\n",
    "df_dev.to_csv(datafolder+'dev_with_features.csv', index=False)\n",
    "df_test.to_csv(datafolder+'test_with_features.csv', index=False)"
   ]
  },
  {
   "cell_type": "markdown",
   "id": "79267b04-2090-400d-aecd-4c557801f44a",
   "metadata": {},
   "source": [
    "# SVM: Linear and C10"
   ]
  },
  {
   "cell_type": "code",
   "execution_count": 17,
   "id": "c2b892a7-e35f-4ed8-a9f9-53d8c4d87c78",
   "metadata": {},
   "outputs": [
    {
     "data": {
      "text/html": [
       "<div>\n",
       "<style scoped>\n",
       "    .dataframe tbody tr th:only-of-type {\n",
       "        vertical-align: middle;\n",
       "    }\n",
       "\n",
       "    .dataframe tbody tr th {\n",
       "        vertical-align: top;\n",
       "    }\n",
       "\n",
       "    .dataframe thead th {\n",
       "        text-align: right;\n",
       "    }\n",
       "</style>\n",
       "<table border=\"1\" class=\"dataframe\">\n",
       "  <thead>\n",
       "    <tr style=\"text-align: right;\">\n",
       "      <th></th>\n",
       "      <th>precision</th>\n",
       "      <th>recall</th>\n",
       "      <th>F1</th>\n",
       "    </tr>\n",
       "  </thead>\n",
       "  <tbody>\n",
       "    <tr>\n",
       "      <th>0</th>\n",
       "      <td>0.504545</td>\n",
       "      <td>0.504081</td>\n",
       "      <td>0.492002</td>\n",
       "    </tr>\n",
       "  </tbody>\n",
       "</table>\n",
       "</div>"
      ],
      "text/plain": [
       "   precision    recall        F1\n",
       "0   0.504545  0.504081  0.492002"
      ]
     },
     "execution_count": 17,
     "metadata": {},
     "output_type": "execute_result"
    }
   ],
   "source": [
    "from sklearn.svm import SVC\n",
    "clf_svc = SVC(kernel='linear', C=10) # parameter C was selected based on grid search\n",
    "clf_svc.fit(train_X, Y_train)\n",
    "Y_pred = clf_svc.predict(dev_X)\n",
    "results = pd.DataFrame(\n",
    "    [list(precision_recall_fscore_support(Y_dev, Y_pred, average='macro')[:3])],\n",
    "    columns=['precision', 'recall', 'F1'])\n",
    "results"
   ]
  },
  {
   "cell_type": "code",
   "execution_count": 19,
   "id": "39da7905-30aa-4c4d-8463-d8a67a584af7",
   "metadata": {},
   "outputs": [],
   "source": [
    "# df_dev = pd.read_csv(dev, keep_default_na=False)\n",
    "# df_test = pd.read_csv(test, keep_default_na=False)\n",
    "# Y_pred2 = clf_svc.predict(test_X)\n",
    "\n",
    "df_dev['ResNet_svm_linear_kernelC10'] = Y_pred\n",
    "df_test['ResNet_svm_linear_kernelC10'] = Y_pred2\n",
    "\n",
    "df_dev.to_csv(datafolder+'dev_with_features.csv', index=False)\n",
    "df_test.to_csv(datafolder+'test_with_features.csv', index=False)"
   ]
  },
  {
   "cell_type": "code",
   "execution_count": null,
   "id": "6740dba5-5001-4778-aec4-0f277fb349ec",
   "metadata": {},
   "outputs": [],
   "source": []
  }
 ],
 "metadata": {
  "kernelspec": {
   "display_name": "Python 3 (ipykernel)",
   "language": "python",
   "name": "python3"
  },
  "language_info": {
   "codemirror_mode": {
    "name": "ipython",
    "version": 3
   },
   "file_extension": ".py",
   "mimetype": "text/x-python",
   "name": "python",
   "nbconvert_exporter": "python",
   "pygments_lexer": "ipython3",
   "version": "3.10.7"
  }
 },
 "nbformat": 4,
 "nbformat_minor": 5
}
