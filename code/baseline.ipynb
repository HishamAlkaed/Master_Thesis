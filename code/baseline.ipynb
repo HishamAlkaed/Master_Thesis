{
 "cells": [
  {
   "cell_type": "code",
   "execution_count": 1,
   "id": "afbea7a3-63dd-4b10-8d47-2728bf2dd270",
   "metadata": {},
   "outputs": [],
   "source": [
    "import numpy as np\n",
    "import pandas as pd\n",
    "from sklearn.feature_extraction.text import CountVectorizer \n",
    "from sklearn.svm import LinearSVC\n",
    "from sklearn.metrics import precision_recall_fscore_support\n"
   ]
  },
  {
   "cell_type": "markdown",
   "id": "cc2479f1-ea3f-44cc-840d-e1f63c371130",
   "metadata": {},
   "source": [
    "# Basline: BoW"
   ]
  },
  {
   "cell_type": "code",
   "execution_count": 3,
   "id": "07fac846-95e8-4e76-945c-f752356e15b5",
   "metadata": {},
   "outputs": [],
   "source": [
    "# importing the data\n",
    "datafolder = '../../data/' # change to where the data is\n",
    "train = datafolder+'train_with_features.csv' # output of preprocessing file\n",
    "test = datafolder+'test_with_features.csv' # output of preprocessing file\n",
    "dev = datafolder+'dev_with_features.csv' # output of preprocessing file\n",
    "# test_unseen = datafolder+'test_unseen_with_features.csv' # output of preprocessing file\n",
    "# dev_unseen = datafolder+'dev_unseen_with_features.csv' # output of preprocessing file\n",
    "df_train = pd.read_csv(train, skip_blank_lines=False)\n",
    "df_dev = pd.read_csv(dev, skip_blank_lines=False)\n",
    "df_test = pd.read_csv(test, skip_blank_lines=False)\n",
    "# df_dev_unseen = pd.read_csv(dev_unseen, skip_blank_lines=False)\n",
    "# df_test_unseen = pd.read_csv(test_unseen, skip_blank_lines=False)"
   ]
  },
  {
   "cell_type": "code",
   "execution_count": null,
   "id": "d27341b9-e265-4d4e-9b75-16fc3fe979aa",
   "metadata": {},
   "outputs": [],
   "source": [
    "vectorizer = CountVectorizer(tokenizer=lambda x: x.split(), analyzer='word', ngram_range=(1, 1)) # to build 1n-grams from the word ==> BoW\n",
    "                \n",
    "X_train = vectorizer.fit_transform(df_train.tokens)\n",
    "X_dev = vectorizer.transform(df_dev.tokens) \n",
    "X_test = vectorizer.transform(df_test.tokens)\n",
    "# X_dev = vectorizer.transform(df_dev.tokens) \n",
    "# X_test = vectorizer.transform(df_test.tokens)\n",
    "\n",
    "Y_train = df_train.label.values\n",
    "Y_dev = df_dev.label.values\n",
    "Y_test = df_test.label.values\n",
    "# Y_dev_unseen = df_dev_unseen.label.values\n",
    "# Y_test_unseen = df_test_unseen.label.values"
   ]
  },
  {
   "cell_type": "code",
   "execution_count": 4,
   "id": "054c8af9-4b53-4050-803e-f80cdf2a452e",
   "metadata": {},
   "outputs": [],
   "source": [
    "clf_svc = LinearSVC(max_iter=1000000, C = 10,random_state =456)  # TODO: Hyperparms tuning\n",
    "clf_svc.fit(X_train, Y_train)\n",
    "Y_pred = clf_svc.predict(X_dev)"
   ]
  },
  {
   "cell_type": "code",
   "execution_count": 5,
   "id": "4418fa0b-b686-4e7a-b021-409599ee4fe5",
   "metadata": {},
   "outputs": [
    {
     "name": "stdout",
     "output_type": "stream",
     "text": [
      "Text classifier results using only n1 BoW\n"
     ]
    },
    {
     "data": {
      "text/html": [
       "<div>\n",
       "<style scoped>\n",
       "    .dataframe tbody tr th:only-of-type {\n",
       "        vertical-align: middle;\n",
       "    }\n",
       "\n",
       "    .dataframe tbody tr th {\n",
       "        vertical-align: top;\n",
       "    }\n",
       "\n",
       "    .dataframe thead th {\n",
       "        text-align: right;\n",
       "    }\n",
       "</style>\n",
       "<table border=\"1\" class=\"dataframe\">\n",
       "  <thead>\n",
       "    <tr style=\"text-align: right;\">\n",
       "      <th></th>\n",
       "      <th>precision</th>\n",
       "      <th>recall</th>\n",
       "      <th>F1</th>\n",
       "    </tr>\n",
       "  </thead>\n",
       "  <tbody>\n",
       "    <tr>\n",
       "      <th>0</th>\n",
       "      <td>0.541398</td>\n",
       "      <td>0.535797</td>\n",
       "      <td>0.520697</td>\n",
       "    </tr>\n",
       "  </tbody>\n",
       "</table>\n",
       "</div>"
      ],
      "text/plain": [
       "   precision    recall        F1\n",
       "0   0.541398  0.535797  0.520697"
      ]
     },
     "execution_count": 5,
     "metadata": {},
     "output_type": "execute_result"
    }
   ],
   "source": [
    "results = pd.DataFrame(\n",
    "    [list(precision_recall_fscore_support(Y_dev, Y_pred, average='macro')[:3])],\n",
    "    columns=['precision', 'recall', 'F1'])\n",
    "print(\"Text classifier results using only n1 BoW\")\n",
    "results"
   ]
  },
  {
   "cell_type": "code",
   "execution_count": 6,
   "id": "ec051474-c316-409d-901f-015534a0baeb",
   "metadata": {},
   "outputs": [],
   "source": [
    "Y_pred2 = clf_svc.predict(X_test)"
   ]
  },
  {
   "cell_type": "code",
   "execution_count": 7,
   "id": "8e5d07f9-2b60-44c6-b200-1345d721514d",
   "metadata": {},
   "outputs": [],
   "source": [
    "\n",
    "df_dev['baseline_svm_rbf_kernelC10'] = Y_pred\n",
    "df_test['baseline_svm_rbf_kernelC10'] = Y_pred2\n",
    "\n",
    "df_dev.to_csv(datafolder+'dev_with_features.csv', index=False)\n",
    "df_test.to_csv(datafolder+'test_with_features.csv', index=False)"
   ]
  },
  {
   "cell_type": "markdown",
   "id": "e409c87e-5133-486b-b8f6-d64d05a9b906",
   "metadata": {},
   "source": [
    "# Charachter n-grams:"
   ]
  },
  {
   "cell_type": "code",
   "execution_count": 11,
   "id": "5f859c98-9ef3-47bd-bed2-cda64c0c1003",
   "metadata": {},
   "outputs": [],
   "source": [
    "vectorizer2 = CountVectorizer(tokenizer=lambda x: list(x), analyzer='char', ngram_range=(1, 3)) # to build 1n-grams from the word ==> BoW\n",
    "\n",
    "X_train = vectorizer2.fit_transform(df_train.tokens)\n",
    "X_dev = vectorizer2.transform(df_dev.tokens) \n",
    "X_test = vectorizer2.transform(df_test.tokens)\n",
    "\n",
    "Y_train = df_train.label.values\n",
    "Y_dev = df_dev.label.values\n",
    "Y_test = df_test.label.values"
   ]
  },
  {
   "cell_type": "code",
   "execution_count": 12,
   "id": "0521443a-e886-4eb6-994e-64c8dd06cc45",
   "metadata": {},
   "outputs": [
    {
     "name": "stderr",
     "output_type": "stream",
     "text": [
      "C:\\Users\\Hisha\\AppData\\Local\\Programs\\Python\\Python310\\lib\\site-packages\\sklearn\\svm\\_base.py:1225: ConvergenceWarning: Liblinear failed to converge, increase the number of iterations.\n",
      "  warnings.warn(\n"
     ]
    }
   ],
   "source": [
    "clf_svc = LinearSVC(max_iter=1000000, C = 10,random_state =456)  # TODO: Hyperparms tuning\n",
    "clf_svc.fit(X_train, Y_train)\n",
    "Y_pred = clf_svc.predict(X_dev)"
   ]
  },
  {
   "cell_type": "code",
   "execution_count": 13,
   "id": "ce261f22-857c-4d91-9417-479af70086fd",
   "metadata": {},
   "outputs": [
    {
     "name": "stdout",
     "output_type": "stream",
     "text": [
      "Text classifier results using only n1 BoW\n"
     ]
    },
    {
     "data": {
      "text/html": [
       "<div>\n",
       "<style scoped>\n",
       "    .dataframe tbody tr th:only-of-type {\n",
       "        vertical-align: middle;\n",
       "    }\n",
       "\n",
       "    .dataframe tbody tr th {\n",
       "        vertical-align: top;\n",
       "    }\n",
       "\n",
       "    .dataframe thead th {\n",
       "        text-align: right;\n",
       "    }\n",
       "</style>\n",
       "<table border=\"1\" class=\"dataframe\">\n",
       "  <thead>\n",
       "    <tr style=\"text-align: right;\">\n",
       "      <th></th>\n",
       "      <th>precision</th>\n",
       "      <th>recall</th>\n",
       "      <th>F1</th>\n",
       "    </tr>\n",
       "  </thead>\n",
       "  <tbody>\n",
       "    <tr>\n",
       "      <th>0</th>\n",
       "      <td>0.502216</td>\n",
       "      <td>0.50196</td>\n",
       "      <td>0.488145</td>\n",
       "    </tr>\n",
       "  </tbody>\n",
       "</table>\n",
       "</div>"
      ],
      "text/plain": [
       "   precision   recall        F1\n",
       "0   0.502216  0.50196  0.488145"
      ]
     },
     "execution_count": 13,
     "metadata": {},
     "output_type": "execute_result"
    }
   ],
   "source": [
    "results = pd.DataFrame(\n",
    "    [list(precision_recall_fscore_support(Y_dev, Y_pred, average='macro')[:3])],\n",
    "    columns=['precision', 'recall', 'F1'])\n",
    "print(\"Text classifier results using only n1 BoW\")\n",
    "results"
   ]
  },
  {
   "cell_type": "code",
   "execution_count": 7,
   "id": "a46f1ef0-790f-46ef-8363-b3522671923c",
   "metadata": {},
   "outputs": [
    {
     "name": "stdout",
     "output_type": "stream",
     "text": [
      "Text classifier results using only n1 BoW\n"
     ]
    },
    {
     "data": {
      "text/html": [
       "<div>\n",
       "<style scoped>\n",
       "    .dataframe tbody tr th:only-of-type {\n",
       "        vertical-align: middle;\n",
       "    }\n",
       "\n",
       "    .dataframe tbody tr th {\n",
       "        vertical-align: top;\n",
       "    }\n",
       "\n",
       "    .dataframe thead th {\n",
       "        text-align: right;\n",
       "    }\n",
       "</style>\n",
       "<table border=\"1\" class=\"dataframe\">\n",
       "  <thead>\n",
       "    <tr style=\"text-align: right;\">\n",
       "      <th></th>\n",
       "      <th>precision</th>\n",
       "      <th>recall</th>\n",
       "      <th>F1</th>\n",
       "    </tr>\n",
       "  </thead>\n",
       "  <tbody>\n",
       "    <tr>\n",
       "      <th>0</th>\n",
       "      <td>0.520902</td>\n",
       "      <td>0.517627</td>\n",
       "      <td>0.499157</td>\n",
       "    </tr>\n",
       "  </tbody>\n",
       "</table>\n",
       "</div>"
      ],
      "text/plain": [
       "   precision    recall        F1\n",
       "0   0.520902  0.517627  0.499157"
      ]
     },
     "execution_count": 7,
     "metadata": {},
     "output_type": "execute_result"
    }
   ],
   "source": [
    "results = pd.DataFrame(\n",
    "    [list(precision_recall_fscore_support(Y_dev, Y_pred, average='macro')[:3])],\n",
    "    columns=['precision', 'recall', 'F1'])\n",
    "print(\"Text classifier results using only n1 BoW\")\n",
    "results"
   ]
  },
  {
   "cell_type": "code",
   "execution_count": 8,
   "id": "ccb92db3-631e-4deb-b91c-dc06c98c24ae",
   "metadata": {},
   "outputs": [],
   "source": [
    "Y_pred2 = clf_svc.predict(X_test)"
   ]
  },
  {
   "cell_type": "code",
   "execution_count": 9,
   "id": "5b8f2a74-237d-4a91-8b3f-0a116b736c5a",
   "metadata": {},
   "outputs": [],
   "source": [
    "\n",
    "df_dev['baseline_svm_char_kernelC10'] = Y_pred\n",
    "df_test['baseline_svm_char_kernelC10'] = Y_pred2\n",
    "\n",
    "df_dev.to_csv(datafolder+'dev_with_features.csv', index=False)\n",
    "df_test.to_csv(datafolder+'test_with_features.csv', index=False)"
   ]
  },
  {
   "cell_type": "code",
   "execution_count": null,
   "id": "515bca81-2fa5-484a-8d27-62f04a8ef0d6",
   "metadata": {},
   "outputs": [],
   "source": []
  },
  {
   "cell_type": "code",
   "execution_count": null,
   "id": "bd74dc08-1400-44dd-a705-6ceb07623b94",
   "metadata": {},
   "outputs": [],
   "source": []
  }
 ],
 "metadata": {
  "kernelspec": {
   "display_name": "Python 3 (ipykernel)",
   "language": "python",
   "name": "python3"
  },
  "language_info": {
   "codemirror_mode": {
    "name": "ipython",
    "version": 3
   },
   "file_extension": ".py",
   "mimetype": "text/x-python",
   "name": "python",
   "nbconvert_exporter": "python",
   "pygments_lexer": "ipython3",
   "version": "3.10.7"
  }
 },
 "nbformat": 4,
 "nbformat_minor": 5
}
