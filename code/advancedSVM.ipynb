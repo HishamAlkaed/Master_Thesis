{
 "cells": [
  {
   "cell_type": "code",
   "execution_count": 10,
   "id": "a353efd8-478c-4b20-b795-9c412e09768b",
   "metadata": {},
   "outputs": [],
   "source": [
    "import numpy as np\n",
    "import pandas as pd\n",
    "from sklearn.feature_extraction.text import CountVectorizer \n",
    "from sklearn.svm import LinearSVC\n",
    "from sklearn.metrics import precision_recall_fscore_support\n",
    "from scipy.sparse import hstack\n",
    "import spacy\n",
    "from sklearn.metrics import precision_recall_fscore_support, accuracy_score, roc_curve, auc"
   ]
  },
  {
   "cell_type": "code",
   "execution_count": 4,
   "id": "1321be0a-1f54-4df0-a445-24072099e5e8",
   "metadata": {},
   "outputs": [],
   "source": [
    "# importing the data\n",
    "datafolder = '../../data/'\n",
    "train = datafolder+'train_with_features.csv'\n",
    "test = datafolder+'test_with_features.csv'\n",
    "dev = datafolder+'dev_with_features.csv'\n",
    "df_train = pd.read_csv(train, keep_default_na=False)\n",
    "df_dev = pd.read_csv(dev, keep_default_na=False)\n",
    "df_test = pd.read_csv(test, keep_default_na=False)"
   ]
  },
  {
   "cell_type": "markdown",
   "id": "48c03b6f-18c9-450a-bcac-ee14c8b061e8",
   "metadata": {},
   "source": [
    "# advanced SVM \n",
    "#### - pos_fw_emo = representation of the text through POS tags, function words, and emotion words (from this representation n-grams (n=1-3) are built, see vectorize below)\n",
    "#### - count = number of emotion words in a text\n",
    "#### - emotion_associations = emotion associations from the NRC emotion lexicon\n",
    "#### - Sentiment score = using siebert/sentiment-roberta-large-english from huggingface we retrieve the sentiment score of the whole sentence\n",
    "#### - Intent = using mrm8488/t5-base-finetuned-e2m-intent we retrieve the intent of the sentence "
   ]
  },
  {
   "cell_type": "code",
   "execution_count": null,
   "id": "e0021cda-85e6-4254-a72e-0e76be46aa99",
   "metadata": {},
   "outputs": [],
   "source": [
    "def metrics(gold_label, predicted):\n",
    "    accuracy = accuracy_score(gold_label, predicted)\n",
    "    fpr, tpr, thresholds = roc_curve(gold_label, predicted)\n",
    "    AUROC = auc(fpr, tpr)\n",
    "    p, r, f1 = precision_recall_fscore_support(gold_label, predicted, average='macro')[:3]\n",
    "    return pd.DataFrame({'F1-score': f1, \n",
    "                        'Precision': p, \n",
    "                        'Recall': r, \n",
    "                        'Accuracy': accuracy, \n",
    "                        'AUROC':AUROC}, index = [0])"
   ]
  },
  {
   "cell_type": "code",
   "execution_count": 23,
   "id": "05f4f438-5528-4226-83e6-002a1cf26443",
   "metadata": {},
   "outputs": [],
   "source": [
    "vectorizer1 = CountVectorizer(tokenizer=lambda x: x.split(), analyzer='word', ngram_range=(1, 3)) # to build n-grams (n=1-3) from the pos_fw_emo representation\n",
    "vectorizer2 = CountVectorizer(tokenizer=lambda x: x.split(), analyzer='word', ngram_range=(1, 1)) # unigrams of emotion associations\n",
    "vectorizer3 = CountVectorizer(tokenizer=lambda x: x.split(), analyzer='word', ngram_range=(1, 1)) # unigrams of tokens (BoW)\n",
    "vectorizer4 = CountVectorizer(tokenizer=lambda x: x.split(), analyzer='word', ngram_range=(1, 4)) # unigrams of intent (BoW)\n",
    "\n",
    "\n",
    "# combine the features\n",
    "X_train = hstack((vectorizer1.fit_transform(df_train.pos_fw_emo), vectorizer2.fit_transform(df_train.emotion_associations), df_train[['count']].values, \\\n",
    "                df_train[['sentiment_score']].values, vectorizer3.fit_transform(df_train.tokens), vectorizer4.fit_transform(df_train.intent)), format='csr') \n",
    "\n",
    "X_dev = hstack((vectorizer1.transform(df_dev.pos_fw_emo), vectorizer2.transform(df_dev.emotion_associations), df_dev[['count']].values, \\\n",
    "                df_dev[['sentiment_score']].values, vectorizer3.transform(df_dev.tokens), vectorizer4.transform(df_dev.intent) ), format='csr') \n",
    "\n",
    "X_test = hstack((vectorizer1.transform(df_test.pos_fw_emo), vectorizer2.transform(df_test.emotion_associations), df_test[['count']].values, \\\n",
    "                df_test[['sentiment_score']].values, vectorizer3.transform(df_test.tokens), vectorizer4.transform(df_test.intent) ), format='csr') \n",
    "\n",
    "\n",
    "# X_train = hstack((vectorizer1.fit_transform(df_train.pos_fw_emo), vectorizer2.fit_transform(df_train.emotion_associations), df_train[['count']].values, \\\n",
    "#                 ), format='csr') \n",
    "\n",
    "# X_dev = hstack((vectorizer1.transform(df_dev.pos_fw_emo), vectorizer2.transform(df_dev.emotion_associations), df_dev[['count']].values, \\\n",
    "#                 ), format='csr') \n",
    "\n",
    "# X_test = hstack((vectorizer1.transform(df_test.pos_fw_emo), vectorizer2.transform(df_test.emotion_associations), df_test[['count']].values, \\\n",
    "#                  ), format='csr') \n",
    "\n",
    "Y_train = df_train.label.values\n",
    "Y_dev = df_dev.label.values\n",
    "Y_test = df_test.label.values"
   ]
  },
  {
   "cell_type": "code",
   "execution_count": 24,
   "id": "51ac4329-574c-4fa9-965d-902786d2015c",
   "metadata": {},
   "outputs": [],
   "source": [
    "clf_svc = LinearSVC(max_iter=1000000, C = 10,random_state =456)\n",
    "clf_svc.fit(X_train, Y_train)\n",
    "Y_pred = clf_svc.predict(X_dev)"
   ]
  },
  {
   "cell_type": "markdown",
   "id": "a1367cc0-352d-4620-807d-3f6fd6994822",
   "metadata": {},
   "source": [
    "#### Performance including all with BoW"
   ]
  },
  {
   "cell_type": "code",
   "execution_count": 25,
   "id": "98c3c6af-e5ce-4393-8122-0397864e7764",
   "metadata": {},
   "outputs": [
    {
     "data": {
      "text/html": [
       "<div>\n",
       "<style scoped>\n",
       "    .dataframe tbody tr th:only-of-type {\n",
       "        vertical-align: middle;\n",
       "    }\n",
       "\n",
       "    .dataframe tbody tr th {\n",
       "        vertical-align: top;\n",
       "    }\n",
       "\n",
       "    .dataframe thead th {\n",
       "        text-align: right;\n",
       "    }\n",
       "</style>\n",
       "<table border=\"1\" class=\"dataframe\">\n",
       "  <thead>\n",
       "    <tr style=\"text-align: right;\">\n",
       "      <th></th>\n",
       "      <th>F1-score</th>\n",
       "      <th>Precision</th>\n",
       "      <th>Recall</th>\n",
       "      <th>Accuracy</th>\n",
       "      <th>AUROC</th>\n",
       "    </tr>\n",
       "  </thead>\n",
       "  <tbody>\n",
       "    <tr>\n",
       "      <th>0</th>\n",
       "      <td>0.50764</td>\n",
       "      <td>0.542501</td>\n",
       "      <td>0.533197</td>\n",
       "      <td>0.536</td>\n",
       "      <td>0.533197</td>\n",
       "    </tr>\n",
       "  </tbody>\n",
       "</table>\n",
       "</div>"
      ],
      "text/plain": [
       "   F1-score  Precision    Recall  Accuracy     AUROC\n",
       "0   0.50764   0.542501  0.533197     0.536  0.533197"
      ]
     },
     "execution_count": 25,
     "metadata": {},
     "output_type": "execute_result"
    }
   ],
   "source": [
    "metrics(Y_dev, Y_pred)"
   ]
  },
  {
   "cell_type": "markdown",
   "id": "5ac429e8-1d7b-4a49-8144-751cf9fe4eaa",
   "metadata": {},
   "source": [
    "#### Perfromance only stylo&emotion-based"
   ]
  },
  {
   "cell_type": "code",
   "execution_count": 22,
   "id": "a6488da7-ec8f-4b81-8c6c-f23fb33cb835",
   "metadata": {},
   "outputs": [
    {
     "data": {
      "text/html": [
       "<div>\n",
       "<style scoped>\n",
       "    .dataframe tbody tr th:only-of-type {\n",
       "        vertical-align: middle;\n",
       "    }\n",
       "\n",
       "    .dataframe tbody tr th {\n",
       "        vertical-align: top;\n",
       "    }\n",
       "\n",
       "    .dataframe thead th {\n",
       "        text-align: right;\n",
       "    }\n",
       "</style>\n",
       "<table border=\"1\" class=\"dataframe\">\n",
       "  <thead>\n",
       "    <tr style=\"text-align: right;\">\n",
       "      <th></th>\n",
       "      <th>F1-score</th>\n",
       "      <th>Precision</th>\n",
       "      <th>Recall</th>\n",
       "      <th>Accuracy</th>\n",
       "      <th>AUROC</th>\n",
       "    </tr>\n",
       "  </thead>\n",
       "  <tbody>\n",
       "    <tr>\n",
       "      <th>0</th>\n",
       "      <td>0.467233</td>\n",
       "      <td>0.496208</td>\n",
       "      <td>0.497096</td>\n",
       "      <td>0.5</td>\n",
       "      <td>0.497096</td>\n",
       "    </tr>\n",
       "  </tbody>\n",
       "</table>\n",
       "</div>"
      ],
      "text/plain": [
       "   F1-score  Precision    Recall  Accuracy     AUROC\n",
       "0  0.467233   0.496208  0.497096       0.5  0.497096"
      ]
     },
     "execution_count": 22,
     "metadata": {},
     "output_type": "execute_result"
    }
   ],
   "source": [
    "metrics(Y_dev, Y_pred)"
   ]
  },
  {
   "cell_type": "markdown",
   "id": "803b8f0a-b4b7-42b5-b0e6-b4923ecc7552",
   "metadata": {},
   "source": [
    "#### this performance is without BoW including stylo&emotion-based and sentiment-score and intent"
   ]
  },
  {
   "cell_type": "code",
   "execution_count": 19,
   "id": "079f6f2f-f667-46b3-8515-be34ef56817b",
   "metadata": {},
   "outputs": [
    {
     "data": {
      "text/html": [
       "<div>\n",
       "<style scoped>\n",
       "    .dataframe tbody tr th:only-of-type {\n",
       "        vertical-align: middle;\n",
       "    }\n",
       "\n",
       "    .dataframe tbody tr th {\n",
       "        vertical-align: top;\n",
       "    }\n",
       "\n",
       "    .dataframe thead th {\n",
       "        text-align: right;\n",
       "    }\n",
       "</style>\n",
       "<table border=\"1\" class=\"dataframe\">\n",
       "  <thead>\n",
       "    <tr style=\"text-align: right;\">\n",
       "      <th></th>\n",
       "      <th>F1-score</th>\n",
       "      <th>Precision</th>\n",
       "      <th>Recall</th>\n",
       "      <th>Accuracy</th>\n",
       "      <th>AUROC</th>\n",
       "    </tr>\n",
       "  </thead>\n",
       "  <tbody>\n",
       "    <tr>\n",
       "      <th>0</th>\n",
       "      <td>0.488543</td>\n",
       "      <td>0.522326</td>\n",
       "      <td>0.517098</td>\n",
       "      <td>0.52</td>\n",
       "      <td>0.517098</td>\n",
       "    </tr>\n",
       "  </tbody>\n",
       "</table>\n",
       "</div>"
      ],
      "text/plain": [
       "   F1-score  Precision    Recall  Accuracy     AUROC\n",
       "0  0.488543   0.522326  0.517098      0.52  0.517098"
      ]
     },
     "execution_count": 19,
     "metadata": {},
     "output_type": "execute_result"
    }
   ],
   "source": [
    "metrics(Y_dev, Y_pred)"
   ]
  },
  {
   "cell_type": "code",
   "execution_count": null,
   "id": "5e0528b5-c855-4679-9042-92412fb9e663",
   "metadata": {},
   "outputs": [],
   "source": []
  },
  {
   "cell_type": "code",
   "execution_count": null,
   "id": "edfc3285-24f0-4edb-86bc-a9dfbbfd2d32",
   "metadata": {},
   "outputs": [],
   "source": []
  },
  {
   "cell_type": "code",
   "execution_count": 7,
   "id": "0c9eb3d8-7ede-4986-8269-e431584bca8f",
   "metadata": {},
   "outputs": [
    {
     "data": {
      "text/html": [
       "<div>\n",
       "<style scoped>\n",
       "    .dataframe tbody tr th:only-of-type {\n",
       "        vertical-align: middle;\n",
       "    }\n",
       "\n",
       "    .dataframe tbody tr th {\n",
       "        vertical-align: top;\n",
       "    }\n",
       "\n",
       "    .dataframe thead th {\n",
       "        text-align: right;\n",
       "    }\n",
       "</style>\n",
       "<table border=\"1\" class=\"dataframe\">\n",
       "  <thead>\n",
       "    <tr style=\"text-align: right;\">\n",
       "      <th></th>\n",
       "      <th>precision</th>\n",
       "      <th>recall</th>\n",
       "      <th>F1</th>\n",
       "    </tr>\n",
       "  </thead>\n",
       "  <tbody>\n",
       "    <tr>\n",
       "      <th>0</th>\n",
       "      <td>0.522326</td>\n",
       "      <td>0.517098</td>\n",
       "      <td>0.488543</td>\n",
       "    </tr>\n",
       "  </tbody>\n",
       "</table>\n",
       "</div>"
      ],
      "text/plain": [
       "   precision    recall        F1\n",
       "0   0.522326  0.517098  0.488543"
      ]
     },
     "execution_count": 7,
     "metadata": {},
     "output_type": "execute_result"
    }
   ],
   "source": [
    "results = pd.DataFrame(\n",
    "    [list(precision_recall_fscore_support(Y_dev, Y_pred, average='macro')[:3])],\n",
    "    columns=['precision', 'recall', 'F1'])\n",
    "results"
   ]
  },
  {
   "cell_type": "code",
   "execution_count": 5,
   "id": "01ea1467-308c-46fc-8f69-5bdf15b4989c",
   "metadata": {},
   "outputs": [
    {
     "data": {
      "text/html": [
       "<div>\n",
       "<style scoped>\n",
       "    .dataframe tbody tr th:only-of-type {\n",
       "        vertical-align: middle;\n",
       "    }\n",
       "\n",
       "    .dataframe tbody tr th {\n",
       "        vertical-align: top;\n",
       "    }\n",
       "\n",
       "    .dataframe thead th {\n",
       "        text-align: right;\n",
       "    }\n",
       "</style>\n",
       "<table border=\"1\" class=\"dataframe\">\n",
       "  <thead>\n",
       "    <tr style=\"text-align: right;\">\n",
       "      <th></th>\n",
       "      <th>precision</th>\n",
       "      <th>recall</th>\n",
       "      <th>F1</th>\n",
       "    </tr>\n",
       "  </thead>\n",
       "  <tbody>\n",
       "    <tr>\n",
       "      <th>0</th>\n",
       "      <td>0.542501</td>\n",
       "      <td>0.533197</td>\n",
       "      <td>0.50764</td>\n",
       "    </tr>\n",
       "  </tbody>\n",
       "</table>\n",
       "</div>"
      ],
      "text/plain": [
       "   precision    recall       F1\n",
       "0   0.542501  0.533197  0.50764"
      ]
     },
     "execution_count": 5,
     "metadata": {},
     "output_type": "execute_result"
    }
   ],
   "source": [
    "results = pd.DataFrame(\n",
    "    [list(precision_recall_fscore_support(Y_dev, Y_pred, average='macro')[:3])],\n",
    "    columns=['precision', 'recall', 'F1'])\n",
    "results"
   ]
  },
  {
   "cell_type": "code",
   "execution_count": 6,
   "id": "2f645e3a-461c-4c3e-b58b-329f7666dc8f",
   "metadata": {},
   "outputs": [],
   "source": [
    "# The prediction including all features has been used (also including BoW)\n",
    "Y_pred2 = clf_svc.predict(X_test)\n",
    "\n",
    "df_dev['Advanced_svm_linear_100K_C10'] = Y_pred\n",
    "df_test['Advanced_svm_linear_100K_C10'] = Y_pred2\n",
    "\n",
    "df_dev.to_csv(datafolder+'dev_with_features.csv', index=False)\n",
    "df_test.to_csv(datafolder+'test_with_features.csv', index=False)"
   ]
  },
  {
   "cell_type": "code",
   "execution_count": null,
   "id": "93d403d0-b4dc-46eb-9e79-c368c7c901cb",
   "metadata": {},
   "outputs": [],
   "source": []
  }
 ],
 "metadata": {
  "kernelspec": {
   "display_name": "Python 3 (ipykernel)",
   "language": "python",
   "name": "python3"
  },
  "language_info": {
   "codemirror_mode": {
    "name": "ipython",
    "version": 3
   },
   "file_extension": ".py",
   "mimetype": "text/x-python",
   "name": "python",
   "nbconvert_exporter": "python",
   "pygments_lexer": "ipython3",
   "version": "3.10.6"
  }
 },
 "nbformat": 4,
 "nbformat_minor": 5
}
