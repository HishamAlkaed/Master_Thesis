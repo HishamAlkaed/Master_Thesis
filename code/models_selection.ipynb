{
 "cells": [
  {
   "cell_type": "code",
   "execution_count": 1,
   "id": "47e18cd6-eb25-4cd2-bc72-6af9861a45a1",
   "metadata": {},
   "outputs": [],
   "source": [
    "import pandas as pd\n",
    "from sklearn.metrics import precision_recall_fscore_support\n",
    "from sklearn.linear_model import LogisticRegression"
   ]
  },
  {
   "cell_type": "code",
   "execution_count": 25,
   "id": "5ef81303-0e30-4112-adc9-dcd81d27353a",
   "metadata": {},
   "outputs": [],
   "source": [
    "# importing the data\n",
    "datafolder = '../../data/'\n",
    "train = datafolder+'train_with_features.csv'\n",
    "test = datafolder+'test_with_features.csv'\n",
    "test_unseen = datafolder+'test_unseen_with_features.csv'\n",
    "dev = datafolder+'dev_with_features.csv'\n",
    "dev_unseen = datafolder+'dev_unseen_with_features.csv'\n",
    "df_train = pd.read_csv(train, skip_blank_lines=False)\n",
    "df_dev = pd.read_csv(dev, skip_blank_lines=False)\n",
    "df_dev_unseen = pd.read_csv(dev_unseen, skip_blank_lines=False)\n",
    "df_test = pd.read_csv(test, skip_blank_lines=False)\n",
    "df_test_unseen = pd.read_csv(test_unseen, skip_blank_lines=False)"
   ]
  },
  {
   "cell_type": "code",
   "execution_count": 26,
   "id": "6ca83420-81db-4648-aecc-f7062916aada",
   "metadata": {},
   "outputs": [
    {
     "data": {
      "text/plain": [
       "Index(['id', 'img', 'label', 'text', 'tokens', 'lemmas', 'upos', 'pos_fw_emo',\n",
       "       'count', 'emotion_associations', 'sentiment_score', 'intent',\n",
       "       'ResNet_svm_rbf_kernel', 'ResNet_svm_rbf_kernelC10',\n",
       "       'ResNet_svm_linear_kernel', 'svm_BoW_baseline_linear_C10',\n",
       "       'Advanced_svm_linear_100K_C10', 'ResNet_svm_linear_kernelC10',\n",
       "       'hatebert_direct', 'hatebert_vectors', 'bert_base_cased_finetuned',\n",
       "       'ResNet_nn', 'baseline_svm_char_kernelC10'],\n",
       "      dtype='object')"
      ]
     },
     "execution_count": 26,
     "metadata": {},
     "output_type": "execute_result"
    }
   ],
   "source": [
    "df_test.columns"
   ]
  },
  {
   "cell_type": "code",
   "execution_count": 49,
   "id": "2b75f219-f8a1-4515-a597-d1d092e42220",
   "metadata": {},
   "outputs": [
    {
     "data": {
      "text/plain": [
       "count     1000\n",
       "unique       2\n",
       "top       True\n",
       "freq       710\n",
       "dtype: object"
      ]
     },
     "execution_count": 49,
     "metadata": {},
     "output_type": "execute_result"
    }
   ],
   "source": [
    "(df_test.ResNet_svm_linear_kernel == df_test.ResNet_svm_rbf_kernel).describe()"
   ]
  },
  {
   "cell_type": "code",
   "execution_count": null,
   "id": "ce939ca3-efe1-4f4f-923e-238b49a6408d",
   "metadata": {},
   "outputs": [],
   "source": [
    "combi = df_test[models].apply(lambda row: any(row), axis=1)\n",
    "print(f1_score(df_test['label'], combi, average='macro'))"
   ]
  },
  {
   "cell_type": "code",
   "execution_count": null,
   "id": "873ed557-b9de-4a56-a29d-4c8259b07fc1",
   "metadata": {},
   "outputs": [],
   "source": []
  },
  {
   "cell_type": "code",
   "execution_count": null,
   "id": "3e94a873-73fa-471b-a5d4-83b9548b1953",
   "metadata": {},
   "outputs": [],
   "source": []
  },
  {
   "cell_type": "code",
   "execution_count": null,
   "id": "05a04a02-8866-4d97-ad56-18104b034e96",
   "metadata": {},
   "outputs": [],
   "source": []
  },
  {
   "cell_type": "code",
   "execution_count": null,
   "id": "6bd00c2b-43d7-4342-bf32-cfe4fc87b7a1",
   "metadata": {},
   "outputs": [],
   "source": []
  },
  {
   "cell_type": "code",
   "execution_count": null,
   "id": "95e84dc5-3e52-4faa-b468-c092cc2fb055",
   "metadata": {},
   "outputs": [],
   "source": []
  },
  {
   "cell_type": "code",
   "execution_count": 55,
   "id": "cb79ef3b-1054-45ec-b8f9-59899aba17b8",
   "metadata": {},
   "outputs": [
    {
     "data": {
      "text/html": [
       "<div>\n",
       "<style scoped>\n",
       "    .dataframe tbody tr th:only-of-type {\n",
       "        vertical-align: middle;\n",
       "    }\n",
       "\n",
       "    .dataframe tbody tr th {\n",
       "        vertical-align: top;\n",
       "    }\n",
       "\n",
       "    .dataframe thead th {\n",
       "        text-align: right;\n",
       "    }\n",
       "</style>\n",
       "<table border=\"1\" class=\"dataframe\">\n",
       "  <thead>\n",
       "    <tr style=\"text-align: right;\">\n",
       "      <th></th>\n",
       "      <th>precision</th>\n",
       "      <th>recall</th>\n",
       "      <th>F1</th>\n",
       "    </tr>\n",
       "  </thead>\n",
       "  <tbody>\n",
       "    <tr>\n",
       "      <th>0</th>\n",
       "      <td>0.541398</td>\n",
       "      <td>0.535797</td>\n",
       "      <td>0.520697</td>\n",
       "    </tr>\n",
       "  </tbody>\n",
       "</table>\n",
       "</div>"
      ],
      "text/plain": [
       "   precision    recall        F1\n",
       "0   0.541398  0.535797  0.520697"
      ]
     },
     "execution_count": 55,
     "metadata": {},
     "output_type": "execute_result"
    }
   ],
   "source": [
    "# vision_models = ['ResNet_svm_rbf_kernel', 'ResNet_svm_rbf_kernelC10',\n",
    "#        'ResNet_svm_linear_kernel', 'ResNet_svm_linear_kernelC10', 'ResNet_nn']\n",
    "models = ['svm_BoW_baseline_linear_C10', 'ResNet_svm_linear_kernelC10']\n",
    "meta_model = LogisticRegression()\n",
    "meta_model.fit(df_test[models], df_test.label)\n",
    "pred = meta_model.predict(df_dev[models])\n",
    "results = pd.DataFrame(\n",
    "    [list(precision_recall_fscore_support(df_dev.label, pred, average='macro')[:3])],\n",
    "    columns=['precision', 'recall', 'F1'])\n",
    "results\n"
   ]
  },
  {
   "cell_type": "code",
   "execution_count": 56,
   "id": "bd48d2fe-ea17-4a42-849b-3b441264ff7b",
   "metadata": {},
   "outputs": [
    {
     "data": {
      "text/html": [
       "<div>\n",
       "<style scoped>\n",
       "    .dataframe tbody tr th:only-of-type {\n",
       "        vertical-align: middle;\n",
       "    }\n",
       "\n",
       "    .dataframe tbody tr th {\n",
       "        vertical-align: top;\n",
       "    }\n",
       "\n",
       "    .dataframe thead th {\n",
       "        text-align: right;\n",
       "    }\n",
       "</style>\n",
       "<table border=\"1\" class=\"dataframe\">\n",
       "  <thead>\n",
       "    <tr style=\"text-align: right;\">\n",
       "      <th></th>\n",
       "      <th>precision</th>\n",
       "      <th>recall</th>\n",
       "      <th>F1</th>\n",
       "    </tr>\n",
       "  </thead>\n",
       "  <tbody>\n",
       "    <tr>\n",
       "      <th>0</th>\n",
       "      <td>0.542501</td>\n",
       "      <td>0.533197</td>\n",
       "      <td>0.50764</td>\n",
       "    </tr>\n",
       "  </tbody>\n",
       "</table>\n",
       "</div>"
      ],
      "text/plain": [
       "   precision    recall       F1\n",
       "0   0.542501  0.533197  0.50764"
      ]
     },
     "execution_count": 56,
     "metadata": {},
     "output_type": "execute_result"
    }
   ],
   "source": [
    "models = ['Advanced_svm_linear_100K_C10', 'ResNet_svm_linear_kernelC10']\n",
    "meta_model = LogisticRegression()\n",
    "meta_model.fit(df_test[models], df_test.label)\n",
    "pred = meta_model.predict(df_dev[models])\n",
    "results = pd.DataFrame(\n",
    "    [list(precision_recall_fscore_support(df_dev.label, pred, average='macro')[:3])],\n",
    "    columns=['precision', 'recall', 'F1'])\n",
    "results\n"
   ]
  },
  {
   "cell_type": "code",
   "execution_count": 54,
   "id": "231b24ec-f077-437b-a682-b2edba12b292",
   "metadata": {},
   "outputs": [
    {
     "data": {
      "text/html": [
       "<div>\n",
       "<style scoped>\n",
       "    .dataframe tbody tr th:only-of-type {\n",
       "        vertical-align: middle;\n",
       "    }\n",
       "\n",
       "    .dataframe tbody tr th {\n",
       "        vertical-align: top;\n",
       "    }\n",
       "\n",
       "    .dataframe thead th {\n",
       "        text-align: right;\n",
       "    }\n",
       "</style>\n",
       "<table border=\"1\" class=\"dataframe\">\n",
       "  <thead>\n",
       "    <tr style=\"text-align: right;\">\n",
       "      <th></th>\n",
       "      <th>precision</th>\n",
       "      <th>recall</th>\n",
       "      <th>F1</th>\n",
       "    </tr>\n",
       "  </thead>\n",
       "  <tbody>\n",
       "    <tr>\n",
       "      <th>0</th>\n",
       "      <td>0.579144</td>\n",
       "      <td>0.552528</td>\n",
       "      <td>0.513363</td>\n",
       "    </tr>\n",
       "  </tbody>\n",
       "</table>\n",
       "</div>"
      ],
      "text/plain": [
       "   precision    recall        F1\n",
       "0   0.579144  0.552528  0.513363"
      ]
     },
     "execution_count": 54,
     "metadata": {},
     "output_type": "execute_result"
    }
   ],
   "source": [
    "models = ['bert_base_cased_finetuned', 'ResNet_svm_linear_kernelC10']\n",
    "meta_model = LogisticRegression()\n",
    "meta_model.fit(df_test[models], df_test.label)\n",
    "pred = meta_model.predict(df_dev[models])\n",
    "results = pd.DataFrame(\n",
    "    [list(precision_recall_fscore_support(df_dev.label, pred, average='macro')[:3])],\n",
    "    columns=['precision', 'recall', 'F1'])\n",
    "results"
   ]
  },
  {
   "cell_type": "code",
   "execution_count": 57,
   "id": "47a9fee2-ef9b-40bf-a4db-a3e8da2a9c31",
   "metadata": {},
   "outputs": [
    {
     "data": {
      "text/html": [
       "<div>\n",
       "<style scoped>\n",
       "    .dataframe tbody tr th:only-of-type {\n",
       "        vertical-align: middle;\n",
       "    }\n",
       "\n",
       "    .dataframe tbody tr th {\n",
       "        vertical-align: top;\n",
       "    }\n",
       "\n",
       "    .dataframe thead th {\n",
       "        text-align: right;\n",
       "    }\n",
       "</style>\n",
       "<table border=\"1\" class=\"dataframe\">\n",
       "  <thead>\n",
       "    <tr style=\"text-align: right;\">\n",
       "      <th></th>\n",
       "      <th>precision</th>\n",
       "      <th>recall</th>\n",
       "      <th>F1</th>\n",
       "    </tr>\n",
       "  </thead>\n",
       "  <tbody>\n",
       "    <tr>\n",
       "      <th>0</th>\n",
       "      <td>0.520902</td>\n",
       "      <td>0.517627</td>\n",
       "      <td>0.499157</td>\n",
       "    </tr>\n",
       "  </tbody>\n",
       "</table>\n",
       "</div>"
      ],
      "text/plain": [
       "   precision    recall        F1\n",
       "0   0.520902  0.517627  0.499157"
      ]
     },
     "execution_count": 57,
     "metadata": {},
     "output_type": "execute_result"
    }
   ],
   "source": [
    "models = ['baseline_svm_char_kernelC10', 'ResNet_svm_linear_kernelC10']\n",
    "meta_model = LogisticRegression()\n",
    "meta_model.fit(df_test[models], df_test.label)\n",
    "pred = meta_model.predict(df_dev[models])\n",
    "results = pd.DataFrame(\n",
    "    [list(precision_recall_fscore_support(df_dev.label, pred, average='macro')[:3])],\n",
    "    columns=['precision', 'recall', 'F1'])\n",
    "results"
   ]
  },
  {
   "cell_type": "code",
   "execution_count": null,
   "id": "6bf8caa6-4c60-4d5a-865b-d6f20df807d2",
   "metadata": {},
   "outputs": [],
   "source": []
  }
 ],
 "metadata": {
  "kernelspec": {
   "display_name": "Python 3 (ipykernel)",
   "language": "python",
   "name": "python3"
  },
  "language_info": {
   "codemirror_mode": {
    "name": "ipython",
    "version": 3
   },
   "file_extension": ".py",
   "mimetype": "text/x-python",
   "name": "python",
   "nbconvert_exporter": "python",
   "pygments_lexer": "ipython3",
   "version": "3.10.6"
  }
 },
 "nbformat": 4,
 "nbformat_minor": 5
}
