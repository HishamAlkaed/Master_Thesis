{
 "cells": [
  {
   "cell_type": "code",
   "execution_count": 1,
   "id": "a1291cc2-cf1e-4071-862c-885662867139",
   "metadata": {},
   "outputs": [],
   "source": [
    "import pandas as pd\n",
    "from sklearn.metrics import precision_recall_fscore_support\n"
   ]
  },
  {
   "cell_type": "code",
   "execution_count": 17,
   "id": "7f7781e9-f66b-4100-b6aa-f5fe12515903",
   "metadata": {},
   "outputs": [],
   "source": [
    "# importing the data\n",
    "datafolder = '../../data/'\n",
    "train = datafolder+'train_with_features.csv'\n",
    "test = datafolder+'test_with_features.csv'\n",
    "dev = datafolder+'dev_with_features.csv'\n",
    "df_train = pd.read_csv(train, skip_blank_lines=False)\n",
    "df_dev = pd.read_csv(dev, skip_blank_lines=False)\n",
    "df_test = pd.read_csv(test, skip_blank_lines=False)"
   ]
  },
  {
   "cell_type": "code",
   "execution_count": 18,
   "id": "8f67bee8-6e7b-45b1-9ab6-ad72393dcca9",
   "metadata": {},
   "outputs": [
    {
     "data": {
      "text/plain": [
       "Index(['id', 'img', 'label', 'text', 'tokens', 'lemmas', 'upos', 'pos_fw_emo',\n",
       "       'count', 'emotion_associations', 'sentiment_score', 'intent',\n",
       "       'ResNet_svm_rbf_kernel', 'ResNet_svm_rbf_kernelC10',\n",
       "       'ResNet_svm_linear_kernel', 'baseline_svm_rbf_kernelC10',\n",
       "       'Advanced_svm_100K_C10', 'Advanced_svm_linear_100K_C10',\n",
       "       'ResNet_svm_linear_kernelC10', 'hatebert_direct', 'hatebert_vectors',\n",
       "       'bert_base_cased_finetuned'],\n",
       "      dtype='object')"
      ]
     },
     "execution_count": 18,
     "metadata": {},
     "output_type": "execute_result"
    }
   ],
   "source": [
    "df_dev.columns"
   ]
  },
  {
   "cell_type": "code",
   "execution_count": 19,
   "id": "eb460869-445d-435a-abaf-1e38e44d3afe",
   "metadata": {},
   "outputs": [],
   "source": [
    "models = [ 'ResNet_svm_rbf_kernel', 'ResNet_svm_rbf_kernelC10', 'ResNet_svm_linear_kernel', 'ResNet_svm_linear_kernelC10', \n",
    "           'baseline_svm_rbf_kernelC10',\n",
    "           'Advanced_svm_100K_C10', 'Advanced_svm_linear_100K_C10',\n",
    "           'hatebert_direct', 'hatebert_vectors', 'bert_base_cased_finetuned']"
   ]
  },
  {
   "cell_type": "code",
   "execution_count": 21,
   "id": "9d26793a-b974-4154-b935-90f70318d2a7",
   "metadata": {},
   "outputs": [
    {
     "name": "stdout",
     "output_type": "stream",
     "text": [
      "ResNet_svm_rbf_kernel \n",
      "\n",
      "   precision    recall        F1\n",
      "0   0.518329  0.502408  0.366971\n",
      "ResNet_svm_rbf_kernelC10 \n",
      "\n",
      "   precision    recall        F1\n",
      "0   0.503555  0.501872  0.437037\n",
      "ResNet_svm_linear_kernel \n",
      "\n",
      "   precision    recall        F1\n",
      "0   0.506658  0.505529  0.484847\n",
      "ResNet_svm_linear_kernelC10 \n",
      "\n",
      "   precision    recall        F1\n",
      "0   0.504545  0.504081  0.492002\n",
      "baseline_svm_rbf_kernelC10 \n",
      "\n",
      "   precision    recall        F1\n",
      "0   0.541398  0.535797  0.520697\n",
      "Advanced_svm_100K_C10 \n",
      "\n",
      "   precision    recall       F1\n",
      "0   0.542501  0.533197  0.50764\n",
      "Advanced_svm_linear_100K_C10 \n",
      "\n",
      "   precision    recall       F1\n",
      "0   0.542501  0.533197  0.50764\n",
      "hatebert_direct \n",
      "\n",
      "   precision    recall        F1\n",
      "0   0.590194  0.535325  0.454449\n",
      "hatebert_vectors \n",
      "\n",
      "   precision    recall        F1\n",
      "0   0.603766  0.558024  0.505507\n",
      "bert_base_cased_finetuned \n",
      "\n",
      "   precision    recall        F1\n",
      "0   0.579144  0.552528  0.513363\n"
     ]
    }
   ],
   "source": [
    "for model in models:\n",
    "    results = pd.DataFrame(\n",
    "    [list(precision_recall_fscore_support(df_dev['label'], df_dev[model], average='macro')[:3])],\n",
    "    columns=['precision', 'recall', 'F1'])\n",
    "    print(model, '\\n')\n",
    "    print(results)\n",
    "# results"
   ]
  },
  {
   "cell_type": "code",
   "execution_count": 13,
   "id": "1abddf9b-b43b-44df-a907-f42680dba5ef",
   "metadata": {},
   "outputs": [],
   "source": [
    "x = df_dev.baseline_svm_rbf_kernelC10 | df_dev.ResNet_svm_rbf_kernelC10"
   ]
  },
  {
   "cell_type": "code",
   "execution_count": 14,
   "id": "cf9e29d5-3943-4f8c-b7fc-51279e5efc0e",
   "metadata": {},
   "outputs": [
    {
     "data": {
      "text/html": [
       "<div>\n",
       "<style scoped>\n",
       "    .dataframe tbody tr th:only-of-type {\n",
       "        vertical-align: middle;\n",
       "    }\n",
       "\n",
       "    .dataframe tbody tr th {\n",
       "        vertical-align: top;\n",
       "    }\n",
       "\n",
       "    .dataframe thead th {\n",
       "        text-align: right;\n",
       "    }\n",
       "</style>\n",
       "<table border=\"1\" class=\"dataframe\">\n",
       "  <thead>\n",
       "    <tr style=\"text-align: right;\">\n",
       "      <th></th>\n",
       "      <th>precision</th>\n",
       "      <th>recall</th>\n",
       "      <th>F1</th>\n",
       "    </tr>\n",
       "  </thead>\n",
       "  <tbody>\n",
       "    <tr>\n",
       "      <th>0</th>\n",
       "      <td>0.532003</td>\n",
       "      <td>0.530876</td>\n",
       "      <td>0.527273</td>\n",
       "    </tr>\n",
       "  </tbody>\n",
       "</table>\n",
       "</div>"
      ],
      "text/plain": [
       "   precision    recall        F1\n",
       "0   0.532003  0.530876  0.527273"
      ]
     },
     "execution_count": 14,
     "metadata": {},
     "output_type": "execute_result"
    }
   ],
   "source": [
    "results = pd.DataFrame(\n",
    "    [list(precision_recall_fscore_support(df_dev.label, x, average='macro')[:3])],\n",
    "    columns=['precision', 'recall', 'F1'])\n",
    "results"
   ]
  },
  {
   "cell_type": "code",
   "execution_count": 18,
   "id": "7e9433e8-b308-43e7-ab7a-fcaeeebe4f23",
   "metadata": {},
   "outputs": [],
   "source": [
    "from sklearn.linear_model import LogisticRegression"
   ]
  },
  {
   "cell_type": "code",
   "execution_count": 19,
   "id": "1f15220d-f1dc-44de-aeb1-03bbecb34273",
   "metadata": {},
   "outputs": [],
   "source": [
    "meta_model = LogisticRegression()"
   ]
  },
  {
   "cell_type": "code",
   "execution_count": 21,
   "id": "43cec6a0-3dfb-4a95-bb2b-77078fce30fd",
   "metadata": {},
   "outputs": [
    {
     "data": {
      "text/html": [
       "<style>#sk-container-id-1 {color: black;background-color: white;}#sk-container-id-1 pre{padding: 0;}#sk-container-id-1 div.sk-toggleable {background-color: white;}#sk-container-id-1 label.sk-toggleable__label {cursor: pointer;display: block;width: 100%;margin-bottom: 0;padding: 0.3em;box-sizing: border-box;text-align: center;}#sk-container-id-1 label.sk-toggleable__label-arrow:before {content: \"▸\";float: left;margin-right: 0.25em;color: #696969;}#sk-container-id-1 label.sk-toggleable__label-arrow:hover:before {color: black;}#sk-container-id-1 div.sk-estimator:hover label.sk-toggleable__label-arrow:before {color: black;}#sk-container-id-1 div.sk-toggleable__content {max-height: 0;max-width: 0;overflow: hidden;text-align: left;background-color: #f0f8ff;}#sk-container-id-1 div.sk-toggleable__content pre {margin: 0.2em;color: black;border-radius: 0.25em;background-color: #f0f8ff;}#sk-container-id-1 input.sk-toggleable__control:checked~div.sk-toggleable__content {max-height: 200px;max-width: 100%;overflow: auto;}#sk-container-id-1 input.sk-toggleable__control:checked~label.sk-toggleable__label-arrow:before {content: \"▾\";}#sk-container-id-1 div.sk-estimator input.sk-toggleable__control:checked~label.sk-toggleable__label {background-color: #d4ebff;}#sk-container-id-1 div.sk-label input.sk-toggleable__control:checked~label.sk-toggleable__label {background-color: #d4ebff;}#sk-container-id-1 input.sk-hidden--visually {border: 0;clip: rect(1px 1px 1px 1px);clip: rect(1px, 1px, 1px, 1px);height: 1px;margin: -1px;overflow: hidden;padding: 0;position: absolute;width: 1px;}#sk-container-id-1 div.sk-estimator {font-family: monospace;background-color: #f0f8ff;border: 1px dotted black;border-radius: 0.25em;box-sizing: border-box;margin-bottom: 0.5em;}#sk-container-id-1 div.sk-estimator:hover {background-color: #d4ebff;}#sk-container-id-1 div.sk-parallel-item::after {content: \"\";width: 100%;border-bottom: 1px solid gray;flex-grow: 1;}#sk-container-id-1 div.sk-label:hover label.sk-toggleable__label {background-color: #d4ebff;}#sk-container-id-1 div.sk-serial::before {content: \"\";position: absolute;border-left: 1px solid gray;box-sizing: border-box;top: 0;bottom: 0;left: 50%;z-index: 0;}#sk-container-id-1 div.sk-serial {display: flex;flex-direction: column;align-items: center;background-color: white;padding-right: 0.2em;padding-left: 0.2em;position: relative;}#sk-container-id-1 div.sk-item {position: relative;z-index: 1;}#sk-container-id-1 div.sk-parallel {display: flex;align-items: stretch;justify-content: center;background-color: white;position: relative;}#sk-container-id-1 div.sk-item::before, #sk-container-id-1 div.sk-parallel-item::before {content: \"\";position: absolute;border-left: 1px solid gray;box-sizing: border-box;top: 0;bottom: 0;left: 50%;z-index: -1;}#sk-container-id-1 div.sk-parallel-item {display: flex;flex-direction: column;z-index: 1;position: relative;background-color: white;}#sk-container-id-1 div.sk-parallel-item:first-child::after {align-self: flex-end;width: 50%;}#sk-container-id-1 div.sk-parallel-item:last-child::after {align-self: flex-start;width: 50%;}#sk-container-id-1 div.sk-parallel-item:only-child::after {width: 0;}#sk-container-id-1 div.sk-dashed-wrapped {border: 1px dashed gray;margin: 0 0.4em 0.5em 0.4em;box-sizing: border-box;padding-bottom: 0.4em;background-color: white;}#sk-container-id-1 div.sk-label label {font-family: monospace;font-weight: bold;display: inline-block;line-height: 1.2em;}#sk-container-id-1 div.sk-label-container {text-align: center;}#sk-container-id-1 div.sk-container {/* jupyter's `normalize.less` sets `[hidden] { display: none; }` but bootstrap.min.css set `[hidden] { display: none !important; }` so we also need the `!important` here to be able to override the default hidden behavior on the sphinx rendered scikit-learn.org. See: https://github.com/scikit-learn/scikit-learn/issues/21755 */display: inline-block !important;position: relative;}#sk-container-id-1 div.sk-text-repr-fallback {display: none;}</style><div id=\"sk-container-id-1\" class=\"sk-top-container\"><div class=\"sk-text-repr-fallback\"><pre>LogisticRegression()</pre><b>In a Jupyter environment, please rerun this cell to show the HTML representation or trust the notebook. <br />On GitHub, the HTML representation is unable to render, please try loading this page with nbviewer.org.</b></div><div class=\"sk-container\" hidden><div class=\"sk-item\"><div class=\"sk-estimator sk-toggleable\"><input class=\"sk-toggleable__control sk-hidden--visually\" id=\"sk-estimator-id-1\" type=\"checkbox\" checked><label for=\"sk-estimator-id-1\" class=\"sk-toggleable__label sk-toggleable__label-arrow\">LogisticRegression</label><div class=\"sk-toggleable__content\"><pre>LogisticRegression()</pre></div></div></div></div></div>"
      ],
      "text/plain": [
       "LogisticRegression()"
      ]
     },
     "execution_count": 21,
     "metadata": {},
     "output_type": "execute_result"
    }
   ],
   "source": [
    "meta_model.fit(df_dev[models], df_dev.label)"
   ]
  },
  {
   "cell_type": "code",
   "execution_count": 22,
   "id": "9d2631e1-6997-495c-8a91-691307bf722b",
   "metadata": {},
   "outputs": [],
   "source": [
    "pred = meta_model.predict(df_test[models])"
   ]
  },
  {
   "cell_type": "code",
   "execution_count": 24,
   "id": "da3409c9-ca01-4579-a8a9-2c812667a63e",
   "metadata": {},
   "outputs": [
    {
     "data": {
      "text/html": [
       "<div>\n",
       "<style scoped>\n",
       "    .dataframe tbody tr th:only-of-type {\n",
       "        vertical-align: middle;\n",
       "    }\n",
       "\n",
       "    .dataframe tbody tr th {\n",
       "        vertical-align: top;\n",
       "    }\n",
       "\n",
       "    .dataframe thead th {\n",
       "        text-align: right;\n",
       "    }\n",
       "</style>\n",
       "<table border=\"1\" class=\"dataframe\">\n",
       "  <thead>\n",
       "    <tr style=\"text-align: right;\">\n",
       "      <th></th>\n",
       "      <th>precision</th>\n",
       "      <th>recall</th>\n",
       "      <th>F1</th>\n",
       "    </tr>\n",
       "  </thead>\n",
       "  <tbody>\n",
       "    <tr>\n",
       "      <th>0</th>\n",
       "      <td>0.522944</td>\n",
       "      <td>0.521449</td>\n",
       "      <td>0.514759</td>\n",
       "    </tr>\n",
       "  </tbody>\n",
       "</table>\n",
       "</div>"
      ],
      "text/plain": [
       "   precision    recall        F1\n",
       "0   0.522944  0.521449  0.514759"
      ]
     },
     "execution_count": 24,
     "metadata": {},
     "output_type": "execute_result"
    }
   ],
   "source": [
    "results = pd.DataFrame(\n",
    "    [list(precision_recall_fscore_support(df_test.label, pred, average='macro')[:3])],\n",
    "    columns=['precision', 'recall', 'F1'])\n",
    "results"
   ]
  },
  {
   "cell_type": "code",
   "execution_count": null,
   "id": "c2fa1e2c-a673-4e7a-a164-7d395549bccd",
   "metadata": {},
   "outputs": [],
   "source": []
  }
 ],
 "metadata": {
  "kernelspec": {
   "display_name": "Python 3 (ipykernel)",
   "language": "python",
   "name": "python3"
  },
  "language_info": {
   "codemirror_mode": {
    "name": "ipython",
    "version": 3
   },
   "file_extension": ".py",
   "mimetype": "text/x-python",
   "name": "python",
   "nbconvert_exporter": "python",
   "pygments_lexer": "ipython3",
   "version": "3.10.6"
  }
 },
 "nbformat": 4,
 "nbformat_minor": 5
}
