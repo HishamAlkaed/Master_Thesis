{
 "cells": [
  {
   "cell_type": "code",
   "execution_count": 26,
   "id": "33a8a7cc-4354-4976-855f-2fa64541a2c1",
   "metadata": {},
   "outputs": [],
   "source": [
    "import numpy as np\n",
    "import pandas as pd\n",
    "from sklearn.svm import LinearSVC\n",
    "from sklearn.metrics import precision_recall_fscore_support\n",
    "from utils import *"
   ]
  },
  {
   "cell_type": "code",
   "execution_count": 27,
   "id": "0c442d88-219b-4a7f-8f0e-b842d6e3bf0c",
   "metadata": {},
   "outputs": [],
   "source": [
    "datafolder = '../../data/hateful_memes/'\n",
    "train = datafolder+'train_with_features.csv'\n",
    "test = datafolder+'test_with_features.csv'\n",
    "dev = datafolder+'dev_with_features.csv'\n",
    "df_train = pd.read_csv(train, skip_blank_lines=False)\n",
    "df_dev = pd.read_csv(dev, skip_blank_lines=False)\n",
    "df_test = pd.read_csv(test, skip_blank_lines=False)"
   ]
  },
  {
   "cell_type": "code",
   "execution_count": 28,
   "id": "657d006f-08d6-4033-9e15-3a7dd5c1e747",
   "metadata": {},
   "outputs": [
    {
     "data": {
      "text/plain": [
       "Index(['id', 'img', 'label', 'text', 'tokens', 'lemmas', 'upos', 'pos_fw_emo',\n",
       "       'count', 'emotion_associations', 'sentiment_score', 'intent',\n",
       "       'ResNet_svm_rbf_kernel', 'ResNet_svm_rbf_kernelC10',\n",
       "       'ResNet_svm_linear_kernel', 'baseline_svm_rbf_kernelC10',\n",
       "       'Advanced_svm_100K_C10', 'Advanced_svm_linear_100K_C10',\n",
       "       'ResNet_svm_linear_kernelC10', 'hatebert_direct', 'hatebert_vectors',\n",
       "       'bert_base_cased_finetuned', 'ResNet_nn'],\n",
       "      dtype='object')"
      ]
     },
     "execution_count": 28,
     "metadata": {},
     "output_type": "execute_result"
    }
   ],
   "source": [
    "df_dev.columns"
   ]
  },
  {
   "cell_type": "code",
   "execution_count": 29,
   "id": "dd0ff339-de6b-4317-bdda-cb0eab8a37bb",
   "metadata": {},
   "outputs": [],
   "source": [
    "models = ['label','ResNet_svm_rbf_kernel', 'ResNet_svm_rbf_kernelC10',\n",
    "       'ResNet_svm_linear_kernel', 'baseline_svm_rbf_kernelC10',\n",
    "       'Advanced_svm_linear_100K_C10',\n",
    "       'ResNet_svm_linear_kernelC10', 'hatebert_direct', 'hatebert_vectors',\n",
    "       'bert_base_cased_finetuned', 'ResNet_nn']\n",
    "models = np.sort(models)"
   ]
  },
  {
   "cell_type": "code",
   "execution_count": 6,
   "id": "5c8271e7-129a-4d80-8b12-8dcb263d4b6d",
   "metadata": {},
   "outputs": [
    {
     "data": {
      "text/html": [
       "<div>\n",
       "<style scoped>\n",
       "    .dataframe tbody tr th:only-of-type {\n",
       "        vertical-align: middle;\n",
       "    }\n",
       "\n",
       "    .dataframe tbody tr th {\n",
       "        vertical-align: top;\n",
       "    }\n",
       "\n",
       "    .dataframe thead th {\n",
       "        text-align: right;\n",
       "    }\n",
       "</style>\n",
       "<table border=\"1\" class=\"dataframe\">\n",
       "  <thead>\n",
       "    <tr style=\"text-align: right;\">\n",
       "      <th></th>\n",
       "      <th>models</th>\n",
       "      <th>F1-score</th>\n",
       "    </tr>\n",
       "  </thead>\n",
       "  <tbody>\n",
       "    <tr>\n",
       "      <th>6</th>\n",
       "      <td>baseline_svm_rbf_kernelC10</td>\n",
       "      <td>0.520697</td>\n",
       "    </tr>\n",
       "    <tr>\n",
       "      <th>7</th>\n",
       "      <td>bert_base_cased_finetuned</td>\n",
       "      <td>0.513363</td>\n",
       "    </tr>\n",
       "    <tr>\n",
       "      <th>0</th>\n",
       "      <td>Advanced_svm_linear_100K_C10</td>\n",
       "      <td>0.507640</td>\n",
       "    </tr>\n",
       "    <tr>\n",
       "      <th>9</th>\n",
       "      <td>hatebert_vectors</td>\n",
       "      <td>0.505507</td>\n",
       "    </tr>\n",
       "    <tr>\n",
       "      <th>3</th>\n",
       "      <td>ResNet_svm_linear_kernelC10</td>\n",
       "      <td>0.492002</td>\n",
       "    </tr>\n",
       "    <tr>\n",
       "      <th>2</th>\n",
       "      <td>ResNet_svm_linear_kernel</td>\n",
       "      <td>0.484847</td>\n",
       "    </tr>\n",
       "    <tr>\n",
       "      <th>1</th>\n",
       "      <td>ResNet_nn</td>\n",
       "      <td>0.475463</td>\n",
       "    </tr>\n",
       "    <tr>\n",
       "      <th>8</th>\n",
       "      <td>hatebert_direct</td>\n",
       "      <td>0.454449</td>\n",
       "    </tr>\n",
       "    <tr>\n",
       "      <th>5</th>\n",
       "      <td>ResNet_svm_rbf_kernelC10</td>\n",
       "      <td>0.437037</td>\n",
       "    </tr>\n",
       "    <tr>\n",
       "      <th>4</th>\n",
       "      <td>ResNet_svm_rbf_kernel</td>\n",
       "      <td>0.366971</td>\n",
       "    </tr>\n",
       "  </tbody>\n",
       "</table>\n",
       "</div>"
      ],
      "text/plain": [
       "                         models  F1-score\n",
       "6    baseline_svm_rbf_kernelC10  0.520697\n",
       "7     bert_base_cased_finetuned  0.513363\n",
       "0  Advanced_svm_linear_100K_C10  0.507640\n",
       "9              hatebert_vectors  0.505507\n",
       "3   ResNet_svm_linear_kernelC10  0.492002\n",
       "2      ResNet_svm_linear_kernel  0.484847\n",
       "1                     ResNet_nn  0.475463\n",
       "8               hatebert_direct  0.454449\n",
       "5      ResNet_svm_rbf_kernelC10  0.437037\n",
       "4         ResNet_svm_rbf_kernel  0.366971"
      ]
     },
     "execution_count": 6,
     "metadata": {},
     "output_type": "execute_result"
    }
   ],
   "source": [
    "utils.get_f1(df_dev[models])"
   ]
  },
  {
   "cell_type": "code",
   "execution_count": 7,
   "id": "df283c85-103b-4736-822d-50bac1f17701",
   "metadata": {},
   "outputs": [
    {
     "data": {
      "text/html": [
       "<div>\n",
       "<style scoped>\n",
       "    .dataframe tbody tr th:only-of-type {\n",
       "        vertical-align: middle;\n",
       "    }\n",
       "\n",
       "    .dataframe tbody tr th {\n",
       "        vertical-align: top;\n",
       "    }\n",
       "\n",
       "    .dataframe thead th {\n",
       "        text-align: right;\n",
       "    }\n",
       "</style>\n",
       "<table border=\"1\" class=\"dataframe\">\n",
       "  <thead>\n",
       "    <tr style=\"text-align: right;\">\n",
       "      <th></th>\n",
       "      <th>models</th>\n",
       "      <th>F1-score</th>\n",
       "    </tr>\n",
       "  </thead>\n",
       "  <tbody>\n",
       "    <tr>\n",
       "      <th>7</th>\n",
       "      <td>bert_base_cased_finetuned</td>\n",
       "      <td>0.547202</td>\n",
       "    </tr>\n",
       "    <tr>\n",
       "      <th>0</th>\n",
       "      <td>Advanced_svm_linear_100K_C10</td>\n",
       "      <td>0.512552</td>\n",
       "    </tr>\n",
       "    <tr>\n",
       "      <th>9</th>\n",
       "      <td>hatebert_vectors</td>\n",
       "      <td>0.504715</td>\n",
       "    </tr>\n",
       "    <tr>\n",
       "      <th>6</th>\n",
       "      <td>baseline_svm_rbf_kernelC10</td>\n",
       "      <td>0.502887</td>\n",
       "    </tr>\n",
       "    <tr>\n",
       "      <th>1</th>\n",
       "      <td>ResNet_nn</td>\n",
       "      <td>0.501992</td>\n",
       "    </tr>\n",
       "    <tr>\n",
       "      <th>3</th>\n",
       "      <td>ResNet_svm_linear_kernelC10</td>\n",
       "      <td>0.481481</td>\n",
       "    </tr>\n",
       "    <tr>\n",
       "      <th>2</th>\n",
       "      <td>ResNet_svm_linear_kernel</td>\n",
       "      <td>0.459600</td>\n",
       "    </tr>\n",
       "    <tr>\n",
       "      <th>5</th>\n",
       "      <td>ResNet_svm_rbf_kernelC10</td>\n",
       "      <td>0.458421</td>\n",
       "    </tr>\n",
       "    <tr>\n",
       "      <th>8</th>\n",
       "      <td>hatebert_direct</td>\n",
       "      <td>0.426173</td>\n",
       "    </tr>\n",
       "    <tr>\n",
       "      <th>4</th>\n",
       "      <td>ResNet_svm_rbf_kernel</td>\n",
       "      <td>0.389190</td>\n",
       "    </tr>\n",
       "  </tbody>\n",
       "</table>\n",
       "</div>"
      ],
      "text/plain": [
       "                         models  F1-score\n",
       "7     bert_base_cased_finetuned  0.547202\n",
       "0  Advanced_svm_linear_100K_C10  0.512552\n",
       "9              hatebert_vectors  0.504715\n",
       "6    baseline_svm_rbf_kernelC10  0.502887\n",
       "1                     ResNet_nn  0.501992\n",
       "3   ResNet_svm_linear_kernelC10  0.481481\n",
       "2      ResNet_svm_linear_kernel  0.459600\n",
       "5      ResNet_svm_rbf_kernelC10  0.458421\n",
       "8               hatebert_direct  0.426173\n",
       "4         ResNet_svm_rbf_kernel  0.389190"
      ]
     },
     "execution_count": 7,
     "metadata": {},
     "output_type": "execute_result"
    }
   ],
   "source": [
    "utils.get_f1(df_test[models])"
   ]
  },
  {
   "cell_type": "code",
   "execution_count": 8,
   "id": "a442a1c9-7a39-434d-a652-f2ad62fe0ef0",
   "metadata": {},
   "outputs": [],
   "source": [
    "# models = ['bert_base_cased_finetuned', 'Advanced_svm_linear_100K_C10', 'hatebert_vectors',\n",
    "#           'ResNet_nn', 'ResNet_svm_linear_kernelC10', 'ResNet_svm_linear_kernel']\n",
    "# models = ['ResNet_svm_rbf_kernel', 'ResNet_svm_rbf_kernelC10',\n",
    "#        'ResNet_svm_linear_kernel', 'baseline_svm_rbf_kernelC10',\n",
    "#        'Advanced_svm_linear_100K_C10',\n",
    "#        'ResNet_svm_linear_kernelC10', 'hatebert_direct', 'hatebert_vectors',\n",
    "#        'bert_base_cased_finetuned', 'ResNet_nn']\n",
    "models = ['ResNet_svm_rbf_kernelC10', 'ResNet_svm_linear_kernel', 'ResNet_svm_linear_kernelC10', 'ResNet_nn',\n",
    " 'hatebert_direct', 'hatebert_vectors', 'bert_base_cased_finetuned', 'Advanced_svm_linear_100K_C10']\n",
    "# 4ResNets models 3 berts and 1 6features svm"
   ]
  },
  {
   "cell_type": "code",
   "execution_count": 25,
   "id": "3c83b0ad-5e56-4aee-9d63-617f7c6eff29",
   "metadata": {},
   "outputs": [
    {
     "name": "stdout",
     "output_type": "stream",
     "text": [
      "ResNet_svm_rbf_kernelC10\n",
      "ResNet_svm_linear_kernel\n",
      "ResNet_svm_linear_kernelC10\n",
      "ResNet_nn\n",
      "hatebert_direct\n",
      "hatebert_vectors\n",
      "bert_base_cased_finetuned\n",
      "Advanced_svm_linear_100K_C10\n"
     ]
    }
   ],
   "source": [
    "print('\\n'.join(models))"
   ]
  },
  {
   "cell_type": "markdown",
   "id": "03bcf4b0-82fc-42a4-8ae1-a8fd66332569",
   "metadata": {},
   "source": [
    "# combining predictions of multiple models in one"
   ]
  },
  {
   "cell_type": "code",
   "execution_count": 30,
   "id": "ff86e675-73c4-4b6e-9e7d-6c3aae3cd5ef",
   "metadata": {},
   "outputs": [],
   "source": [
    "models = [ 'Advanced_svm_100K_C10', 'ResNet_nn' ]"
   ]
  },
  {
   "cell_type": "code",
   "execution_count": 31,
   "id": "6034a50a-ef46-4469-937b-4812ceca66b7",
   "metadata": {},
   "outputs": [
    {
     "name": "stdout",
     "output_type": "stream",
     "text": [
      "0.5084772503853296\n"
     ]
    }
   ],
   "source": [
    "combi = df_test[models].apply(lambda row: any(row), axis=1)\n",
    "print(f1_score(df_test['label'], combi, average='macro'))"
   ]
  },
  {
   "cell_type": "code",
   "execution_count": 32,
   "id": "29086e86-a573-4ca3-bdea-bb1bf5e957b0",
   "metadata": {},
   "outputs": [
    {
     "name": "stdout",
     "output_type": "stream",
     "text": [
      "0.48297918429237635\n"
     ]
    }
   ],
   "source": [
    "combi = df_dev[models].apply(lambda row: any(row), axis=1)\n",
    "print(f1_score(df_dev['label'], combi, average='macro'))"
   ]
  },
  {
   "cell_type": "code",
   "execution_count": 16,
   "id": "90a19836-b356-4ef9-a375-c71e42053efb",
   "metadata": {},
   "outputs": [],
   "source": [
    "clf_svc = LinearSVC()\n",
    "Y_train = df_dev['label']\n",
    "clf_svc.fit(df_dev[models], Y_train)\n",
    "Y_pred = clf_svc.predict(df_test[models])"
   ]
  },
  {
   "cell_type": "code",
   "execution_count": 17,
   "id": "45347847-bad6-41fb-81e7-657b1362dac4",
   "metadata": {},
   "outputs": [
    {
     "data": {
      "text/html": [
       "<div>\n",
       "<style scoped>\n",
       "    .dataframe tbody tr th:only-of-type {\n",
       "        vertical-align: middle;\n",
       "    }\n",
       "\n",
       "    .dataframe tbody tr th {\n",
       "        vertical-align: top;\n",
       "    }\n",
       "\n",
       "    .dataframe thead th {\n",
       "        text-align: right;\n",
       "    }\n",
       "</style>\n",
       "<table border=\"1\" class=\"dataframe\">\n",
       "  <thead>\n",
       "    <tr style=\"text-align: right;\">\n",
       "      <th></th>\n",
       "      <th>precision</th>\n",
       "      <th>recall</th>\n",
       "      <th>F1</th>\n",
       "    </tr>\n",
       "  </thead>\n",
       "  <tbody>\n",
       "    <tr>\n",
       "      <th>0</th>\n",
       "      <td>0.602959</td>\n",
       "      <td>0.594098</td>\n",
       "      <td>0.586815</td>\n",
       "    </tr>\n",
       "  </tbody>\n",
       "</table>\n",
       "</div>"
      ],
      "text/plain": [
       "   precision    recall        F1\n",
       "0   0.602959  0.594098  0.586815"
      ]
     },
     "execution_count": 17,
     "metadata": {},
     "output_type": "execute_result"
    }
   ],
   "source": [
    "results = pd.DataFrame(\n",
    "    [list(precision_recall_fscore_support(df_test['label'], Y_pred, average='macro')[:3])],\n",
    "    columns=['precision', 'recall', 'F1'])\n",
    "results"
   ]
  },
  {
   "cell_type": "code",
   "execution_count": 60,
   "id": "a2983f10-3d53-4617-8069-52f822000936",
   "metadata": {},
   "outputs": [
    {
     "name": "stdout",
     "output_type": "stream",
     "text": [
      "Best combination: ['ResNet_svm_rbf_kernelC10', 'ResNet_svm_linear_kernel', 'ResNet_svm_linear_kernelC10', 'ResNet_nn', 'hatebert_direct', 'hatebert_vectors', 'bert_base_cased_finetuned', 'Advanced_svm_linear_100K_C10'], F1-score: 0.6207430340557276\n"
     ]
    }
   ],
   "source": [
    "best_score, best_columns = utils.find_best_column_combination(df_test, models)\n",
    "\n",
    "print(f\"Best combination: {best_columns}, F1-score: {best_score}\")\n"
   ]
  },
  {
   "cell_type": "code",
   "execution_count": 70,
   "id": "d7cb951c-3f57-47f6-9441-cec0e4674f7d",
   "metadata": {},
   "outputs": [
    {
     "name": "stdout",
     "output_type": "stream",
     "text": [
      "0.4643263192877508\n"
     ]
    }
   ],
   "source": [
    "# best_combi = ['Advanced_svm_100K_C10', 'ResNet_nn', 'ResNet_svm_linear_kernel', 'ResNet_svm_linear_kernelC10', 'ResNet_svm_rbf_kernelC10', 'bert_base_cased_finetuned', 'hatebert_direct', 'hatebert_vectors']\n",
    "# best_combi = ['Advanced_svm_100K_C10', 'ResNet_nn', 'ResNet_svm_linear_kernel', 'ResNet_svm_linear_kernelC10', 'ResNet_svm_rbf_kernelC10', 'baseline_svm_rbf_kernelC10', 'bert_base_cased_finetuned', 'hatebert_direct', 'hatebert_vectors']\n",
    "combi = df_test[best_combi].apply(lambda row: any(row), axis=1)\n",
    "print(f1_score(df_test['label'], combi, average='macro'))"
   ]
  },
  {
   "cell_type": "code",
   "execution_count": null,
   "id": "e495c182-db07-4403-8399-53a04b2e7bfd",
   "metadata": {},
   "outputs": [],
   "source": []
  }
 ],
 "metadata": {
  "kernelspec": {
   "display_name": "Python 3 (ipykernel)",
   "language": "python",
   "name": "python3"
  },
  "language_info": {
   "codemirror_mode": {
    "name": "ipython",
    "version": 3
   },
   "file_extension": ".py",
   "mimetype": "text/x-python",
   "name": "python",
   "nbconvert_exporter": "python",
   "pygments_lexer": "ipython3",
   "version": "3.10.7"
  }
 },
 "nbformat": 4,
 "nbformat_minor": 5
}
